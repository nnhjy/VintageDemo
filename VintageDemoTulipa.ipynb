{
 "cells": [
  {
   "attachments": {},
   "cell_type": "markdown",
   "metadata": {},
   "source": [
    "# Setup workflow environment"
   ]
  },
  {
   "cell_type": "code",
   "execution_count": 1,
   "metadata": {},
   "outputs": [
    {
     "name": "stderr",
     "output_type": "stream",
     "text": [
      "\u001b[32m\u001b[1m  Activating\u001b[22m\u001b[39m project at `~/Projects/VintageDemo`\n"
     ]
    }
   ],
   "source": [
    "using Pkg; Pkg.activate(@__DIR__)\n",
    "\n",
    "import TulipaIO as TIO\n",
    "import TulipaEnergyModel as TEM\n",
    "import TulipaClustering as TC\n",
    "using DuckDB\n",
    "using DataFrames\n",
    "using Plots\n",
    "\n",
    "# For Win. system to fix the KaTex parse error in Jupyter Notebook\n",
    "Base.show(stdout, ::MIME\"text/latex\", df::DataFrame) = show(stdout, MIME(\"text/plain\"), df)\n",
    "\n",
    "#= For utility functions\n",
    "    - print_annual_total_prod(DBconnection, years...)\n",
    "=#\n",
    "include(\"./util.jl\");"
   ]
  },
  {
   "attachments": {},
   "cell_type": "markdown",
   "metadata": {},
   "source": [
    "# Multi-year investment model instances"
   ]
  },
  {
   "attachments": {},
   "cell_type": "markdown",
   "metadata": {},
   "source": [
    "- Milestone years: 2030, 2040 and 2050.\n",
    "- The system has 30GW initial wind capacity built in 2025, the model can choose to invest in wind in three milestone years: 2030, 2040, 2050.\n",
    "- unused tables: `flow-both.csv`, `flows-profiles.csv`"
   ]
  },
  {
   "attachments": {},
   "cell_type": "markdown",
   "metadata": {},
   "source": [
    "## 1: Without unit vintage"
   ]
  },
  {
   "cell_type": "markdown",
   "metadata": {},
   "source": [
    "> Note: the `output_dir` must exist/(be created) beforehand "
   ]
  },
  {
   "attachments": {},
   "cell_type": "markdown",
   "metadata": {},
   "source": [
    "### 1.1 Build and run the model instance"
   ]
  },
  {
   "cell_type": "code",
   "execution_count": 2,
   "metadata": {},
   "outputs": [
    {
     "data": {
      "text/plain": [
       "EnergyProblem:\n",
       "  - Model created!\n",
       "    - Number of variables: 315363\n",
       "    - Number of constraints for variable bounds: 315363\n",
       "    - Number of structural constraints: 341640\n",
       "  - Model solved!\n",
       "    - Termination status: OPTIMAL\n",
       "    - Objective value: 1.2493185954028405e6\n"
      ]
     },
     "metadata": {},
     "output_type": "display_data"
    }
   ],
   "source": [
    "connection = DBInterface.connect(DuckDB.DB)\n",
    "input_dir = \"model-instance-Tulipa/inputs-no-vintage\"\n",
    "output_dir = joinpath(@__DIR__, \"model-instance-Tulipa/outputs-no-vintage\")\n",
    "\n",
    "# Always build a new result directory\n",
    "rm(output_dir, force=true, recursive=true) \n",
    "mkdir(output_dir);\n",
    "\n",
    "# Create the connection and prepare input data\n",
    "connection_no_vintage = DBInterface.connect(DuckDB.DB)\n",
    "TIO.read_csv_folder(connection_no_vintage, input_dir)\n",
    "TEM.populate_with_defaults!(connection_no_vintage)\n",
    "\n",
    "# Run the model instance\n",
    "multiyear_no_vintage = TEM.run_scenario(\n",
    "    connection_no_vintage;\n",
    "    model_parameters_file = joinpath(@__DIR__, input_dir, \"model-parameters.toml\"),\n",
    "    output_folder = output_dir, \n",
    "    # model_file_name = joinpath(output_dir, \"model.lp\"),\n",
    "    show_log=false,\n",
    "    log_file = joinpath(output_dir, \"model-log_no-vintage.txt\")\n",
    ")"
   ]
  },
  {
   "attachments": {},
   "cell_type": "markdown",
   "metadata": {},
   "source": [
    "### 1.2 Key results"
   ]
  },
  {
   "attachments": {},
   "cell_type": "markdown",
   "metadata": {},
   "source": [
    "#### Capacity"
   ]
  },
  {
   "attachments": {},
   "cell_type": "markdown",
   "metadata": {},
   "source": [
    "Check the \"initial capacity\" \n",
    "\n",
    "- in this case, we will not be able to differentiate units built in other years (than milestone years), \n",
    "- they will simply be considered the same as the units built in the milestone year."
   ]
  },
  {
   "cell_type": "code",
   "execution_count": 3,
   "metadata": {},
   "outputs": [
    {
     "data": {
      "text/html": [
       "<div><div style = \"float: left;\"><span>3×6 DataFrame</span></div><div style = \"clear: both;\"></div></div><div class = \"data-frame\" style = \"overflow-x: scroll;\"><table class = \"data-frame\" style = \"margin-bottom: 6px;\"><thead><tr class = \"header\"><th class = \"rowNumber\" style = \"font-weight: bold; text-align: right;\">Row</th><th style = \"text-align: left;\">asset</th><th style = \"text-align: left;\">milestone_year</th><th style = \"text-align: left;\">commission_year</th><th style = \"text-align: left;\">decommissionable</th><th style = \"text-align: left;\">initial_units</th><th style = \"text-align: left;\">initial_storage_units</th></tr><tr class = \"subheader headerLastRow\"><th class = \"rowNumber\" style = \"font-weight: bold; text-align: right;\"></th><th title = \"String\" style = \"text-align: left;\">String</th><th title = \"Int32\" style = \"text-align: left;\">Int32</th><th title = \"Int32\" style = \"text-align: left;\">Int32</th><th title = \"Bool\" style = \"text-align: left;\">Bool</th><th title = \"Float64\" style = \"text-align: left;\">Float64</th><th title = \"Float64\" style = \"text-align: left;\">Float64</th></tr></thead><tbody><tr><td class = \"rowNumber\" style = \"font-weight: bold; text-align: right;\">1</td><td style = \"text-align: left;\">wind</td><td style = \"text-align: right;\">2030</td><td style = \"text-align: right;\">2030</td><td style = \"text-align: right;\">false</td><td style = \"text-align: right;\">30.0</td><td style = \"text-align: right;\">0.0</td></tr><tr><td class = \"rowNumber\" style = \"font-weight: bold; text-align: right;\">2</td><td style = \"text-align: left;\">wind</td><td style = \"text-align: right;\">2040</td><td style = \"text-align: right;\">2040</td><td style = \"text-align: right;\">false</td><td style = \"text-align: right;\">30.0</td><td style = \"text-align: right;\">0.0</td></tr><tr><td class = \"rowNumber\" style = \"font-weight: bold; text-align: right;\">3</td><td style = \"text-align: left;\">wind</td><td style = \"text-align: right;\">2050</td><td style = \"text-align: right;\">2050</td><td style = \"text-align: right;\">false</td><td style = \"text-align: right;\">30.0</td><td style = \"text-align: right;\">0.0</td></tr></tbody></table></div>"
      ],
      "text/plain": [
       "\u001b[1m3×6 DataFrame\u001b[0m\n",
       "\u001b[1m Row \u001b[0m│\u001b[1m asset  \u001b[0m\u001b[1m milestone_year \u001b[0m\u001b[1m commission_year \u001b[0m\u001b[1m decommissionable \u001b[0m\u001b[1m initial_unit\u001b[0m ⋯\n",
       "     │\u001b[90m String \u001b[0m\u001b[90m Int32          \u001b[0m\u001b[90m Int32           \u001b[0m\u001b[90m Bool             \u001b[0m\u001b[90m Float64     \u001b[0m ⋯\n",
       "─────┼──────────────────────────────────────────────────────────────────────────\n",
       "   1 │ wind              2030             2030             false           30. ⋯\n",
       "   2 │ wind              2040             2040             false           30.\n",
       "   3 │ wind              2050             2050             false           30.\n",
       "\u001b[36m                                                               2 columns omitted\u001b[0m"
      ]
     },
     "metadata": {},
     "output_type": "display_data"
    }
   ],
   "source": [
    "# initial wind capacity\n",
    "filter(row -> row.asset==\"wind\", TIO.get_table(connection_no_vintage, \"asset_both\"))"
   ]
  },
  {
   "cell_type": "code",
   "execution_count": 4,
   "metadata": {},
   "outputs": [
    {
     "data": {
      "text/html": [
       "<div><div style = \"float: left;\"><span>3×7 DataFrame</span></div><div style = \"clear: both;\"></div></div><div class = \"data-frame\" style = \"overflow-x: scroll;\"><table class = \"data-frame\" style = \"margin-bottom: 6px;\"><thead><tr class = \"header\"><th class = \"rowNumber\" style = \"font-weight: bold; text-align: right;\">Row</th><th style = \"text-align: left;\">id</th><th style = \"text-align: left;\">asset</th><th style = \"text-align: left;\">milestone_year</th><th style = \"text-align: left;\">investment_integer</th><th style = \"text-align: left;\">capacity</th><th style = \"text-align: left;\">investment_limit</th><th style = \"text-align: left;\">solution</th></tr><tr class = \"subheader headerLastRow\"><th class = \"rowNumber\" style = \"font-weight: bold; text-align: right;\"></th><th title = \"Int64\" style = \"text-align: left;\">Int64</th><th title = \"String\" style = \"text-align: left;\">String</th><th title = \"Int32\" style = \"text-align: left;\">Int32</th><th title = \"Bool\" style = \"text-align: left;\">Bool</th><th title = \"Float64\" style = \"text-align: left;\">Float64</th><th title = \"Float64\" style = \"text-align: left;\">Float64</th><th title = \"Float64\" style = \"text-align: left;\">Float64</th></tr></thead><tbody><tr><td class = \"rowNumber\" style = \"font-weight: bold; text-align: right;\">1</td><td style = \"text-align: right;\">1</td><td style = \"text-align: left;\">wind</td><td style = \"text-align: right;\">2030</td><td style = \"text-align: right;\">true</td><td style = \"text-align: right;\">1.0</td><td style = \"text-align: right;\">107.567</td><td style = \"text-align: right;\">107.0</td></tr><tr><td class = \"rowNumber\" style = \"font-weight: bold; text-align: right;\">2</td><td style = \"text-align: right;\">2</td><td style = \"text-align: left;\">wind</td><td style = \"text-align: right;\">2040</td><td style = \"text-align: right;\">true</td><td style = \"text-align: right;\">1.0</td><td style = \"text-align: right;\">186.156</td><td style = \"text-align: right;\">166.0</td></tr><tr><td class = \"rowNumber\" style = \"font-weight: bold; text-align: right;\">3</td><td style = \"text-align: right;\">3</td><td style = \"text-align: left;\">wind</td><td style = \"text-align: right;\">2050</td><td style = \"text-align: right;\">true</td><td style = \"text-align: right;\">1.0</td><td style = \"text-align: right;\">217.081</td><td style = \"text-align: right;\">34.0</td></tr></tbody></table></div>"
      ],
      "text/plain": [
       "\u001b[1m3×7 DataFrame\u001b[0m\n",
       "\u001b[1m Row \u001b[0m│\u001b[1m id    \u001b[0m\u001b[1m asset  \u001b[0m\u001b[1m milestone_year \u001b[0m\u001b[1m investment_integer \u001b[0m\u001b[1m capacity \u001b[0m\u001b[1m investment\u001b[0m ⋯\n",
       "     │\u001b[90m Int64 \u001b[0m\u001b[90m String \u001b[0m\u001b[90m Int32          \u001b[0m\u001b[90m Bool               \u001b[0m\u001b[90m Float64  \u001b[0m\u001b[90m Float64   \u001b[0m ⋯\n",
       "─────┼──────────────────────────────────────────────────────────────────────────\n",
       "   1 │     1  wind              2030                true       1.0           1 ⋯\n",
       "   2 │     2  wind              2040                true       1.0           1\n",
       "   3 │     3  wind              2050                true       1.0           2\n",
       "\u001b[36m                                                               2 columns omitted\u001b[0m"
      ]
     },
     "metadata": {},
     "output_type": "display_data"
    }
   ],
   "source": [
    "# invested capacity\n",
    "filter(row -> row.asset==\"wind\", TIO.get_table(connection_no_vintage, \"var_assets_investment\"))"
   ]
  },
  {
   "attachments": {},
   "cell_type": "markdown",
   "metadata": {},
   "source": [
    "#### Annual productions & total system cost"
   ]
  },
  {
   "cell_type": "code",
   "execution_count": 5,
   "metadata": {},
   "outputs": [
    {
     "name": "stdout",
     "output_type": "stream",
     "text": [
      "2030s\n",
      "\t wind prodution: 665.62 TWh p.a."
     ]
    },
    {
     "name": "stdout",
     "output_type": "stream",
     "text": [
      "\t market supply: 313.29 TWh p.a.\n",
      "2040s\n",
      "\t wind prodution: 1413.94 TWh p.a."
     ]
    },
    {
     "name": "stdout",
     "output_type": "stream",
     "text": [
      "\t market supply: 516.3 TWh p.a.\n",
      "2050s\n",
      "\t wind prodution: 1489.76 TWh p.a."
     ]
    },
    {
     "name": "stdout",
     "output_type": "stream",
     "text": [
      "\t market supply: 753.49 TWh p.a.\n",
      "Total system cost: 1249.32 Billion €\n"
     ]
    }
   ],
   "source": [
    "print_annual_total_prod(connection_no_vintage, 2030, 2040, 2050)\n",
    "println(\"Total system cost: $(round(multiyear_no_vintage.objective_value/1000, digits=2)) Billion €\")"
   ]
  },
  {
   "attachments": {},
   "cell_type": "markdown",
   "metadata": {},
   "source": [
    "## 2: Explicit unit vintage\n",
    "\n",
    "- Difference from case 1: `asset.csv`, `asset-milestone.csv`, `asset-commission.csv`, `asset-both`, `assets-profiles.csv`, `flow*.csv`\n",
    "- In any milestone year, only the tech. vintage of the same year is available for investment (explicitly regulated by setting the `investable` parameter in `asset-milestone.csv`)"
   ]
  },
  {
   "attachments": {},
   "cell_type": "markdown",
   "metadata": {},
   "source": [
    "### 2.1 Build and run the model instance"
   ]
  },
  {
   "cell_type": "code",
   "execution_count": 2,
   "metadata": {},
   "outputs": [
    {
     "data": {
      "text/plain": [
       "EnergyProblem:\n",
       "  - Model created!\n",
       "    - Number of variables: 788403\n",
       "    - Number of constraints for variable bounds: 788403\n",
       "    - Number of structural constraints: 420480\n",
       "  - Model solved!\n",
       "    - Termination status: OPTIMAL\n",
       "    - Objective value: 1.2205387507129149e6\n"
      ]
     },
     "metadata": {},
     "output_type": "display_data"
    }
   ],
   "source": [
    "# Define and build the input output directories\n",
    "input_dir = \"model-instance-Tulipa/inputs-vintage-standard\"\n",
    "output_dir = joinpath(@__DIR__, \"model-instance-Tulipa/outputs-vintage-standard\")\n",
    "\n",
    "# Always build a new result directory\n",
    "rm(output_dir, force=true, recursive=true) \n",
    "mkdir(output_dir);\n",
    "\n",
    "# Create the connection and prepare input data\n",
    "connection_vintage_standard = DBInterface.connect(DuckDB.DB)\n",
    "TIO.read_csv_folder(connection_vintage_standard, input_dir)\n",
    "TEM.populate_with_defaults!(connection_vintage_standard)\n",
    "\n",
    "# Run the model instance\n",
    "multiyear_vintage_standard = TEM.run_scenario(\n",
    "    connection_vintage_standard;\n",
    "    model_parameters_file = joinpath(@__DIR__, input_dir, \"model-parameters.toml\"),\n",
    "    output_folder = output_dir, \n",
    "    # model_file_name = joinpath(output_dir, \"model.lp\"),\n",
    "    show_log=false,\n",
    "    log_file = joinpath(output_dir, \"model-log_vintage-standard.txt\")\n",
    ")"
   ]
  },
  {
   "attachments": {},
   "cell_type": "markdown",
   "metadata": {},
   "source": [
    "### 2.2 Key results"
   ]
  },
  {
   "attachments": {},
   "cell_type": "markdown",
   "metadata": {},
   "source": [
    "#### Capacity"
   ]
  },
  {
   "cell_type": "code",
   "execution_count": 3,
   "metadata": {},
   "outputs": [
    {
     "data": {
      "text/html": [
       "<div><div style = \"float: left;\"><span>3×6 DataFrame</span></div><div style = \"clear: both;\"></div></div><div class = \"data-frame\" style = \"overflow-x: scroll;\"><table class = \"data-frame\" style = \"margin-bottom: 6px;\"><thead><tr class = \"header\"><th class = \"rowNumber\" style = \"font-weight: bold; text-align: right;\">Row</th><th style = \"text-align: left;\">asset</th><th style = \"text-align: left;\">milestone_year</th><th style = \"text-align: left;\">commission_year</th><th style = \"text-align: left;\">decommissionable</th><th style = \"text-align: left;\">initial_units</th><th style = \"text-align: left;\">initial_storage_units</th></tr><tr class = \"subheader headerLastRow\"><th class = \"rowNumber\" style = \"font-weight: bold; text-align: right;\"></th><th title = \"String\" style = \"text-align: left;\">String</th><th title = \"Int32\" style = \"text-align: left;\">Int32</th><th title = \"Int32\" style = \"text-align: left;\">Int32</th><th title = \"Bool\" style = \"text-align: left;\">Bool</th><th title = \"Float64\" style = \"text-align: left;\">Float64</th><th title = \"Float64\" style = \"text-align: left;\">Float64</th></tr></thead><tbody><tr><td class = \"rowNumber\" style = \"font-weight: bold; text-align: right;\">1</td><td style = \"text-align: left;\">wind25</td><td style = \"text-align: right;\">2030</td><td style = \"text-align: right;\">2030</td><td style = \"text-align: right;\">false</td><td style = \"text-align: right;\">30.0</td><td style = \"text-align: right;\">0.0</td></tr><tr><td class = \"rowNumber\" style = \"font-weight: bold; text-align: right;\">2</td><td style = \"text-align: left;\">wind25</td><td style = \"text-align: right;\">2040</td><td style = \"text-align: right;\">2040</td><td style = \"text-align: right;\">false</td><td style = \"text-align: right;\">30.0</td><td style = \"text-align: right;\">0.0</td></tr><tr><td class = \"rowNumber\" style = \"font-weight: bold; text-align: right;\">3</td><td style = \"text-align: left;\">wind25</td><td style = \"text-align: right;\">2050</td><td style = \"text-align: right;\">2050</td><td style = \"text-align: right;\">false</td><td style = \"text-align: right;\">30.0</td><td style = \"text-align: right;\">0.0</td></tr></tbody></table></div>"
      ],
      "text/plain": [
       "\u001b[1m3×6 DataFrame\u001b[0m\n",
       "\u001b[1m Row \u001b[0m│\u001b[1m asset  \u001b[0m\u001b[1m milestone_year \u001b[0m\u001b[1m commission_year \u001b[0m\u001b[1m decommissionable \u001b[0m\u001b[1m initial_unit\u001b[0m ⋯\n",
       "     │\u001b[90m String \u001b[0m\u001b[90m Int32          \u001b[0m\u001b[90m Int32           \u001b[0m\u001b[90m Bool             \u001b[0m\u001b[90m Float64     \u001b[0m ⋯\n",
       "─────┼──────────────────────────────────────────────────────────────────────────\n",
       "   1 │ wind25            2030             2030             false           30. ⋯\n",
       "   2 │ wind25            2040             2040             false           30.\n",
       "   3 │ wind25            2050             2050             false           30.\n",
       "\u001b[36m                                                               2 columns omitted\u001b[0m"
      ]
     },
     "metadata": {},
     "output_type": "display_data"
    }
   ],
   "source": [
    "# initial wind capacity\n",
    "filter(row -> occursin(\"wind\", row.asset) && row.initial_units != 0.0, TIO.get_table(connection_vintage_standard, \"asset_both\"))"
   ]
  },
  {
   "cell_type": "code",
   "execution_count": 4,
   "metadata": {},
   "outputs": [
    {
     "data": {
      "text/html": [
       "<div><div style = \"float: left;\"><span>3×7 DataFrame</span></div><div style = \"clear: both;\"></div></div><div class = \"data-frame\" style = \"overflow-x: scroll;\"><table class = \"data-frame\" style = \"margin-bottom: 6px;\"><thead><tr class = \"header\"><th class = \"rowNumber\" style = \"font-weight: bold; text-align: right;\">Row</th><th style = \"text-align: left;\">id</th><th style = \"text-align: left;\">asset</th><th style = \"text-align: left;\">milestone_year</th><th style = \"text-align: left;\">investment_integer</th><th style = \"text-align: left;\">capacity</th><th style = \"text-align: left;\">investment_limit</th><th style = \"text-align: left;\">solution</th></tr><tr class = \"subheader headerLastRow\"><th class = \"rowNumber\" style = \"font-weight: bold; text-align: right;\"></th><th title = \"Int64\" style = \"text-align: left;\">Int64</th><th title = \"String\" style = \"text-align: left;\">String</th><th title = \"Int32\" style = \"text-align: left;\">Int32</th><th title = \"Bool\" style = \"text-align: left;\">Bool</th><th title = \"Float64\" style = \"text-align: left;\">Float64</th><th title = \"Float64\" style = \"text-align: left;\">Float64</th><th title = \"Float64\" style = \"text-align: left;\">Float64</th></tr></thead><tbody><tr><td class = \"rowNumber\" style = \"font-weight: bold; text-align: right;\">1</td><td style = \"text-align: right;\">1</td><td style = \"text-align: left;\">wind30</td><td style = \"text-align: right;\">2030</td><td style = \"text-align: right;\">true</td><td style = \"text-align: right;\">1.0</td><td style = \"text-align: right;\">107.567</td><td style = \"text-align: right;\">107.0</td></tr><tr><td class = \"rowNumber\" style = \"font-weight: bold; text-align: right;\">2</td><td style = \"text-align: right;\">2</td><td style = \"text-align: left;\">wind40</td><td style = \"text-align: right;\">2040</td><td style = \"text-align: right;\">true</td><td style = \"text-align: right;\">1.0</td><td style = \"text-align: right;\">186.156</td><td style = \"text-align: right;\">186.0</td></tr><tr><td class = \"rowNumber\" style = \"font-weight: bold; text-align: right;\">3</td><td style = \"text-align: right;\">3</td><td style = \"text-align: left;\">wind50</td><td style = \"text-align: right;\">2050</td><td style = \"text-align: right;\">true</td><td style = \"text-align: right;\">1.0</td><td style = \"text-align: right;\">217.081</td><td style = \"text-align: right;\">105.0</td></tr></tbody></table></div>"
      ],
      "text/plain": [
       "\u001b[1m3×7 DataFrame\u001b[0m\n",
       "\u001b[1m Row \u001b[0m│\u001b[1m id    \u001b[0m\u001b[1m asset  \u001b[0m\u001b[1m milestone_year \u001b[0m\u001b[1m investment_integer \u001b[0m\u001b[1m capacity \u001b[0m\u001b[1m investment\u001b[0m ⋯\n",
       "     │\u001b[90m Int64 \u001b[0m\u001b[90m String \u001b[0m\u001b[90m Int32          \u001b[0m\u001b[90m Bool               \u001b[0m\u001b[90m Float64  \u001b[0m\u001b[90m Float64   \u001b[0m ⋯\n",
       "─────┼──────────────────────────────────────────────────────────────────────────\n",
       "   1 │     1  wind30            2030                true       1.0           1 ⋯\n",
       "   2 │     2  wind40            2040                true       1.0           1\n",
       "   3 │     3  wind50            2050                true       1.0           2\n",
       "\u001b[36m                                                               2 columns omitted\u001b[0m"
      ]
     },
     "metadata": {},
     "output_type": "display_data"
    }
   ],
   "source": [
    "# invested capacity\n",
    "filter(row -> occursin(\"wind\", row.asset) && row.solution != 0.0, TIO.get_table(connection_vintage_standard, \"var_assets_investment\"))"
   ]
  },
  {
   "attachments": {},
   "cell_type": "markdown",
   "metadata": {},
   "source": [
    "#### Annual productions & total system cost"
   ]
  },
  {
   "cell_type": "code",
   "execution_count": 5,
   "metadata": {},
   "outputs": [
    {
     "name": "stdout",
     "output_type": "stream",
     "text": [
      "2030s\n",
      "\t wind prodution: 661.08 TWh p.a."
     ]
    },
    {
     "name": "stdout",
     "output_type": "stream",
     "text": [
      "\t market supply: 317.83 TWh p.a.\n",
      "2040s\n",
      "\t wind prodution: 1507.38 TWh p.a."
     ]
    },
    {
     "name": "stdout",
     "output_type": "stream",
     "text": [
      "\t market supply: 422.86 TWh p.a.\n",
      "2050s\n",
      "\t wind prodution: 1815.86 TWh p.a."
     ]
    },
    {
     "name": "stdout",
     "output_type": "stream",
     "text": [
      "\t market supply: 427.39 TWh p.a.\n",
      "Total system cost: 1220.54 Billion €\n"
     ]
    }
   ],
   "source": [
    "print_annual_total_prod(connection_vintage_standard, 2030, 2040, 2050)\n",
    "println(\"Total system cost: $(round(multiyear_vintage_standard.objective_value/1000, digits=2)) Billion €\")"
   ]
  },
  {
   "attachments": {},
   "cell_type": "markdown",
   "metadata": {},
   "source": [
    "## 3: Compact unit vintage\n",
    "\n",
    "- Difference from case 1: `asset.csv` (only `investment_method`), `asset-commission.csv`, `asset-both`\n",
    "- In any milestone year, only the tech. vintage of the same year is available for investment (assumed with setting `investment_method=compact`)\n",
    "- Resulted investment in 2050 differ significantly from the no vintage case because the wind of 2020 vintage (wind commissioned in 2020, defined in `asset-commission.csv`) uses the default availability of `1.0` over the milestone year 2050 due to the lack of availability value is given for 2050 for this vintage (`availability-wind2020` records in `profiles-rep-periods.csv`, which is assigned to the wind commissioned in 2020 in `assets-profiles.csv`)"
   ]
  },
  {
   "attachments": {},
   "cell_type": "markdown",
   "metadata": {},
   "source": [
    "### 3.1 Build and run the model instance"
   ]
  },
  {
   "cell_type": "code",
   "execution_count": 2,
   "metadata": {},
   "outputs": [
    {
     "data": {
      "text/plain": [
       "EnergyProblem:\n",
       "  - Model created!\n",
       "    - Number of variables: 315363\n",
       "    - Number of constraints for variable bounds: 315363\n",
       "    - Number of structural constraints: 341640\n",
       "  - Model solved!\n",
       "    - Termination status: OPTIMAL\n",
       "    - Objective value: 1.2205387507129149e6\n"
      ]
     },
     "metadata": {},
     "output_type": "display_data"
    }
   ],
   "source": [
    "# Define and build the input output directories\n",
    "input_dir = \"model-instance-Tulipa/inputs-vintage-compact\"\n",
    "output_dir = joinpath(@__DIR__, \"model-instance-Tulipa/outputs-vintage-compact\")\n",
    "\n",
    "# Always build a new result directory\n",
    "rm(output_dir, force=true, recursive=true) \n",
    "mkdir(output_dir);\n",
    "\n",
    "# Create the connection and prepare input data\n",
    "connection_vintage_compact = DBInterface.connect(DuckDB.DB)\n",
    "TIO.read_csv_folder(connection_vintage_compact, input_dir)\n",
    "TEM.populate_with_defaults!(connection_vintage_compact)\n",
    "\n",
    "# Run the model instance\n",
    "multiyear_vintage_compact = TEM.run_scenario(\n",
    "    connection_vintage_compact;\n",
    "    model_parameters_file = joinpath(@__DIR__, input_dir, \"model-parameters.toml\"),\n",
    "    output_folder = output_dir, \n",
    "    # model_file_name = joinpath(output_dir, \"model.lp\"),\n",
    "    show_log=false,\n",
    "    log_file = joinpath(output_dir, \"model-log_vintage-compact.txt\")\n",
    ")"
   ]
  },
  {
   "attachments": {},
   "cell_type": "markdown",
   "metadata": {},
   "source": [
    "### 3.2 Key results"
   ]
  },
  {
   "cell_type": "markdown",
   "metadata": {},
   "source": [
    "#### Capacity"
   ]
  },
  {
   "attachments": {},
   "cell_type": "markdown",
   "metadata": {},
   "source": [
    "- Units built in different years are explicitly listed, \n",
    "- meaning that their corresponding profiles are also considered."
   ]
  },
  {
   "cell_type": "code",
   "execution_count": 3,
   "metadata": {},
   "outputs": [
    {
     "data": {
      "text/html": [
       "<div><div style = \"float: left;\"><span>3×6 DataFrame</span></div><div style = \"clear: both;\"></div></div><div class = \"data-frame\" style = \"overflow-x: scroll;\"><table class = \"data-frame\" style = \"margin-bottom: 6px;\"><thead><tr class = \"header\"><th class = \"rowNumber\" style = \"font-weight: bold; text-align: right;\">Row</th><th style = \"text-align: left;\">asset</th><th style = \"text-align: left;\">milestone_year</th><th style = \"text-align: left;\">commission_year</th><th style = \"text-align: left;\">decommissionable</th><th style = \"text-align: left;\">initial_units</th><th style = \"text-align: left;\">initial_storage_units</th></tr><tr class = \"subheader headerLastRow\"><th class = \"rowNumber\" style = \"font-weight: bold; text-align: right;\"></th><th title = \"String\" style = \"text-align: left;\">String</th><th title = \"Int32\" style = \"text-align: left;\">Int32</th><th title = \"Int32\" style = \"text-align: left;\">Int32</th><th title = \"Bool\" style = \"text-align: left;\">Bool</th><th title = \"Float64\" style = \"text-align: left;\">Float64</th><th title = \"Float64\" style = \"text-align: left;\">Float64</th></tr></thead><tbody><tr><td class = \"rowNumber\" style = \"font-weight: bold; text-align: right;\">1</td><td style = \"text-align: left;\">wind</td><td style = \"text-align: right;\">2030</td><td style = \"text-align: right;\">2025</td><td style = \"text-align: right;\">false</td><td style = \"text-align: right;\">30.0</td><td style = \"text-align: right;\">0.0</td></tr><tr><td class = \"rowNumber\" style = \"font-weight: bold; text-align: right;\">2</td><td style = \"text-align: left;\">wind</td><td style = \"text-align: right;\">2040</td><td style = \"text-align: right;\">2025</td><td style = \"text-align: right;\">false</td><td style = \"text-align: right;\">30.0</td><td style = \"text-align: right;\">0.0</td></tr><tr><td class = \"rowNumber\" style = \"font-weight: bold; text-align: right;\">3</td><td style = \"text-align: left;\">wind</td><td style = \"text-align: right;\">2050</td><td style = \"text-align: right;\">2025</td><td style = \"text-align: right;\">false</td><td style = \"text-align: right;\">30.0</td><td style = \"text-align: right;\">0.0</td></tr></tbody></table></div>"
      ],
      "text/plain": [
       "\u001b[1m3×6 DataFrame\u001b[0m\n",
       "\u001b[1m Row \u001b[0m│\u001b[1m asset  \u001b[0m\u001b[1m milestone_year \u001b[0m\u001b[1m commission_year \u001b[0m\u001b[1m decommissionable \u001b[0m\u001b[1m initial_unit\u001b[0m ⋯\n",
       "     │\u001b[90m String \u001b[0m\u001b[90m Int32          \u001b[0m\u001b[90m Int32           \u001b[0m\u001b[90m Bool             \u001b[0m\u001b[90m Float64     \u001b[0m ⋯\n",
       "─────┼──────────────────────────────────────────────────────────────────────────\n",
       "   1 │ wind              2030             2025             false           30. ⋯\n",
       "   2 │ wind              2040             2025             false           30.\n",
       "   3 │ wind              2050             2025             false           30.\n",
       "\u001b[36m                                                               2 columns omitted\u001b[0m"
      ]
     },
     "metadata": {},
     "output_type": "display_data"
    }
   ],
   "source": [
    "# initial wind capacity\n",
    "filter(row -> row.asset==\"wind\" && row.initial_units != 0, TIO.get_table(connection_vintage_compact, \"asset_both\"))"
   ]
  },
  {
   "cell_type": "code",
   "execution_count": 4,
   "metadata": {},
   "outputs": [
    {
     "data": {
      "text/html": [
       "<div><div style = \"float: left;\"><span>3×7 DataFrame</span></div><div style = \"clear: both;\"></div></div><div class = \"data-frame\" style = \"overflow-x: scroll;\"><table class = \"data-frame\" style = \"margin-bottom: 6px;\"><thead><tr class = \"header\"><th class = \"rowNumber\" style = \"font-weight: bold; text-align: right;\">Row</th><th style = \"text-align: left;\">id</th><th style = \"text-align: left;\">asset</th><th style = \"text-align: left;\">milestone_year</th><th style = \"text-align: left;\">investment_integer</th><th style = \"text-align: left;\">capacity</th><th style = \"text-align: left;\">investment_limit</th><th style = \"text-align: left;\">solution</th></tr><tr class = \"subheader headerLastRow\"><th class = \"rowNumber\" style = \"font-weight: bold; text-align: right;\"></th><th title = \"Int64\" style = \"text-align: left;\">Int64</th><th title = \"String\" style = \"text-align: left;\">String</th><th title = \"Int32\" style = \"text-align: left;\">Int32</th><th title = \"Bool\" style = \"text-align: left;\">Bool</th><th title = \"Float64\" style = \"text-align: left;\">Float64</th><th title = \"Float64\" style = \"text-align: left;\">Float64</th><th title = \"Float64\" style = \"text-align: left;\">Float64</th></tr></thead><tbody><tr><td class = \"rowNumber\" style = \"font-weight: bold; text-align: right;\">1</td><td style = \"text-align: right;\">1</td><td style = \"text-align: left;\">wind</td><td style = \"text-align: right;\">2030</td><td style = \"text-align: right;\">true</td><td style = \"text-align: right;\">1.0</td><td style = \"text-align: right;\">107.567</td><td style = \"text-align: right;\">107.0</td></tr><tr><td class = \"rowNumber\" style = \"font-weight: bold; text-align: right;\">2</td><td style = \"text-align: right;\">2</td><td style = \"text-align: left;\">wind</td><td style = \"text-align: right;\">2040</td><td style = \"text-align: right;\">true</td><td style = \"text-align: right;\">1.0</td><td style = \"text-align: right;\">186.156</td><td style = \"text-align: right;\">186.0</td></tr><tr><td class = \"rowNumber\" style = \"font-weight: bold; text-align: right;\">3</td><td style = \"text-align: right;\">3</td><td style = \"text-align: left;\">wind</td><td style = \"text-align: right;\">2050</td><td style = \"text-align: right;\">true</td><td style = \"text-align: right;\">1.0</td><td style = \"text-align: right;\">217.081</td><td style = \"text-align: right;\">105.0</td></tr></tbody></table></div>"
      ],
      "text/plain": [
       "\u001b[1m3×7 DataFrame\u001b[0m\n",
       "\u001b[1m Row \u001b[0m│\u001b[1m id    \u001b[0m\u001b[1m asset  \u001b[0m\u001b[1m milestone_year \u001b[0m\u001b[1m investment_integer \u001b[0m\u001b[1m capacity \u001b[0m\u001b[1m investment\u001b[0m ⋯\n",
       "     │\u001b[90m Int64 \u001b[0m\u001b[90m String \u001b[0m\u001b[90m Int32          \u001b[0m\u001b[90m Bool               \u001b[0m\u001b[90m Float64  \u001b[0m\u001b[90m Float64   \u001b[0m ⋯\n",
       "─────┼──────────────────────────────────────────────────────────────────────────\n",
       "   1 │     1  wind              2030                true       1.0           1 ⋯\n",
       "   2 │     2  wind              2040                true       1.0           1\n",
       "   3 │     3  wind              2050                true       1.0           2\n",
       "\u001b[36m                                                               2 columns omitted\u001b[0m"
      ]
     },
     "metadata": {},
     "output_type": "display_data"
    }
   ],
   "source": [
    "# invested capacity of the wind commissioned in the milestone year\n",
    "filter(row -> row.asset==\"wind\", TIO.get_table(connection_vintage_compact, \"var_assets_investment\"))"
   ]
  },
  {
   "attachments": {},
   "cell_type": "markdown",
   "metadata": {},
   "source": [
    "#### Annual productions & total system cost"
   ]
  },
  {
   "cell_type": "code",
   "execution_count": 5,
   "metadata": {},
   "outputs": [
    {
     "name": "stdout",
     "output_type": "stream",
     "text": [
      "2030s\n",
      "\t wind prodution: 661.08 TWh p.a."
     ]
    },
    {
     "name": "stdout",
     "output_type": "stream",
     "text": [
      "\t market supply: 317.83 TWh p.a.\n",
      "2040s\n",
      "\t wind prodution: 1507.38 TWh p.a."
     ]
    },
    {
     "name": "stdout",
     "output_type": "stream",
     "text": [
      "\t market supply: 422.86 TWh p.a.\n",
      "2050s\n",
      "\t wind prodution: 1815.86 TWh p.a."
     ]
    },
    {
     "name": "stdout",
     "output_type": "stream",
     "text": [
      "\t market supply: 427.39 TWh p.a.\n",
      "Total system cost: 1220.54 Billion €\n"
     ]
    }
   ],
   "source": [
    "print_annual_total_prod(connection_vintage_compact, 2030, 2040, 2050)\n",
    "println(\"Total system cost: $(round(multiyear_vintage_compact.objective_value/1000, digits=2)) Billion €\")"
   ]
  },
  {
   "attachments": {},
   "cell_type": "markdown",
   "metadata": {},
   "source": [
    "# Ancillary"
   ]
  },
  {
   "cell_type": "code",
   "execution_count": null,
   "metadata": {},
   "outputs": [],
   "source": [
    "# # show all input/output tables\n",
    "# println(TIO.show_tables(connection_no_vintage).name)\n",
    "# TIO.show_tables(connection_no_vintage)"
   ]
  },
  {
   "attachments": {},
   "cell_type": "markdown",
   "metadata": {},
   "source": [
    "# Testing ..."
   ]
  },
  {
   "cell_type": "code",
   "execution_count": null,
   "metadata": {},
   "outputs": [],
   "source": [
    "# using CSV\n",
    "# show all input/output tables\n",
    "# println(TIO.show_tables(connection_vintage_standard).name)\n",
    "# CSV.write(joinpath(output_dir,\"model_info.csv\"), TIO.show_tables(connection_vintage_compact))"
   ]
  },
  {
   "cell_type": "code",
   "execution_count": null,
   "metadata": {},
   "outputs": [],
   "source": [
    "# # show specific profiles\n",
    "# filter(\n",
    "#     row -> occursin(\"wind\", row.profile_name) && row.year == 2050,\n",
    "#     TIO.get_table(connection_vintage_standard, \"profiles_rep_periods\")\n",
    "# )"
   ]
  },
  {
   "cell_type": "code",
   "execution_count": null,
   "metadata": {},
   "outputs": [],
   "source": [
    "function plot_input_profiles(conn::DuckDB.DB, ::Val{:wind}, year::Int)\n",
    "    plot()\n",
    "    profiles = filter(\n",
    "        row -> occursin(String(:wind), row.profile_name) && row.year == year,\n",
    "        TIO.get_table(conn, \"profiles_rep_periods\")\n",
    "    )\n",
    "\n",
    "    for pname in unique(profiles.profile_name)\n",
    "        subdf = profiles[profiles.profile_name .== pname, :]\n",
    "        plot!(subdf.value, label=\"$(pname), year $year\")\n",
    "    end\n",
    "    xlabel!(\"Time\")\n",
    "    ylabel!(\"Capacity factor\")\n",
    "end\n",
    "\n",
    "plot_input_profiles(connection_vintage_standard, Val(:wind), 2030)"
   ]
  },
  {
   "cell_type": "code",
   "execution_count": null,
   "metadata": {},
   "outputs": [],
   "source": [
    "# @show fieldnames(TEM.EnergyProblem)\n",
    "# @show dump(TEM.EnergyProblem)\n",
    "# var_flow = multiyear_vintage_compact.variables[:flow]\n",
    "# fieldnames(typeof(var_flow))\n",
    "# typeof(var_flow.indices)\n",
    "# var_flow.indices.tbl[:id]\n",
    "# multiyear_no_vintage.expressions[:available_asset_units_simple_method]\n"
   ]
  }
 ],
 "metadata": {
  "kernelspec": {
   "display_name": "Julia 1.10.10",
   "language": "julia",
   "name": "julia-1.10"
  },
  "language_info": {
   "file_extension": ".jl",
   "mimetype": "application/julia",
   "name": "julia",
   "version": "1.10.10"
  },
  "orig_nbformat": 4
 },
 "nbformat": 4,
 "nbformat_minor": 2
}
