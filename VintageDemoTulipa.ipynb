{
 "cells": [
  {
   "attachments": {},
   "cell_type": "markdown",
   "metadata": {},
   "source": [
    "# Setup workflow environment"
   ]
  },
  {
   "cell_type": "code",
   "execution_count": 12,
   "metadata": {},
   "outputs": [
    {
     "name": "stderr",
     "output_type": "stream",
     "text": [
      "\u001b[32m\u001b[1m  Activating\u001b[22m\u001b[39m project at `~/Projects/VintageDemo`\n"
     ]
    }
   ],
   "source": [
    "using Pkg; Pkg.activate(@__DIR__)\n",
    "\n",
    "import TulipaIO as TIO\n",
    "import TulipaEnergyModel as TEM\n",
    "using DuckDB\n",
    "using DataFrames\n",
    "\n",
    "# For Win. system to fix the KaTex parse error in Jupyter Notebook\n",
    "Base.show(stdout, ::MIME\"text/latex\", df::DataFrame) = show(stdout, MIME(\"text/plain\"), df)\n",
    "\n",
    "#= For utility functions\n",
    "    - print_annual_total_prod(DBconnection, years...)\n",
    "    - inv_cost, fom_cost, var_cost = objective_terms_value(TulipaProblem, DBconnection)\n",
    "    - annual_flows_between_assets(DB_conn, from_asset_term, to_asset_term)\n",
    "=#\n",
    "include(\"./util_analysis.jl\");"
   ]
  },
  {
   "attachments": {},
   "cell_type": "markdown",
   "metadata": {},
   "source": [
    "# Multi-year investment model instances"
   ]
  },
  {
   "attachments": {},
   "cell_type": "markdown",
   "metadata": {},
   "source": [
    "- Milestone years: 2030, 2040 and 2050.\n",
    "- The system has 30GW initial wind capacity built in 2025, the model can choose to invest in wind in three milestone years: 2030, 2040, 2050.\n",
    "- unused tables: `flow-both.csv`, `flows-profiles.csv`"
   ]
  },
  {
   "attachments": {},
   "cell_type": "markdown",
   "metadata": {},
   "source": [
    "## 1. Without unit vintage"
   ]
  },
  {
   "cell_type": "markdown",
   "metadata": {},
   "source": [
    "> Note: the `output_dir` must exist/(be created) beforehand "
   ]
  },
  {
   "attachments": {},
   "cell_type": "markdown",
   "metadata": {},
   "source": [
    "### 1.1 Build and run the model instance"
   ]
  },
  {
   "cell_type": "code",
   "execution_count": 13,
   "metadata": {},
   "outputs": [
    {
     "name": "stdout",
     "output_type": "stream",
     "text": [
      "Running HiGHS 1.11.0 (git hash: 364c83a51e): Copyright (c) 2025 HiGHS under MIT licence terms\n",
      "MIP  has 341640 rows; 315363 cols; 683271 nonzeros; 3 integer variables (0 binary)\n",
      "Coefficient ranges:\n",
      "  Matrix [2e-04, 1e+00]\n",
      "  Cost   [1e-03, 3e+03]\n",
      "  Bound  [1e+02, 2e+02]\n",
      "  RHS    [5e-03, 1e+02]\n",
      "Presolving model\n",
      "26277 rows, 151510 cols, 204058 nonzeros  0s\n",
      "25202 rows, 145148 cols, 194885 nonzeros  1s\n",
      "\n",
      "Solving MIP model with:\n",
      "   25202 rows\n",
      "   145148 cols (0 binary, 3 integer, 0 implied int., 145145 continuous, 0 domain fixed)\n",
      "   194885 nonzeros\n",
      "\n",
      "Src: B => Branching; C => Central rounding; F => Feasibility pump; J => Feasibility jump;\n",
      "     H => Heuristic; L => Sub-MIP; P => Empty MIP; R => Randomized rounding; Z => ZI Round;\n",
      "     I => Shifting; S => Solve LP; T => Evaluate node; U => Unbounded; X => User solution;\n",
      "     z => Trivial zero; l => Trivial lower; u => Trivial upper; p => Trivial point\n",
      "\n",
      "        Nodes      |    B&B Tree     |            Objective Bounds              |  Dynamic Constraints |       Work      \n",
      "Src  Proc. InQueue |  Leaves   Expl. | BestBound       BestSol              Gap |   Cuts   InLp Confl. | LpIters     Time\n",
      "\n",
      " J       0       0         0   0.00%   -inf            2163123.41203      Large        0      0      0         0     2.5s\n",
      " R       0       0         0   0.00%   1249318.09584   1249318.595403     0.00%        0      0      0     37586    10.5s\n",
      "         1       0         1 100.00%   1249318.09584   1249318.595403     0.00%        0      0      0     37586    10.7s\n",
      "\n",
      "Solving report\n",
      "  Status            Optimal\n",
      "  Primal bound      1249318.5954\n",
      "  Dual bound        1249318.09584\n",
      "  Gap               4e-05% (tolerance: 0.01%)\n",
      "  P-D integral      6.67692353271\n",
      "  Solution status   feasible\n",
      "                    1249318.5954 (objective)\n",
      "                    0 (bound viol.)\n",
      "                    0 (int. viol.)\n",
      "                    0 (row viol.)\n",
      "  Timing            10.69 (total)\n",
      "                    0.00 (presolve)\n",
      "                    0.00 (solve)\n",
      "                    0.00 (postsolve)\n",
      "  Max sub-MIP depth 0\n",
      "  Nodes             1\n",
      "  Repair LPs        0 (0 feasible; 0 iterations)\n",
      "  LP iterations     37586 (total)\n",
      "                    0 (strong br.)\n",
      "                    0 (separation)\n",
      "                    0 (heuristics)\n",
      "LP   has 341640 rows; 315363 cols; 683271 nonzeros\n",
      "Coefficient ranges:\n",
      "  Matrix [2e-04, 1e+00]\n",
      "  Cost   [1e-03, 3e+03]\n",
      "  Bound  [3e+01, 2e+02]\n",
      "  RHS    [5e-03, 1e+02]\n",
      "Presolving model\n",
      "19072 rows, 106267 cols, 106267 nonzeros  0s\n",
      "Dependent equations search running on 3861 equations with time limit of 1000.00s\n",
      "Dependent equations search removed 0 rows and 0 nonzeros in 0.00s (limit = 1000.00s)\n",
      "16724 rows, 95674 cols, 95674 nonzeros  0s\n",
      "Presolve : Reductions: rows 16724(-324916); columns 95674(-219689); elements 95674(-587597)\n",
      "Solving the presolved LP\n",
      "Using EKK dual simplex solver - serial\n",
      "  Iteration        Objective     Infeasibilities num(sum)\n",
      "          0    -1.9741394473e+03 Ph1: 3861(3861); Du: 3861(1974.14) 1s\n",
      "      20585     1.2493185954e+06 Pr: 0(0) 1s\n",
      "Solving the original LP from the solution after postsolve\n",
      "Model status        : Optimal\n",
      "Simplex   iterations: 20585\n",
      "Objective value     :  1.2493185954e+06\n",
      "P-D objective error :  1.9074563469e-13\n",
      "HiGHS run time      :          1.51\n"
     ]
    },
    {
     "data": {
      "text/plain": [
       "EnergyProblem:\n",
       "  - Model created!\n",
       "    - Number of variables: 315363\n",
       "    - Number of constraints for variable bounds: 315363\n",
       "    - Number of structural constraints: 341640\n",
       "  - Model solved!\n",
       "    - Termination status: OPTIMAL\n",
       "    - Objective value: 1.2493185954028405e6\n"
      ]
     },
     "metadata": {},
     "output_type": "display_data"
    }
   ],
   "source": [
    "connection = DBInterface.connect(DuckDB.DB)\n",
    "input_dir = \"model-instance-Tulipa/inputs-no-vintage\"\n",
    "output_dir = joinpath(@__DIR__, \"model-instance-Tulipa/outputs-no-vintage\")\n",
    "\n",
    "# Always build a new result directory\n",
    "rm(output_dir, force=true, recursive=true) \n",
    "mkdir(output_dir);\n",
    "\n",
    "# Create the connection and prepare input data\n",
    "connection_no_vintage = DBInterface.connect(DuckDB.DB)\n",
    "TIO.read_csv_folder(connection_no_vintage, input_dir)\n",
    "TEM.populate_with_defaults!(connection_no_vintage)\n",
    "\n",
    "# Run the model instance\n",
    "multiyear_no_vintage = TEM.run_scenario(\n",
    "    connection_no_vintage;\n",
    "    optimizer_parameters = Dict(\"output_flag\" => true), # TEM.default_parameters(HiGHS.Optimizer): Dict(\"output_flag\" => false)\n",
    "    model_parameters_file = joinpath(@__DIR__, input_dir, \"model-parameters.toml\"),\n",
    "    output_folder = output_dir, \n",
    "    # model_file_name = joinpath(output_dir, \"model.lp\"),\n",
    "    show_log=false,\n",
    "    # To record solving time. \n",
    "    # # Always run with this option in a new or restarted kernel to ensure the time is dedicated to this solve only.\n",
    "    # log_file = joinpath(@__DIR__, \"model-instance-Tulipa/model-log_no-vintage.txt\")\n",
    ")"
   ]
  },
  {
   "attachments": {},
   "cell_type": "markdown",
   "metadata": {},
   "source": [
    "### 1.2 Key results"
   ]
  },
  {
   "attachments": {},
   "cell_type": "markdown",
   "metadata": {},
   "source": [
    "#### Capacity"
   ]
  },
  {
   "attachments": {},
   "cell_type": "markdown",
   "metadata": {},
   "source": [
    "Check the \"initial capacity\" \n",
    "\n",
    "- in this case, we will not be able to differentiate units built in other years (than milestone years), \n",
    "- they will simply be considered the same as the units built in the milestone year."
   ]
  },
  {
   "cell_type": "code",
   "execution_count": 15,
   "metadata": {},
   "outputs": [
    {
     "data": {
      "text/html": [
       "<div><div style = \"float: left;\"><span>3×6 DataFrame</span></div><div style = \"clear: both;\"></div></div><div class = \"data-frame\" style = \"overflow-x: scroll;\"><table class = \"data-frame\" style = \"margin-bottom: 6px;\"><thead><tr class = \"header\"><th class = \"rowNumber\" style = \"font-weight: bold; text-align: right;\">Row</th><th style = \"text-align: left;\">asset</th><th style = \"text-align: left;\">milestone_year</th><th style = \"text-align: left;\">commission_year</th><th style = \"text-align: left;\">decommissionable</th><th style = \"text-align: left;\">initial_units</th><th style = \"text-align: left;\">initial_storage_units</th></tr><tr class = \"subheader headerLastRow\"><th class = \"rowNumber\" style = \"font-weight: bold; text-align: right;\"></th><th title = \"String\" style = \"text-align: left;\">String</th><th title = \"Int32\" style = \"text-align: left;\">Int32</th><th title = \"Int32\" style = \"text-align: left;\">Int32</th><th title = \"Bool\" style = \"text-align: left;\">Bool</th><th title = \"Float64\" style = \"text-align: left;\">Float64</th><th title = \"Float64\" style = \"text-align: left;\">Float64</th></tr></thead><tbody><tr><td class = \"rowNumber\" style = \"font-weight: bold; text-align: right;\">1</td><td style = \"text-align: left;\">wind</td><td style = \"text-align: right;\">2030</td><td style = \"text-align: right;\">2030</td><td style = \"text-align: right;\">false</td><td style = \"text-align: right;\">30.0</td><td style = \"text-align: right;\">0.0</td></tr><tr><td class = \"rowNumber\" style = \"font-weight: bold; text-align: right;\">2</td><td style = \"text-align: left;\">wind</td><td style = \"text-align: right;\">2040</td><td style = \"text-align: right;\">2040</td><td style = \"text-align: right;\">false</td><td style = \"text-align: right;\">30.0</td><td style = \"text-align: right;\">0.0</td></tr><tr><td class = \"rowNumber\" style = \"font-weight: bold; text-align: right;\">3</td><td style = \"text-align: left;\">wind</td><td style = \"text-align: right;\">2050</td><td style = \"text-align: right;\">2050</td><td style = \"text-align: right;\">false</td><td style = \"text-align: right;\">30.0</td><td style = \"text-align: right;\">0.0</td></tr></tbody></table></div>"
      ],
      "text/plain": [
       "\u001b[1m3×6 DataFrame\u001b[0m\n",
       "\u001b[1m Row \u001b[0m│\u001b[1m asset  \u001b[0m\u001b[1m milestone_year \u001b[0m\u001b[1m commission_year \u001b[0m\u001b[1m decommissionable \u001b[0m\u001b[1m initial_unit\u001b[0m ⋯\n",
       "     │\u001b[90m String \u001b[0m\u001b[90m Int32          \u001b[0m\u001b[90m Int32           \u001b[0m\u001b[90m Bool             \u001b[0m\u001b[90m Float64     \u001b[0m ⋯\n",
       "─────┼──────────────────────────────────────────────────────────────────────────\n",
       "   1 │ wind              2030             2030             false           30. ⋯\n",
       "   2 │ wind              2040             2040             false           30.\n",
       "   3 │ wind              2050             2050             false           30.\n",
       "\u001b[36m                                                               2 columns omitted\u001b[0m"
      ]
     },
     "metadata": {},
     "output_type": "display_data"
    }
   ],
   "source": [
    "# initial wind capacity\n",
    "filter(row -> row.asset==\"wind\", TIO.get_table(connection_no_vintage, \"asset_both\"))"
   ]
  },
  {
   "cell_type": "code",
   "execution_count": 16,
   "metadata": {},
   "outputs": [
    {
     "data": {
      "text/html": [
       "<div><div style = \"float: left;\"><span>3×7 DataFrame</span></div><div style = \"clear: both;\"></div></div><div class = \"data-frame\" style = \"overflow-x: scroll;\"><table class = \"data-frame\" style = \"margin-bottom: 6px;\"><thead><tr class = \"header\"><th class = \"rowNumber\" style = \"font-weight: bold; text-align: right;\">Row</th><th style = \"text-align: left;\">id</th><th style = \"text-align: left;\">asset</th><th style = \"text-align: left;\">milestone_year</th><th style = \"text-align: left;\">investment_integer</th><th style = \"text-align: left;\">capacity</th><th style = \"text-align: left;\">investment_limit</th><th style = \"text-align: left;\">solution</th></tr><tr class = \"subheader headerLastRow\"><th class = \"rowNumber\" style = \"font-weight: bold; text-align: right;\"></th><th title = \"Int64\" style = \"text-align: left;\">Int64</th><th title = \"String\" style = \"text-align: left;\">String</th><th title = \"Int32\" style = \"text-align: left;\">Int32</th><th title = \"Bool\" style = \"text-align: left;\">Bool</th><th title = \"Float64\" style = \"text-align: left;\">Float64</th><th title = \"Float64\" style = \"text-align: left;\">Float64</th><th title = \"Float64\" style = \"text-align: left;\">Float64</th></tr></thead><tbody><tr><td class = \"rowNumber\" style = \"font-weight: bold; text-align: right;\">1</td><td style = \"text-align: right;\">1</td><td style = \"text-align: left;\">wind</td><td style = \"text-align: right;\">2030</td><td style = \"text-align: right;\">true</td><td style = \"text-align: right;\">1.0</td><td style = \"text-align: right;\">107.567</td><td style = \"text-align: right;\">107.0</td></tr><tr><td class = \"rowNumber\" style = \"font-weight: bold; text-align: right;\">2</td><td style = \"text-align: right;\">2</td><td style = \"text-align: left;\">wind</td><td style = \"text-align: right;\">2040</td><td style = \"text-align: right;\">true</td><td style = \"text-align: right;\">1.0</td><td style = \"text-align: right;\">186.156</td><td style = \"text-align: right;\">166.0</td></tr><tr><td class = \"rowNumber\" style = \"font-weight: bold; text-align: right;\">3</td><td style = \"text-align: right;\">3</td><td style = \"text-align: left;\">wind</td><td style = \"text-align: right;\">2050</td><td style = \"text-align: right;\">true</td><td style = \"text-align: right;\">1.0</td><td style = \"text-align: right;\">217.081</td><td style = \"text-align: right;\">34.0</td></tr></tbody></table></div>"
      ],
      "text/plain": [
       "\u001b[1m3×7 DataFrame\u001b[0m\n",
       "\u001b[1m Row \u001b[0m│\u001b[1m id    \u001b[0m\u001b[1m asset  \u001b[0m\u001b[1m milestone_year \u001b[0m\u001b[1m investment_integer \u001b[0m\u001b[1m capacity \u001b[0m\u001b[1m investment\u001b[0m ⋯\n",
       "     │\u001b[90m Int64 \u001b[0m\u001b[90m String \u001b[0m\u001b[90m Int32          \u001b[0m\u001b[90m Bool               \u001b[0m\u001b[90m Float64  \u001b[0m\u001b[90m Float64   \u001b[0m ⋯\n",
       "─────┼──────────────────────────────────────────────────────────────────────────\n",
       "   1 │     1  wind              2030                true       1.0           1 ⋯\n",
       "   2 │     2  wind              2040                true       1.0           1\n",
       "   3 │     3  wind              2050                true       1.0           2\n",
       "\u001b[36m                                                               2 columns omitted\u001b[0m"
      ]
     },
     "metadata": {},
     "output_type": "display_data"
    }
   ],
   "source": [
    "# invested capacity\n",
    "filter(row -> row.asset==\"wind\", TIO.get_table(connection_no_vintage, \"var_assets_investment\"))"
   ]
  },
  {
   "attachments": {},
   "cell_type": "markdown",
   "metadata": {},
   "source": [
    "#### Annual productions & total system cost"
   ]
  },
  {
   "cell_type": "code",
   "execution_count": 17,
   "metadata": {},
   "outputs": [
    {
     "name": "stdout",
     "output_type": "stream",
     "text": [
      "2030s\n"
     ]
    },
    {
     "name": "stdout",
     "output_type": "stream",
     "text": [
      "\t wind prodution: 665.62 TWh p.a.\n"
     ]
    },
    {
     "name": "stdout",
     "output_type": "stream",
     "text": [
      "\t market supply: 313.29 TWh p.a.\n",
      "2040s\n"
     ]
    },
    {
     "name": "stdout",
     "output_type": "stream",
     "text": [
      "\t wind prodution: 1413.94 TWh p.a.\n"
     ]
    },
    {
     "name": "stdout",
     "output_type": "stream",
     "text": [
      "\t market supply: 516.3 TWh p.a.\n",
      "2050s\n"
     ]
    },
    {
     "name": "stdout",
     "output_type": "stream",
     "text": [
      "\t wind prodution: 1489.76 TWh p.a.\n"
     ]
    },
    {
     "name": "stdout",
     "output_type": "stream",
     "text": [
      "\t market supply: 753.49 TWh p.a.\n",
      "Total system cost: 1249.32 Billion €\n"
     ]
    },
    {
     "name": "stdout",
     "output_type": "stream",
     "text": [
      "\t investment: 395.98 Billion € \n",
      "\t fixed O&M: 175.61 Billion € \n",
      "\t variable O&M: 677.72 Billion €\n",
      "Total system cost ≈ investment + fixed O&M + variable O&M: true\n"
     ]
    }
   ],
   "source": [
    "print_annual_total_prod(connection_no_vintage, 2030, 2040, 2050)\n",
    "\n",
    "total_cost = multiyear_no_vintage.objective_value\n",
    "println(\"Total system cost: $(round(total_cost/1000, digits=2)) Billion €\")\n",
    "\n",
    "inv_cost, fixed_om_cost, variable_om_cost = objective_terms_value(multiyear_no_vintage, connection_no_vintage)\n",
    "println(\n",
    "    \"\\t investment: $(round(inv_cost/1000, digits=2)) Billion € \\n\", \n",
    "    \"\\t fixed O&M: $(round(fixed_om_cost/1000, digits=2)) Billion € \\n\",\n",
    "    \"\\t variable O&M: $(round(variable_om_cost/1000, digits=2)) Billion €\"\n",
    ")\n",
    "println(\n",
    "    \"Total system cost ≈ investment + fixed O&M + variable O&M: \", \n",
    "    total_cost ≈ inv_cost + fixed_om_cost + variable_om_cost\n",
    ")\n",
    "# @assert total_cost ≈ inv_cost + fixed_om_cost + variable_om_cost"
   ]
  },
  {
   "attachments": {},
   "cell_type": "markdown",
   "metadata": {},
   "source": [
    "## 2. Explicit unit vintage\n",
    "\n",
    "- Difference from case 1: `asset.csv`, `asset-milestone.csv`, `asset-commission.csv`, `asset-both`, `assets-profiles.csv`, `flow*.csv`\n",
    "- In any milestone year, only the tech. vintage of the same year is available for investment (explicitly regulated by setting the `investable` parameter in `asset-milestone.csv`)"
   ]
  },
  {
   "attachments": {},
   "cell_type": "markdown",
   "metadata": {},
   "source": [
    "### 2.1 Build and run the model instance"
   ]
  },
  {
   "cell_type": "code",
   "execution_count": 18,
   "metadata": {},
   "outputs": [
    {
     "name": "stdout",
     "output_type": "stream",
     "text": [
      "Running HiGHS 1.11.0 (git hash: 364c83a51e): Copyright (c) 2025 HiGHS under MIT licence terms\n",
      "MIP  has 420480 rows; 788403 cols; 1629351 nonzeros; 3 integer variables (0 binary)\n",
      "Coefficient ranges:\n",
      "  Matrix [3e-06, 1e+00]\n",
      "  Cost   [1e-03, 3e+03]\n",
      "  Bound  [1e+02, 2e+02]\n",
      "  RHS    [4e-04, 1e+02]\n",
      "Presolving model\n",
      "236511 rows, 630669 cols, 1156203 nonzeros  1s\n",
      "229371 rows, 614281 cols, 1123604 nonzeros  3s\n",
      "\n",
      "Solving MIP model with:\n",
      "   229371 rows\n",
      "   614281 cols (0 binary, 3 integer, 0 implied int., 614278 continuous, 0 domain fixed)\n",
      "   1123604 nonzeros\n",
      "\n",
      "Src: B => Branching; C => Central rounding; F => Feasibility pump; J => Feasibility jump;\n",
      "     H => Heuristic; L => Sub-MIP; P => Empty MIP; R => Randomized rounding; Z => ZI Round;\n",
      "     I => Shifting; S => Solve LP; T => Evaluate node; U => Unbounded; X => User solution;\n",
      "     z => Trivial zero; l => Trivial lower; u => Trivial upper; p => Trivial point\n",
      "\n",
      "        Nodes      |    B&B Tree     |            Objective Bounds              |  Dynamic Constraints |       Work      \n",
      "Src  Proc. InQueue |  Leaves   Expl. | BestBound       BestSol              Gap |   Cuts   InLp Confl. | LpIters     Time\n",
      "\n",
      " J       0       0         0   0.00%   -inf            2371351.037364     Large        0      0      0         0     8.0s\n",
      " R       0       0         0   0.00%   1220538.61438   1220538.750713     0.00%        0      0      0    313807    79.3s\n",
      "         1       0         1 100.00%   1220538.61438   1220538.750713     0.00%        0      0      0    313807    79.9s\n",
      "\n",
      "Solving report\n",
      "  Status            Optimal\n",
      "  Primal bound      1220538.75071\n",
      "  Dual bound        1220538.61438\n",
      "  Gap               1.1e-05% (tolerance: 0.01%)\n",
      "  P-D integral      67.5715558097\n",
      "  Solution status   feasible\n",
      "                    1220538.75071 (objective)\n",
      "                    0 (bound viol.)\n",
      "                    0 (int. viol.)\n",
      "                    0 (row viol.)\n",
      "  Timing            79.85 (total)\n",
      "                    0.00 (presolve)\n",
      "                    0.00 (solve)\n",
      "                    0.00 (postsolve)\n",
      "  Max sub-MIP depth 0\n",
      "  Nodes             1\n",
      "  Repair LPs        0 (0 feasible; 0 iterations)\n",
      "  LP iterations     313807 (total)\n",
      "                    0 (strong br.)\n",
      "                    0 (separation)\n",
      "                    0 (heuristics)\n",
      "LP   has 420480 rows; 788403 cols; 1629351 nonzeros\n",
      "Coefficient ranges:\n",
      "  Matrix [3e-06, 1e+00]\n",
      "  Cost   [1e-03, 3e+03]\n",
      "  Bound  [1e+02, 2e+02]\n",
      "  RHS    [4e-04, 1e+02]\n",
      "Presolving model\n",
      "236511 rows, 630666 cols, 1103652 nonzeros  1s\n",
      "Dependent equations search running on 157680 equations with time limit of 1000.00s\n",
      "Dependent equations search removed 0 rows and 0 nonzeros in 0.01s (limit = 1000.00s)\n",
      "236511 rows, 630666 cols, 1103652 nonzeros  2s\n",
      "Presolve : Reductions: rows 236511(-183969); columns 630666(-157737); elements 1103652(-525699)\n",
      "Solving the presolved LP\n",
      "Using EKK dual simplex solver - serial\n",
      "  Iteration        Objective     Infeasibilities num(sum)\n",
      "          0     6.1947502796e+05 Pr: 157680(5.1524e+06) 3s\n",
      "     129967     8.0481039007e+05 Pr: 107212(1.7632e+06); Du: 0(0.0011195) 8s\n",
      "     237837     1.1490008682e+06 Pr: 45160(342787); Du: 0(0.00152406) 13s\n",
      "     295611     1.2205387507e+06 Pr: 0(0); Du: 0(1.01294e-12) 16s\n",
      "Solving the original LP from the solution after postsolve\n",
      "Model status        : Optimal\n",
      "Simplex   iterations: 295611\n",
      "Objective value     :  1.2205387507e+06\n",
      "P-D objective error :  5.1553017579e-13\n",
      "HiGHS run time      :         16.59\n"
     ]
    },
    {
     "data": {
      "text/plain": [
       "EnergyProblem:\n",
       "  - Model created!\n",
       "    - Number of variables: 788403\n",
       "    - Number of constraints for variable bounds: 788403\n",
       "    - Number of structural constraints: 420480\n",
       "  - Model solved!\n",
       "    - Termination status: OPTIMAL\n",
       "    - Objective value: 1.2205387507129149e6\n"
      ]
     },
     "metadata": {},
     "output_type": "display_data"
    }
   ],
   "source": [
    "# Define and build the input output directories\n",
    "input_dir = \"model-instance-Tulipa/inputs-vintage-standard\"\n",
    "output_dir = joinpath(@__DIR__, \"model-instance-Tulipa/outputs-vintage-standard\")\n",
    "\n",
    "# Always build a new result directory\n",
    "rm(output_dir, force=true, recursive=true) \n",
    "mkdir(output_dir);\n",
    "\n",
    "# Create the connection and prepare input data\n",
    "connection_vintage_standard = DBInterface.connect(DuckDB.DB)\n",
    "TIO.read_csv_folder(connection_vintage_standard, input_dir)\n",
    "TEM.populate_with_defaults!(connection_vintage_standard)\n",
    "\n",
    "# Run the model instance\n",
    "multiyear_vintage_standard = TEM.run_scenario(\n",
    "    connection_vintage_standard;\n",
    "    optimizer_parameters = Dict(\"output_flag\" => true), # TEM.default_parameters(HiGHS.Optimizer): Dict(\"output_flag\" => false)\n",
    "    model_parameters_file = joinpath(@__DIR__, input_dir, \"model-parameters.toml\"),\n",
    "    output_folder = output_dir, \n",
    "    # model_file_name = joinpath(output_dir, \"model.lp\"),\n",
    "    show_log=false,\n",
    "    # # To record solving time. \n",
    "    # # Always run with this option in a new or restarted kernel to ensure the time is dedicated to this solve only.\n",
    "    # log_file = joinpath(@__DIR__, \"model-instance-Tulipa/model-log_vintage-standard.txt\")\n",
    ")"
   ]
  },
  {
   "attachments": {},
   "cell_type": "markdown",
   "metadata": {},
   "source": [
    "### 2.2 Key results"
   ]
  },
  {
   "attachments": {},
   "cell_type": "markdown",
   "metadata": {},
   "source": [
    "#### Capacity"
   ]
  },
  {
   "cell_type": "code",
   "execution_count": 19,
   "metadata": {},
   "outputs": [
    {
     "data": {
      "text/html": [
       "<div><div style = \"float: left;\"><span>3×6 DataFrame</span></div><div style = \"clear: both;\"></div></div><div class = \"data-frame\" style = \"overflow-x: scroll;\"><table class = \"data-frame\" style = \"margin-bottom: 6px;\"><thead><tr class = \"header\"><th class = \"rowNumber\" style = \"font-weight: bold; text-align: right;\">Row</th><th style = \"text-align: left;\">asset</th><th style = \"text-align: left;\">milestone_year</th><th style = \"text-align: left;\">commission_year</th><th style = \"text-align: left;\">decommissionable</th><th style = \"text-align: left;\">initial_units</th><th style = \"text-align: left;\">initial_storage_units</th></tr><tr class = \"subheader headerLastRow\"><th class = \"rowNumber\" style = \"font-weight: bold; text-align: right;\"></th><th title = \"String\" style = \"text-align: left;\">String</th><th title = \"Int32\" style = \"text-align: left;\">Int32</th><th title = \"Int32\" style = \"text-align: left;\">Int32</th><th title = \"Bool\" style = \"text-align: left;\">Bool</th><th title = \"Float64\" style = \"text-align: left;\">Float64</th><th title = \"Float64\" style = \"text-align: left;\">Float64</th></tr></thead><tbody><tr><td class = \"rowNumber\" style = \"font-weight: bold; text-align: right;\">1</td><td style = \"text-align: left;\">wind25</td><td style = \"text-align: right;\">2030</td><td style = \"text-align: right;\">2030</td><td style = \"text-align: right;\">false</td><td style = \"text-align: right;\">30.0</td><td style = \"text-align: right;\">0.0</td></tr><tr><td class = \"rowNumber\" style = \"font-weight: bold; text-align: right;\">2</td><td style = \"text-align: left;\">wind25</td><td style = \"text-align: right;\">2040</td><td style = \"text-align: right;\">2040</td><td style = \"text-align: right;\">false</td><td style = \"text-align: right;\">30.0</td><td style = \"text-align: right;\">0.0</td></tr><tr><td class = \"rowNumber\" style = \"font-weight: bold; text-align: right;\">3</td><td style = \"text-align: left;\">wind25</td><td style = \"text-align: right;\">2050</td><td style = \"text-align: right;\">2050</td><td style = \"text-align: right;\">false</td><td style = \"text-align: right;\">30.0</td><td style = \"text-align: right;\">0.0</td></tr></tbody></table></div>"
      ],
      "text/plain": [
       "\u001b[1m3×6 DataFrame\u001b[0m\n",
       "\u001b[1m Row \u001b[0m│\u001b[1m asset  \u001b[0m\u001b[1m milestone_year \u001b[0m\u001b[1m commission_year \u001b[0m\u001b[1m decommissionable \u001b[0m\u001b[1m initial_unit\u001b[0m ⋯\n",
       "     │\u001b[90m String \u001b[0m\u001b[90m Int32          \u001b[0m\u001b[90m Int32           \u001b[0m\u001b[90m Bool             \u001b[0m\u001b[90m Float64     \u001b[0m ⋯\n",
       "─────┼──────────────────────────────────────────────────────────────────────────\n",
       "   1 │ wind25            2030             2030             false           30. ⋯\n",
       "   2 │ wind25            2040             2040             false           30.\n",
       "   3 │ wind25            2050             2050             false           30.\n",
       "\u001b[36m                                                               2 columns omitted\u001b[0m"
      ]
     },
     "metadata": {},
     "output_type": "display_data"
    }
   ],
   "source": [
    "# initial wind capacity\n",
    "filter(row -> occursin(\"wind\", row.asset) && row.initial_units != 0.0, TIO.get_table(connection_vintage_standard, \"asset_both\"))"
   ]
  },
  {
   "cell_type": "code",
   "execution_count": 20,
   "metadata": {},
   "outputs": [
    {
     "data": {
      "text/html": [
       "<div><div style = \"float: left;\"><span>3×7 DataFrame</span></div><div style = \"clear: both;\"></div></div><div class = \"data-frame\" style = \"overflow-x: scroll;\"><table class = \"data-frame\" style = \"margin-bottom: 6px;\"><thead><tr class = \"header\"><th class = \"rowNumber\" style = \"font-weight: bold; text-align: right;\">Row</th><th style = \"text-align: left;\">id</th><th style = \"text-align: left;\">asset</th><th style = \"text-align: left;\">milestone_year</th><th style = \"text-align: left;\">investment_integer</th><th style = \"text-align: left;\">capacity</th><th style = \"text-align: left;\">investment_limit</th><th style = \"text-align: left;\">solution</th></tr><tr class = \"subheader headerLastRow\"><th class = \"rowNumber\" style = \"font-weight: bold; text-align: right;\"></th><th title = \"Int64\" style = \"text-align: left;\">Int64</th><th title = \"String\" style = \"text-align: left;\">String</th><th title = \"Int32\" style = \"text-align: left;\">Int32</th><th title = \"Bool\" style = \"text-align: left;\">Bool</th><th title = \"Float64\" style = \"text-align: left;\">Float64</th><th title = \"Float64\" style = \"text-align: left;\">Float64</th><th title = \"Float64\" style = \"text-align: left;\">Float64</th></tr></thead><tbody><tr><td class = \"rowNumber\" style = \"font-weight: bold; text-align: right;\">1</td><td style = \"text-align: right;\">1</td><td style = \"text-align: left;\">wind30</td><td style = \"text-align: right;\">2030</td><td style = \"text-align: right;\">true</td><td style = \"text-align: right;\">1.0</td><td style = \"text-align: right;\">107.567</td><td style = \"text-align: right;\">107.0</td></tr><tr><td class = \"rowNumber\" style = \"font-weight: bold; text-align: right;\">2</td><td style = \"text-align: right;\">2</td><td style = \"text-align: left;\">wind40</td><td style = \"text-align: right;\">2040</td><td style = \"text-align: right;\">true</td><td style = \"text-align: right;\">1.0</td><td style = \"text-align: right;\">186.156</td><td style = \"text-align: right;\">186.0</td></tr><tr><td class = \"rowNumber\" style = \"font-weight: bold; text-align: right;\">3</td><td style = \"text-align: right;\">3</td><td style = \"text-align: left;\">wind50</td><td style = \"text-align: right;\">2050</td><td style = \"text-align: right;\">true</td><td style = \"text-align: right;\">1.0</td><td style = \"text-align: right;\">217.081</td><td style = \"text-align: right;\">105.0</td></tr></tbody></table></div>"
      ],
      "text/plain": [
       "\u001b[1m3×7 DataFrame\u001b[0m\n",
       "\u001b[1m Row \u001b[0m│\u001b[1m id    \u001b[0m\u001b[1m asset  \u001b[0m\u001b[1m milestone_year \u001b[0m\u001b[1m investment_integer \u001b[0m\u001b[1m capacity \u001b[0m\u001b[1m investment\u001b[0m ⋯\n",
       "     │\u001b[90m Int64 \u001b[0m\u001b[90m String \u001b[0m\u001b[90m Int32          \u001b[0m\u001b[90m Bool               \u001b[0m\u001b[90m Float64  \u001b[0m\u001b[90m Float64   \u001b[0m ⋯\n",
       "─────┼──────────────────────────────────────────────────────────────────────────\n",
       "   1 │     1  wind30            2030                true       1.0           1 ⋯\n",
       "   2 │     2  wind40            2040                true       1.0           1\n",
       "   3 │     3  wind50            2050                true       1.0           2\n",
       "\u001b[36m                                                               2 columns omitted\u001b[0m"
      ]
     },
     "metadata": {},
     "output_type": "display_data"
    }
   ],
   "source": [
    "# invested capacity\n",
    "filter(row -> occursin(\"wind\", row.asset) && row.solution != 0.0, TIO.get_table(connection_vintage_standard, \"var_assets_investment\"))"
   ]
  },
  {
   "attachments": {},
   "cell_type": "markdown",
   "metadata": {},
   "source": [
    "#### Annual productions & total system cost"
   ]
  },
  {
   "cell_type": "code",
   "execution_count": 21,
   "metadata": {},
   "outputs": [
    {
     "name": "stdout",
     "output_type": "stream",
     "text": [
      "2030s\n"
     ]
    },
    {
     "name": "stdout",
     "output_type": "stream",
     "text": [
      "\t wind prodution: 661.08 TWh p.a.\n"
     ]
    },
    {
     "name": "stdout",
     "output_type": "stream",
     "text": [
      "\t market supply: 317.83 TWh p.a.\n",
      "2040s\n"
     ]
    },
    {
     "name": "stdout",
     "output_type": "stream",
     "text": [
      "\t wind prodution: 1507.38 TWh p.a.\n"
     ]
    },
    {
     "name": "stdout",
     "output_type": "stream",
     "text": [
      "\t market supply: 422.86 TWh p.a.\n",
      "2050s\n"
     ]
    },
    {
     "name": "stdout",
     "output_type": "stream",
     "text": [
      "\t wind prodution: 1815.86 TWh p.a.\n"
     ]
    },
    {
     "name": "stdout",
     "output_type": "stream",
     "text": [
      "\t market supply: 427.39 TWh p.a.\n",
      "Total system cost: 1220.54 Billion €\n"
     ]
    },
    {
     "name": "stdout",
     "output_type": "stream",
     "text": [
      "\t investment: 427.48 Billion € \n",
      "\t fixed O&M: 192.0 Billion € \n",
      "\t variable O&M: 601.06 Billion €\n",
      "Total system cost ≈ investment + fixed O&M + variable O&M: true\n"
     ]
    }
   ],
   "source": [
    "print_annual_total_prod(connection_vintage_standard, 2030, 2040, 2050)\n",
    "\n",
    "total_cost = multiyear_vintage_standard.objective_value\n",
    "println(\"Total system cost: $(round(total_cost/1000, digits=2)) Billion €\")\n",
    "\n",
    "inv_cost, fixed_om_cost, variable_om_cost = objective_terms_value(multiyear_vintage_standard, connection_vintage_standard)\n",
    "println(\n",
    "    \"\\t investment: $(round(inv_cost/1000, digits=2)) Billion € \\n\", \n",
    "    \"\\t fixed O&M: $(round(fixed_om_cost/1000, digits=2)) Billion € \\n\",\n",
    "    \"\\t variable O&M: $(round(variable_om_cost/1000, digits=2)) Billion €\"\n",
    ")\n",
    "println(\n",
    "    \"Total system cost ≈ investment + fixed O&M + variable O&M: \", \n",
    "    total_cost ≈ inv_cost + fixed_om_cost + variable_om_cost\n",
    ")\n",
    "# @assert total_cost ≈ inv_cost + fixed_om_cost + variable_om_cost"
   ]
  },
  {
   "attachments": {},
   "cell_type": "markdown",
   "metadata": {},
   "source": [
    "## 3. Compact unit vintage\n",
    "\n",
    "- Difference from case 1: `asset.csv` (only `investment_method`), `asset-commission.csv`, `asset-both`\n",
    "- In any milestone year, only the tech. vintage of the same year is available for investment (assumed with setting `investment_method=compact`)\n",
    "- Resulted investment in 2050 differ significantly from the no vintage case because the wind of 2020 vintage (wind commissioned in 2020, defined in `asset-commission.csv`) uses the default availability of `1.0` over the milestone year 2050 due to the lack of availability value is given for 2050 for this vintage (`availability-wind2020` records in `profiles-rep-periods.csv`, which is assigned to the wind commissioned in 2020 in `assets-profiles.csv`)"
   ]
  },
  {
   "attachments": {},
   "cell_type": "markdown",
   "metadata": {},
   "source": [
    "### 3.1 Build and run the model instance"
   ]
  },
  {
   "cell_type": "code",
   "execution_count": 22,
   "metadata": {},
   "outputs": [
    {
     "name": "stdout",
     "output_type": "stream",
     "text": [
      "Running HiGHS 1.11.0 (git hash: 364c83a51e): Copyright (c) 2025 HiGHS under MIT licence terms\n",
      "MIP  has 341640 rows; 315363 cols; 683271 nonzeros; 3 integer variables (0 binary)\n",
      "Coefficient ranges:\n",
      "  Matrix [3e-06, 1e+00]\n",
      "  Cost   [1e-03, 3e+03]\n",
      "  Bound  [1e+02, 2e+02]\n",
      "  RHS    [4e-04, 1e+02]\n",
      "Presolving model\n",
      "26280 rows, 156656 cols, 209204 nonzeros  0s\n",
      "26181 rows, 153639 cols, 206052 nonzeros  1s\n",
      "\n",
      "Solving MIP model with:\n",
      "   26181 rows\n",
      "   153639 cols (0 binary, 3 integer, 0 implied int., 153636 continuous, 0 domain fixed)\n",
      "   206052 nonzeros\n",
      "\n",
      "Src: B => Branching; C => Central rounding; F => Feasibility pump; J => Feasibility jump;\n",
      "     H => Heuristic; L => Sub-MIP; P => Empty MIP; R => Randomized rounding; Z => ZI Round;\n",
      "     I => Shifting; S => Solve LP; T => Evaluate node; U => Unbounded; X => User solution;\n",
      "     z => Trivial zero; l => Trivial lower; u => Trivial upper; p => Trivial point\n",
      "\n",
      "        Nodes      |    B&B Tree     |            Objective Bounds              |  Dynamic Constraints |       Work      \n",
      "Src  Proc. InQueue |  Leaves   Expl. | BestBound       BestSol              Gap |   Cuts   InLp Confl. | LpIters     Time\n",
      "\n",
      " J       0       0         0   0.00%   -inf            2161945.999152     Large        0      0      0         0     2.2s\n",
      " R       0       0         0   0.00%   1220538.614383  1220538.750713     0.00%        0      0      0     43601    18.9s\n",
      "         1       0         1 100.00%   1220538.614383  1220538.750713     0.00%        0      0      0     43601    19.1s\n",
      "\n",
      "Solving report\n",
      "  Status            Optimal\n",
      "  Primal bound      1220538.75071\n",
      "  Dual bound        1220538.61438\n",
      "  Gap               1.1e-05% (tolerance: 0.01%)\n",
      "  P-D integral      14.7737970594\n",
      "  Solution status   feasible\n",
      "                    1220538.75071 (objective)\n",
      "                    0 (bound viol.)\n",
      "                    0 (int. viol.)\n",
      "                    0 (row viol.)\n",
      "  Timing            19.08 (total)\n",
      "                    0.00 (presolve)\n",
      "                    0.00 (solve)\n",
      "                    0.00 (postsolve)\n",
      "  Max sub-MIP depth 0\n",
      "  Nodes             1\n",
      "  Repair LPs        0 (0 feasible; 0 iterations)\n",
      "  LP iterations     43601 (total)\n",
      "                    0 (strong br.)\n",
      "                    0 (separation)\n",
      "                    0 (heuristics)\n",
      "LP   has 341640 rows; 315363 cols; 683271 nonzeros\n",
      "Coefficient ranges:\n",
      "  Matrix [3e-06, 1e+00]\n",
      "  Cost   [1e-03, 3e+03]\n",
      "  Bound  [1e+02, 2e+02]\n",
      "  RHS    [4e-04, 1e+02]\n",
      "Presolving model\n",
      "19731 rows, 117295 cols, 117295 nonzeros  0s\n",
      "Dependent equations search running on 2644 equations with time limit of 1000.00s\n",
      "Dependent equations search removed 0 rows and 0 nonzeros in 0.00s (limit = 1000.00s)\n",
      "19282 rows, 112765 cols, 112765 nonzeros  0s\n",
      "Presolve : Reductions: rows 19282(-322358); columns 112765(-202598); elements 112765(-570506)\n",
      "Solving the presolved LP\n",
      "Using EKK dual simplex solver - serial\n",
      "  Iteration        Objective     Infeasibilities num(sum)\n",
      "          0    -1.5058618076e+03 Ph1: 2644(2644); Du: 2644(1505.86) 1s\n",
      "      21926     1.2205387507e+06 Pr: 0(0) 1s\n",
      "Solving the original LP from the solution after postsolve\n",
      "Model status        : Optimal\n",
      "Simplex   iterations: 21926\n",
      "Objective value     :  1.2205387507e+06\n",
      "P-D objective error :  5.0055547873e-13\n",
      "HiGHS run time      :          1.56\n"
     ]
    },
    {
     "data": {
      "text/plain": [
       "EnergyProblem:\n",
       "  - Model created!\n",
       "    - Number of variables: 315363\n",
       "    - Number of constraints for variable bounds: 315363\n",
       "    - Number of structural constraints: 341640\n",
       "  - Model solved!\n",
       "    - Termination status: OPTIMAL\n",
       "    - Objective value: 1.2205387507129149e6\n"
      ]
     },
     "metadata": {},
     "output_type": "display_data"
    }
   ],
   "source": [
    "# Define and build the input output directories\n",
    "input_dir = \"model-instance-Tulipa/inputs-vintage-compact\"\n",
    "output_dir = joinpath(@__DIR__, \"model-instance-Tulipa/outputs-vintage-compact\")\n",
    "\n",
    "# Always build a new result directory\n",
    "rm(output_dir, force=true, recursive=true) \n",
    "mkdir(output_dir);\n",
    "\n",
    "# Create the connection and prepare input data\n",
    "connection_vintage_compact = DBInterface.connect(DuckDB.DB)\n",
    "TIO.read_csv_folder(connection_vintage_compact, input_dir)\n",
    "TEM.populate_with_defaults!(connection_vintage_compact)\n",
    "\n",
    "# Run the model instance\n",
    "multiyear_vintage_compact = TEM.run_scenario(\n",
    "    connection_vintage_compact;\n",
    "    optimizer_parameters = Dict(\"output_flag\" => true), # TEM.default_parameters(HiGHS.Optimizer): Dict(\"output_flag\" => false)\n",
    "    model_parameters_file = joinpath(@__DIR__, input_dir, \"model-parameters.toml\"),\n",
    "    output_folder = output_dir, \n",
    "    # model_file_name = joinpath(output_dir, \"model.lp\"),\n",
    "    show_log=false,\n",
    "    # # To record solving time. \n",
    "    # # Always run with this option in a new or restarted kernel to ensure the time is dedicated to this solve only.\n",
    "    # log_file = joinpath(@__DIR__, \"model-instance-Tulipa/model-log_vintage-compact.txt\")\n",
    ")"
   ]
  },
  {
   "attachments": {},
   "cell_type": "markdown",
   "metadata": {},
   "source": [
    "### 3.2 Key results"
   ]
  },
  {
   "cell_type": "markdown",
   "metadata": {},
   "source": [
    "#### Capacity"
   ]
  },
  {
   "attachments": {},
   "cell_type": "markdown",
   "metadata": {},
   "source": [
    "- Units built in different years are explicitly listed, \n",
    "- meaning that their corresponding profiles are also considered."
   ]
  },
  {
   "cell_type": "code",
   "execution_count": 23,
   "metadata": {},
   "outputs": [
    {
     "data": {
      "text/html": [
       "<div><div style = \"float: left;\"><span>3×6 DataFrame</span></div><div style = \"clear: both;\"></div></div><div class = \"data-frame\" style = \"overflow-x: scroll;\"><table class = \"data-frame\" style = \"margin-bottom: 6px;\"><thead><tr class = \"header\"><th class = \"rowNumber\" style = \"font-weight: bold; text-align: right;\">Row</th><th style = \"text-align: left;\">asset</th><th style = \"text-align: left;\">milestone_year</th><th style = \"text-align: left;\">commission_year</th><th style = \"text-align: left;\">decommissionable</th><th style = \"text-align: left;\">initial_units</th><th style = \"text-align: left;\">initial_storage_units</th></tr><tr class = \"subheader headerLastRow\"><th class = \"rowNumber\" style = \"font-weight: bold; text-align: right;\"></th><th title = \"String\" style = \"text-align: left;\">String</th><th title = \"Int32\" style = \"text-align: left;\">Int32</th><th title = \"Int32\" style = \"text-align: left;\">Int32</th><th title = \"Bool\" style = \"text-align: left;\">Bool</th><th title = \"Float64\" style = \"text-align: left;\">Float64</th><th title = \"Float64\" style = \"text-align: left;\">Float64</th></tr></thead><tbody><tr><td class = \"rowNumber\" style = \"font-weight: bold; text-align: right;\">1</td><td style = \"text-align: left;\">wind</td><td style = \"text-align: right;\">2030</td><td style = \"text-align: right;\">2025</td><td style = \"text-align: right;\">false</td><td style = \"text-align: right;\">30.0</td><td style = \"text-align: right;\">0.0</td></tr><tr><td class = \"rowNumber\" style = \"font-weight: bold; text-align: right;\">2</td><td style = \"text-align: left;\">wind</td><td style = \"text-align: right;\">2040</td><td style = \"text-align: right;\">2025</td><td style = \"text-align: right;\">false</td><td style = \"text-align: right;\">30.0</td><td style = \"text-align: right;\">0.0</td></tr><tr><td class = \"rowNumber\" style = \"font-weight: bold; text-align: right;\">3</td><td style = \"text-align: left;\">wind</td><td style = \"text-align: right;\">2050</td><td style = \"text-align: right;\">2025</td><td style = \"text-align: right;\">false</td><td style = \"text-align: right;\">30.0</td><td style = \"text-align: right;\">0.0</td></tr></tbody></table></div>"
      ],
      "text/plain": [
       "\u001b[1m3×6 DataFrame\u001b[0m\n",
       "\u001b[1m Row \u001b[0m│\u001b[1m asset  \u001b[0m\u001b[1m milestone_year \u001b[0m\u001b[1m commission_year \u001b[0m\u001b[1m decommissionable \u001b[0m\u001b[1m initial_unit\u001b[0m ⋯\n",
       "     │\u001b[90m String \u001b[0m\u001b[90m Int32          \u001b[0m\u001b[90m Int32           \u001b[0m\u001b[90m Bool             \u001b[0m\u001b[90m Float64     \u001b[0m ⋯\n",
       "─────┼──────────────────────────────────────────────────────────────────────────\n",
       "   1 │ wind              2030             2025             false           30. ⋯\n",
       "   2 │ wind              2040             2025             false           30.\n",
       "   3 │ wind              2050             2025             false           30.\n",
       "\u001b[36m                                                               2 columns omitted\u001b[0m"
      ]
     },
     "metadata": {},
     "output_type": "display_data"
    }
   ],
   "source": [
    "# initial wind capacity\n",
    "filter(row -> row.asset==\"wind\" && row.initial_units != 0, TIO.get_table(connection_vintage_compact, \"asset_both\"))"
   ]
  },
  {
   "cell_type": "code",
   "execution_count": 24,
   "metadata": {},
   "outputs": [
    {
     "data": {
      "text/html": [
       "<div><div style = \"float: left;\"><span>3×7 DataFrame</span></div><div style = \"clear: both;\"></div></div><div class = \"data-frame\" style = \"overflow-x: scroll;\"><table class = \"data-frame\" style = \"margin-bottom: 6px;\"><thead><tr class = \"header\"><th class = \"rowNumber\" style = \"font-weight: bold; text-align: right;\">Row</th><th style = \"text-align: left;\">id</th><th style = \"text-align: left;\">asset</th><th style = \"text-align: left;\">milestone_year</th><th style = \"text-align: left;\">investment_integer</th><th style = \"text-align: left;\">capacity</th><th style = \"text-align: left;\">investment_limit</th><th style = \"text-align: left;\">solution</th></tr><tr class = \"subheader headerLastRow\"><th class = \"rowNumber\" style = \"font-weight: bold; text-align: right;\"></th><th title = \"Int64\" style = \"text-align: left;\">Int64</th><th title = \"String\" style = \"text-align: left;\">String</th><th title = \"Int32\" style = \"text-align: left;\">Int32</th><th title = \"Bool\" style = \"text-align: left;\">Bool</th><th title = \"Float64\" style = \"text-align: left;\">Float64</th><th title = \"Float64\" style = \"text-align: left;\">Float64</th><th title = \"Float64\" style = \"text-align: left;\">Float64</th></tr></thead><tbody><tr><td class = \"rowNumber\" style = \"font-weight: bold; text-align: right;\">1</td><td style = \"text-align: right;\">1</td><td style = \"text-align: left;\">wind</td><td style = \"text-align: right;\">2030</td><td style = \"text-align: right;\">true</td><td style = \"text-align: right;\">1.0</td><td style = \"text-align: right;\">107.567</td><td style = \"text-align: right;\">107.0</td></tr><tr><td class = \"rowNumber\" style = \"font-weight: bold; text-align: right;\">2</td><td style = \"text-align: right;\">2</td><td style = \"text-align: left;\">wind</td><td style = \"text-align: right;\">2040</td><td style = \"text-align: right;\">true</td><td style = \"text-align: right;\">1.0</td><td style = \"text-align: right;\">186.156</td><td style = \"text-align: right;\">186.0</td></tr><tr><td class = \"rowNumber\" style = \"font-weight: bold; text-align: right;\">3</td><td style = \"text-align: right;\">3</td><td style = \"text-align: left;\">wind</td><td style = \"text-align: right;\">2050</td><td style = \"text-align: right;\">true</td><td style = \"text-align: right;\">1.0</td><td style = \"text-align: right;\">217.081</td><td style = \"text-align: right;\">105.0</td></tr></tbody></table></div>"
      ],
      "text/plain": [
       "\u001b[1m3×7 DataFrame\u001b[0m\n",
       "\u001b[1m Row \u001b[0m│\u001b[1m id    \u001b[0m\u001b[1m asset  \u001b[0m\u001b[1m milestone_year \u001b[0m\u001b[1m investment_integer \u001b[0m\u001b[1m capacity \u001b[0m\u001b[1m investment\u001b[0m ⋯\n",
       "     │\u001b[90m Int64 \u001b[0m\u001b[90m String \u001b[0m\u001b[90m Int32          \u001b[0m\u001b[90m Bool               \u001b[0m\u001b[90m Float64  \u001b[0m\u001b[90m Float64   \u001b[0m ⋯\n",
       "─────┼──────────────────────────────────────────────────────────────────────────\n",
       "   1 │     1  wind              2030                true       1.0           1 ⋯\n",
       "   2 │     2  wind              2040                true       1.0           1\n",
       "   3 │     3  wind              2050                true       1.0           2\n",
       "\u001b[36m                                                               2 columns omitted\u001b[0m"
      ]
     },
     "metadata": {},
     "output_type": "display_data"
    }
   ],
   "source": [
    "# invested capacity of the wind commissioned in the milestone year\n",
    "filter(row -> row.asset==\"wind\", TIO.get_table(connection_vintage_compact, \"var_assets_investment\"))"
   ]
  },
  {
   "attachments": {},
   "cell_type": "markdown",
   "metadata": {},
   "source": [
    "#### Annual productions & total system cost"
   ]
  },
  {
   "cell_type": "code",
   "execution_count": 25,
   "metadata": {},
   "outputs": [
    {
     "name": "stdout",
     "output_type": "stream",
     "text": [
      "2030s\n"
     ]
    },
    {
     "name": "stdout",
     "output_type": "stream",
     "text": [
      "\t wind prodution: 661.08 TWh p.a.\n"
     ]
    },
    {
     "name": "stdout",
     "output_type": "stream",
     "text": [
      "\t market supply: 317.83 TWh p.a.\n",
      "2040s\n"
     ]
    },
    {
     "name": "stdout",
     "output_type": "stream",
     "text": [
      "\t wind prodution: 1507.38 TWh p.a.\n"
     ]
    },
    {
     "name": "stdout",
     "output_type": "stream",
     "text": [
      "\t market supply: 422.86 TWh p.a.\n",
      "2050s\n"
     ]
    },
    {
     "name": "stdout",
     "output_type": "stream",
     "text": [
      "\t wind prodution: 1815.86 TWh p.a.\n"
     ]
    },
    {
     "name": "stdout",
     "output_type": "stream",
     "text": [
      "\t market supply: 427.39 TWh p.a.\n",
      "Total system cost: 1220.54 Billion €\n"
     ]
    },
    {
     "name": "stdout",
     "output_type": "stream",
     "text": [
      "\t investment: 427.48 Billion € \n",
      "\t fixed O&M: 192.0 Billion € \n",
      "\t variable O&M: 601.06 Billion €\n",
      "Total system cost ≈ investment + fixed O&M + variable O&M: true\n"
     ]
    }
   ],
   "source": [
    "print_annual_total_prod(connection_vintage_compact, 2030, 2040, 2050)\n",
    "\n",
    "total_cost = multiyear_vintage_compact.objective_value\n",
    "println(\"Total system cost: $(round(total_cost/1000, digits=2)) Billion €\")\n",
    "\n",
    "inv_cost, fixed_om_cost, variable_om_cost = objective_terms_value(multiyear_vintage_compact, connection_vintage_compact)\n",
    "println(\n",
    "    \"\\t investment: $(round(inv_cost/1000, digits=2)) Billion € \\n\", \n",
    "    \"\\t fixed O&M: $(round(fixed_om_cost/1000, digits=2)) Billion € \\n\",\n",
    "    \"\\t variable O&M: $(round(variable_om_cost/1000, digits=2)) Billion €\"\n",
    ")\n",
    "println(\n",
    "    \"Total system cost ≈ investment + fixed O&M + variable O&M: \", \n",
    "    total_cost ≈ inv_cost + fixed_om_cost + variable_om_cost\n",
    ")\n",
    "# @assert total_cost ≈ inv_cost + fixed_om_cost + variable_om_cost"
   ]
  },
  {
   "attachments": {},
   "cell_type": "markdown",
   "metadata": {},
   "source": [
    "# Ancillary"
   ]
  },
  {
   "cell_type": "code",
   "execution_count": 26,
   "metadata": {},
   "outputs": [],
   "source": [
    "# # to modify `optimizer_parameters` parameter of TEM.run_scenario()\n",
    "# merge(TEM.default_parameters(HiGHS.Optimizer), Dict(\"log_to_console\" => true))\n",
    "\n",
    "# # show all input/output table names\n",
    "# TIO.show_tables(connection_no_vintage).name\n",
    "# TIO.show_tables(connection_no_vintage)\n",
    "\n",
    "# # filter out some tables by name\n",
    "# filter(row -> occursin(\"obj\", row.name), TIO.show_tables(connection_vintage_compact))\n",
    "# TIO.get_table(connection_vintage_compact, \"t_objective_flows\")"
   ]
  },
  {
   "cell_type": "code",
   "execution_count": 27,
   "metadata": {},
   "outputs": [],
   "source": [
    "# using CSV\n",
    "# show all input/output tables\n",
    "# println(TIO.show_tables(connection_vintage_standard).name)\n",
    "# CSV.write(joinpath(output_dir,\"model_info.csv\"), TIO.show_tables(connection_vintage_compact))"
   ]
  },
  {
   "cell_type": "code",
   "execution_count": 28,
   "metadata": {},
   "outputs": [],
   "source": [
    "# # show specific profiles\n",
    "# filter(\n",
    "#     row -> occursin(\"wind\", row.profile_name) && row.year == 2050,\n",
    "#     TIO.get_table(connection_vintage_standard, \"profiles_rep_periods\")\n",
    "# )"
   ]
  },
  {
   "cell_type": "code",
   "execution_count": 29,
   "metadata": {},
   "outputs": [],
   "source": [
    "# function plot_input_profiles(conn::DuckDB.DB, ::Val{:wind}, year::Int)\n",
    "#     plot()\n",
    "#     profiles = filter(\n",
    "#         row -> occursin(String(:wind), row.profile_name) && row.year == year,\n",
    "#         TIO.get_table(conn, \"profiles_rep_periods\")\n",
    "#     )\n",
    "\n",
    "#     for pname in unique(profiles.profile_name)\n",
    "#         subdf = profiles[profiles.profile_name .== pname, :]\n",
    "#         plot!(subdf.value, label=\"$(pname), year $year\")\n",
    "#     end\n",
    "#     xlabel!(\"Time\")\n",
    "#     ylabel!(\"Capacity factor\")\n",
    "# end\n",
    "\n",
    "# plot_input_profiles(connection_vintage_standard, Val(:wind), 2030)"
   ]
  },
  {
   "cell_type": "code",
   "execution_count": 30,
   "metadata": {},
   "outputs": [],
   "source": [
    "# @show fieldnames(TEM.EnergyProblem)\n",
    "# @show dump(TEM.EnergyProblem)\n",
    "# var_flow = multiyear_vintage_compact.variables[:flow]\n",
    "# fieldnames(typeof(var_flow))\n",
    "# typeof(var_flow.indices)\n",
    "# var_flow.indices.tbl[:id]\n",
    "# multiyear_no_vintage.expressions[:available_asset_units_simple_method]"
   ]
  }
 ],
 "metadata": {
  "kernelspec": {
   "display_name": "Julia 1.10.10",
   "language": "julia",
   "name": "julia-1.10"
  },
  "language_info": {
   "file_extension": ".jl",
   "mimetype": "application/julia",
   "name": "julia",
   "version": "1.10.10"
  },
  "orig_nbformat": 4
 },
 "nbformat": 4,
 "nbformat_minor": 2
}
