{
 "cells": [
  {
   "attachments": {},
   "cell_type": "markdown",
   "metadata": {},
   "source": [
    "# Tulipa multi-year investment demonstration\n",
    "\n",
    "- Adapted from Tulipa tutorial [multi-year investment](https://hackmd.io/CnhwFt1DQ_iT1LH_lQ7h0A)\n",
    "> see in the `TulipaTUtorials/TulipaMultiYear.ipynb` for `TulipaTUtorials/Tulipa-multi-year-full`."
   ]
  },
  {
   "attachments": {},
   "cell_type": "markdown",
   "metadata": {},
   "source": [
    "# Setup workflow environment"
   ]
  },
  {
   "cell_type": "code",
   "execution_count": 1,
   "metadata": {},
   "outputs": [
    {
     "name": "stderr",
     "output_type": "stream",
     "text": [
      "\u001b[32m\u001b[1m  Activating\u001b[22m\u001b[39m project at `~/Projects/VintageDemo`\n"
     ]
    }
   ],
   "source": [
    "using Pkg; Pkg.activate(@__DIR__)\n",
    "\n",
    "import TulipaIO as TIO\n",
    "import TulipaEnergyModel as TEM\n",
    "import TulipaClustering as TC\n",
    "using DuckDB\n",
    "using DataFrames\n",
    "using Plots\n",
    "\n",
    "# # For Win. system to fix the KaTex parse error in Jupyter Notebook\n",
    "# Base.show(stdout, ::MIME\"text/latex\", df::DataFrame) = show(stdout, MIME(\"text/plain\"), df)"
   ]
  },
  {
   "attachments": {},
   "cell_type": "markdown",
   "metadata": {},
   "source": [
    "# Multi-year investment model cases"
   ]
  },
  {
   "attachments": {},
   "cell_type": "markdown",
   "metadata": {},
   "source": [
    "- Milestone years: 2030, 2040 and 2050.\n",
    "- The system has 30GW initial wind capacity built in 2025, the model can choose to invest in wind in all three milestone years.\n",
    "- unused tables: `flow-both.csv`, `flows-profiles.csv`"
   ]
  },
  {
   "attachments": {},
   "cell_type": "markdown",
   "metadata": {},
   "source": [
    "## 1: Without unit vintage"
   ]
  },
  {
   "cell_type": "markdown",
   "metadata": {},
   "source": [
    "> Note: the `output_dir` must exist/(be created) beforehand "
   ]
  },
  {
   "attachments": {},
   "cell_type": "markdown",
   "metadata": {},
   "source": [
    "### 1.1 Build and run the model instance"
   ]
  },
  {
   "cell_type": "code",
   "execution_count": 5,
   "metadata": {},
   "outputs": [
    {
     "ename": "ErrorException",
     "evalue": "Invalid coefficient NaN on variable assets_investment[2050,wind].",
     "output_type": "error",
     "traceback": [
      "Invalid coefficient NaN on variable assets_investment[2050,wind].\n",
      "\n",
      "Stacktrace:\n",
      "  [1] error(s::String)\n",
      "    @ Base ./error.jl:35\n",
      "  [2] _assert_isfinite(a::JuMP.AffExpr)\n",
      "    @ JuMP ~/.julia/packages/JuMP/Ue9wj/src/aff_expr.jl:713\n",
      "  [3] MathOptInterface.ScalarAffineFunction(a::JuMP.AffExpr)\n",
      "    @ JuMP ~/.julia/packages/JuMP/Ue9wj/src/aff_expr.jl:752\n",
      "  [4] moi_function\n",
      "    @ ~/.julia/packages/JuMP/Ue9wj/src/aff_expr.jl:861 [inlined]\n",
      "  [5] set_objective_function(model::JuMP.Model, func::JuMP.AffExpr)\n",
      "    @ JuMP ~/.julia/packages/JuMP/Ue9wj/src/objective.jl:280\n",
      "  [6] set_objective(model::JuMP.Model, sense::MathOptInterface.OptimizationSense, func::JuMP.AffExpr)\n",
      "    @ JuMP ~/.julia/packages/JuMP/Ue9wj/src/objective.jl:345\n",
      "  [7] macro expansion\n",
      "    @ ~/.julia/packages/JuMP/Ue9wj/src/macros/@objective.jl:107 [inlined]\n",
      "  [8] macro expansion\n",
      "    @ ~/.julia/packages/JuMP/Ue9wj/src/macros.jl:419 [inlined]\n",
      "  [9] add_objective!(connection::DuckDB.DB, model::JuMP.Model, variables::Dict{Symbol, TulipaEnergyModel.TulipaVariable}, expressions::Dict{Symbol, TulipaEnergyModel.TulipaExpression}, model_parameters::TulipaEnergyModel.ModelParameters)\n",
      "    @ TulipaEnergyModel ~/.julia/packages/TulipaEnergyModel/6QRQ7/src/objective.jl:295\n",
      " [10] create_model(connection::DuckDB.DB, variables::Dict{Symbol, TulipaEnergyModel.TulipaVariable}, constraints::Dict{Symbol, TulipaEnergyModel.TulipaConstraint}, profiles::TulipaEnergyModel.ProfileLookup, model_parameters::TulipaEnergyModel.ModelParameters; optimizer::Type, optimizer_parameters::Dict{String, Any}, model_file_name::String, enable_names::Bool, direct_model::Bool)\n",
      "    @ TulipaEnergyModel ~/.julia/packages/TulipaEnergyModel/6QRQ7/src/create-model.jl:119\n",
      " [11] create_model\n",
      "    @ ~/.julia/packages/TulipaEnergyModel/6QRQ7/src/create-model.jl:61 [inlined]\n",
      " [12] create_model!(energy_problem::TulipaEnergyModel.EnergyProblem; kwargs::@Kwargs{optimizer::DataType, optimizer_parameters::Dict{String, Any}, model_file_name::String, enable_names::Bool, direct_model::Bool})\n",
      "    @ TulipaEnergyModel ~/.julia/packages/TulipaEnergyModel/6QRQ7/src/create-model.jl:10\n",
      " [13] run_scenario(connection::DuckDB.DB; output_folder::String, optimizer::Type, optimizer_parameters::Dict{String, Any}, model_parameters_file::String, model_file_name::String, enable_names::Bool, direct_model::Bool, log_file::String, show_log::Bool)\n",
      "    @ TulipaEnergyModel ~/.julia/packages/TulipaEnergyModel/6QRQ7/src/run-scenario.jl:46\n",
      " [14] top-level scope\n",
      "    @ ~/Projects/VintageDemo/VintageDemoTulipa.ipynb:15"
     ]
    }
   ],
   "source": [
    "connection = DBInterface.connect(DuckDB.DB)\n",
    "input_dir = \"model-instance-Tulipa/inputs-no-vintage\"\n",
    "output_dir = joinpath(@__DIR__, \"model-instance-Tulipa/outputs-no-vintage\")\n",
    "\n",
    "# Always build a new result directory\n",
    "rm(output_dir, force=true, recursive=true) \n",
    "mkdir(output_dir);\n",
    "\n",
    "# Create the connection and prepare input data\n",
    "connection_no_vintage = DBInterface.connect(DuckDB.DB)\n",
    "TIO.read_csv_folder(connection_no_vintage, input_dir)\n",
    "TEM.populate_with_defaults!(connection_no_vintage)\n",
    "\n",
    "# Run the model instance\n",
    "multiyear_no_vintage = TEM.run_scenario(\n",
    "    connection_no_vintage;\n",
    "    model_parameters_file = joinpath(@__DIR__, input_dir, \"model-parameters.toml\"),\n",
    "    output_folder = output_dir, \n",
    "    model_file_name = joinpath(output_dir, \"model.lp\"),\n",
    "    show_log=false,\n",
    ")"
   ]
  },
  {
   "cell_type": "code",
   "execution_count": 18,
   "metadata": {},
   "outputs": [
    {
     "data": {
      "text/html": [
       "<div><div style = \"float: left;\"><span>3×6 DataFrame</span></div><div style = \"clear: both;\"></div></div><div class = \"data-frame\" style = \"overflow-x: scroll;\"><table class = \"data-frame\" style = \"margin-bottom: 6px;\"><thead><tr class = \"header\"><th class = \"rowNumber\" style = \"font-weight: bold; text-align: right;\">Row</th><th style = \"text-align: left;\">id</th><th style = \"text-align: left;\">asset</th><th style = \"text-align: left;\">milestone_year</th><th style = \"text-align: left;\">investment_integer</th><th style = \"text-align: left;\">capacity</th><th style = \"text-align: left;\">investment_limit</th></tr><tr class = \"subheader headerLastRow\"><th class = \"rowNumber\" style = \"font-weight: bold; text-align: right;\"></th><th title = \"Int64\" style = \"text-align: left;\">Int64</th><th title = \"String\" style = \"text-align: left;\">String</th><th title = \"Int32\" style = \"text-align: left;\">Int32</th><th title = \"Bool\" style = \"text-align: left;\">Bool</th><th title = \"Float64\" style = \"text-align: left;\">Float64</th><th title = \"Union{Missing, Float64}\" style = \"text-align: left;\">Float64?</th></tr></thead><tbody><tr><td class = \"rowNumber\" style = \"font-weight: bold; text-align: right;\">1</td><td style = \"text-align: right;\">1</td><td style = \"text-align: left;\">wind</td><td style = \"text-align: right;\">2030</td><td style = \"text-align: right;\">true</td><td style = \"text-align: right;\">1.0</td><td style = \"font-style: italic; text-align: right;\">missing</td></tr><tr><td class = \"rowNumber\" style = \"font-weight: bold; text-align: right;\">2</td><td style = \"text-align: right;\">2</td><td style = \"text-align: left;\">wind</td><td style = \"text-align: right;\">2040</td><td style = \"text-align: right;\">true</td><td style = \"text-align: right;\">1.0</td><td style = \"font-style: italic; text-align: right;\">missing</td></tr><tr><td class = \"rowNumber\" style = \"font-weight: bold; text-align: right;\">3</td><td style = \"text-align: right;\">3</td><td style = \"text-align: left;\">wind</td><td style = \"text-align: right;\">2050</td><td style = \"text-align: right;\">true</td><td style = \"text-align: right;\">1.0</td><td style = \"font-style: italic; text-align: right;\">missing</td></tr></tbody></table></div>"
      ],
      "text/latex": [
       "\\begin{tabular}{r|cccccc}\n",
       "\t& id & asset & milestone\\_year & investment\\_integer & capacity & investment\\_limit\\\\\n",
       "\t\\hline\n",
       "\t& Int64 & String & Int32 & Bool & Float64 & Float64?\\\\\n",
       "\t\\hline\n",
       "\t1 & 1 & wind & 2030 & 1 & 1.0 & \\emph{missing} \\\\\n",
       "\t2 & 2 & wind & 2040 & 1 & 1.0 & \\emph{missing} \\\\\n",
       "\t3 & 3 & wind & 2050 & 1 & 1.0 & \\emph{missing} \\\\\n",
       "\\end{tabular}\n"
      ],
      "text/plain": [
       "\u001b[1m3×6 DataFrame\u001b[0m\n",
       "\u001b[1m Row \u001b[0m│\u001b[1m id    \u001b[0m\u001b[1m asset  \u001b[0m\u001b[1m milestone_year \u001b[0m\u001b[1m investment_integer \u001b[0m\u001b[1m capacity \u001b[0m\u001b[1m investment\u001b[0m ⋯\n",
       "     │\u001b[90m Int64 \u001b[0m\u001b[90m String \u001b[0m\u001b[90m Int32          \u001b[0m\u001b[90m Bool               \u001b[0m\u001b[90m Float64  \u001b[0m\u001b[90m Float64?  \u001b[0m ⋯\n",
       "─────┼──────────────────────────────────────────────────────────────────────────\n",
       "   1 │     1  wind              2030                true       1.0 \u001b[90m          m\u001b[0m ⋯\n",
       "   2 │     2  wind              2040                true       1.0 \u001b[90m          m\u001b[0m\n",
       "   3 │     3  wind              2050                true       1.0 \u001b[90m          m\u001b[0m\n",
       "\u001b[36m                                                                1 column omitted\u001b[0m"
      ]
     },
     "metadata": {},
     "output_type": "display_data"
    }
   ],
   "source": [
    "filter(row -> row.asset==\"wind\", TIO.get_table(connection_no_vintage, \"var_assets_investment\"))"
   ]
  },
  {
   "cell_type": "code",
   "execution_count": 14,
   "metadata": {},
   "outputs": [
    {
     "name": "stdout",
     "output_type": "stream",
     "text": [
      "[\"asset\", \"asset_both\", \"asset_commission\", \"asset_milestone\", \"asset_time_resolution_over_clustered_year\", \"asset_time_resolution_rep_period\", \"assets_profiles\", \"assets_rep_periods_partitions\", \"assets_timeframe_partitions\", \"assets_timeframe_profiles\", \"cons_balance_consumer\", \"cons_balance_conversion\", \"cons_balance_hub\", \"cons_balance_storage_over_clustered_year\", \"cons_balance_storage_rep_period\", \"cons_capacity_incoming_simple_method\", \"cons_capacity_incoming_simple_method_investable_storage_with_binary\", \"cons_capacity_incoming_simple_method_non_investable_storage_with_binary\", \"cons_capacity_outgoing_compact_method\", \"cons_capacity_outgoing_semi_compact_method\", \"cons_capacity_outgoing_simple_method\", \"cons_capacity_outgoing_simple_method_investable_storage_with_binary\", \"cons_capacity_outgoing_simple_method_non_investable_storage_with_binary\", \"cons_dc_power_flow\", \"cons_flows_relationships\", \"cons_group_max_investment_limit\", \"cons_group_min_investment_limit\", \"cons_limit_decommission_compact_method\", \"cons_limit_units_on_compact_method\", \"cons_limit_units_on_simple_method\", \"cons_max_energy_over_clustered_year\", \"cons_max_output_flow_with_basic_unit_commitment\", \"cons_max_ramp_with_unit_commitment\", \"cons_max_ramp_without_unit_commitment\", \"cons_min_energy_over_clustered_year\", \"cons_min_incoming_flow_for_transport_flows\", \"cons_min_outgoing_flow_for_transport_flows_without_unit_commitment\", \"cons_min_output_flow_with_unit_commitment\", \"cons_transport_flow_limit_simple_method\", \"cons_vintage_flow_sum_semi_compact_method\", \"expr_available_asset_units_compact_method\", \"expr_available_asset_units_simple_method\", \"expr_available_energy_capacity_simple_method\", \"expr_available_energy_units_simple_method\", \"expr_available_flow_units_simple_method\", \"flow\", \"flow_both\", \"flow_commission\", \"flow_milestone\", \"flow_time_resolution_rep_period\", \"flows_profiles\", \"flows_relationships\", \"flows_rep_periods_partitions\", \"group_asset\", \"merged_all\", \"merged_all_flows\", \"merged_assets_and_out_flows\", \"merged_flows_and_connecting_assets\", \"merged_flows_conversion_balance\", \"merged_flows_relationship\", \"merged_in_flows\", \"merged_in_flows_conversion_balance\", \"merged_out_flows\", \"merged_out_flows_conversion_balance\", \"profiles_rep_periods\", \"profiles_timeframe\", \"rep_periods_data\", \"rep_periods_mapping\", \"t_discount_assets_in_between_milestone_years\", \"t_discount_flows_in_between_milestone_years\", \"t_explicit_assets_rep_periods_partitions\", \"t_explicit_assets_timeframe_partitions\", \"t_explicit_flows_rep_periods_partitions\", \"t_grouped_cons_balance_consumer\", \"t_grouped_cons_balance_conversion\", \"t_grouped_cons_balance_hub\", \"t_grouped_cons_balance_storage_over_clustered_year\", \"t_grouped_cons_balance_storage_rep_period\", \"t_grouped_cons_capacity_incoming_simple_method\", \"t_grouped_cons_capacity_incoming_simple_method_investable_storage_with_binary\", \"t_grouped_cons_capacity_incoming_simple_method_non_investable_storage_with_binary\", \"t_grouped_cons_capacity_outgoing_compact_method\", \"t_grouped_cons_capacity_outgoing_semi_compact_method\", \"t_grouped_cons_capacity_outgoing_simple_method\", \"t_grouped_cons_capacity_outgoing_simple_method_investable_storage_with_binary\", \"t_grouped_cons_capacity_outgoing_simple_method_non_investable_storage_with_binary\", \"t_grouped_cons_max_energy_over_clustered_year\", \"t_grouped_cons_max_output_flow_with_basic_unit_commitment\", \"t_grouped_cons_max_ramp_with_unit_commitment\", \"t_grouped_cons_max_ramp_without_unit_commitment\", \"t_grouped_cons_min_energy_over_clustered_year\", \"t_grouped_cons_min_incoming_flow_for_transport_flows\", \"t_grouped_cons_min_outgoing_flow_for_transport_flows_without_unit_commitment\", \"t_grouped_cons_min_output_flow_with_unit_commitment\", \"t_grouped_rpmap_over_rp\", \"t_grouped_var_flow_match_on_from_asset\", \"t_grouped_var_flow_match_on_to_asset\", \"t_grouped_var_is_charging\", \"t_grouped_var_units_on\", \"t_grouped_var_vintage_flow_match_on_from_asset\", \"t_grouped_var_vintage_flow_match_on_to_asset\", \"t_groups\", \"t_highest_all_flows\", \"t_highest_assets_and_out_flows\", \"t_highest_flows_and_connecting_assets\", \"t_highest_in_flows\", \"t_highest_out_flows\", \"t_lowest_all\", \"t_lowest_all_flows\", \"t_lowest_flows_conversion_balance\", \"t_lowest_flows_relationship\", \"t_objective_assets\", \"t_objective_flows\", \"timeframe_data\", \"var_assets_decommission\", \"var_assets_decommission_energy\", \"var_assets_investment\", \"var_assets_investment_energy\", \"var_electricity_angle\", \"var_flow\", \"var_flows_decommission\", \"var_flows_investment\", \"var_is_charging\", \"var_storage_level_over_clustered_year\", \"var_storage_level_rep_period\", \"var_units_on\", \"var_vintage_flow\", \"year_data\"]\n"
     ]
    },
    {
     "data": {
      "text/html": [
       "<div><div style = \"float: left;\"><span>128×1 DataFrame</span></div><div style = \"float: right;\"><span style = \"font-style: italic;\">103 rows omitted</span></div><div style = \"clear: both;\"></div></div><div class = \"data-frame\" style = \"overflow-x: scroll;\"><table class = \"data-frame\" style = \"margin-bottom: 6px;\"><thead><tr class = \"header\"><th class = \"rowNumber\" style = \"font-weight: bold; text-align: right;\">Row</th><th style = \"text-align: left;\">name</th></tr><tr class = \"subheader headerLastRow\"><th class = \"rowNumber\" style = \"font-weight: bold; text-align: right;\"></th><th title = \"String\" style = \"text-align: left;\">String</th></tr></thead><tbody><tr><td class = \"rowNumber\" style = \"font-weight: bold; text-align: right;\">1</td><td style = \"text-align: left;\">asset</td></tr><tr><td class = \"rowNumber\" style = \"font-weight: bold; text-align: right;\">2</td><td style = \"text-align: left;\">asset_both</td></tr><tr><td class = \"rowNumber\" style = \"font-weight: bold; text-align: right;\">3</td><td style = \"text-align: left;\">asset_commission</td></tr><tr><td class = \"rowNumber\" style = \"font-weight: bold; text-align: right;\">4</td><td style = \"text-align: left;\">asset_milestone</td></tr><tr><td class = \"rowNumber\" style = \"font-weight: bold; text-align: right;\">5</td><td style = \"text-align: left;\">asset_time_resolution_over_clustered_year</td></tr><tr><td class = \"rowNumber\" style = \"font-weight: bold; text-align: right;\">6</td><td style = \"text-align: left;\">asset_time_resolution_rep_period</td></tr><tr><td class = \"rowNumber\" style = \"font-weight: bold; text-align: right;\">7</td><td style = \"text-align: left;\">assets_profiles</td></tr><tr><td class = \"rowNumber\" style = \"font-weight: bold; text-align: right;\">8</td><td style = \"text-align: left;\">assets_rep_periods_partitions</td></tr><tr><td class = \"rowNumber\" style = \"font-weight: bold; text-align: right;\">9</td><td style = \"text-align: left;\">assets_timeframe_partitions</td></tr><tr><td class = \"rowNumber\" style = \"font-weight: bold; text-align: right;\">10</td><td style = \"text-align: left;\">assets_timeframe_profiles</td></tr><tr><td class = \"rowNumber\" style = \"font-weight: bold; text-align: right;\">11</td><td style = \"text-align: left;\">cons_balance_consumer</td></tr><tr><td class = \"rowNumber\" style = \"font-weight: bold; text-align: right;\">12</td><td style = \"text-align: left;\">cons_balance_conversion</td></tr><tr><td class = \"rowNumber\" style = \"font-weight: bold; text-align: right;\">13</td><td style = \"text-align: left;\">cons_balance_hub</td></tr><tr><td style = \"text-align: right;\">&vellip;</td><td style = \"text-align: right;\">&vellip;</td></tr><tr><td class = \"rowNumber\" style = \"font-weight: bold; text-align: right;\">117</td><td style = \"text-align: left;\">var_assets_investment</td></tr><tr><td class = \"rowNumber\" style = \"font-weight: bold; text-align: right;\">118</td><td style = \"text-align: left;\">var_assets_investment_energy</td></tr><tr><td class = \"rowNumber\" style = \"font-weight: bold; text-align: right;\">119</td><td style = \"text-align: left;\">var_electricity_angle</td></tr><tr><td class = \"rowNumber\" style = \"font-weight: bold; text-align: right;\">120</td><td style = \"text-align: left;\">var_flow</td></tr><tr><td class = \"rowNumber\" style = \"font-weight: bold; text-align: right;\">121</td><td style = \"text-align: left;\">var_flows_decommission</td></tr><tr><td class = \"rowNumber\" style = \"font-weight: bold; text-align: right;\">122</td><td style = \"text-align: left;\">var_flows_investment</td></tr><tr><td class = \"rowNumber\" style = \"font-weight: bold; text-align: right;\">123</td><td style = \"text-align: left;\">var_is_charging</td></tr><tr><td class = \"rowNumber\" style = \"font-weight: bold; text-align: right;\">124</td><td style = \"text-align: left;\">var_storage_level_over_clustered_year</td></tr><tr><td class = \"rowNumber\" style = \"font-weight: bold; text-align: right;\">125</td><td style = \"text-align: left;\">var_storage_level_rep_period</td></tr><tr><td class = \"rowNumber\" style = \"font-weight: bold; text-align: right;\">126</td><td style = \"text-align: left;\">var_units_on</td></tr><tr><td class = \"rowNumber\" style = \"font-weight: bold; text-align: right;\">127</td><td style = \"text-align: left;\">var_vintage_flow</td></tr><tr><td class = \"rowNumber\" style = \"font-weight: bold; text-align: right;\">128</td><td style = \"text-align: left;\">year_data</td></tr></tbody></table></div>"
      ],
      "text/latex": [
       "\\begin{tabular}{r|c}\n",
       "\t& name\\\\\n",
       "\t\\hline\n",
       "\t& String\\\\\n",
       "\t\\hline\n",
       "\t1 & asset \\\\\n",
       "\t2 & asset\\_both \\\\\n",
       "\t3 & asset\\_commission \\\\\n",
       "\t4 & asset\\_milestone \\\\\n",
       "\t5 & asset\\_time\\_resolution\\_over\\_clustered\\_year \\\\\n",
       "\t6 & asset\\_time\\_resolution\\_rep\\_period \\\\\n",
       "\t7 & assets\\_profiles \\\\\n",
       "\t8 & assets\\_rep\\_periods\\_partitions \\\\\n",
       "\t9 & assets\\_timeframe\\_partitions \\\\\n",
       "\t10 & assets\\_timeframe\\_profiles \\\\\n",
       "\t11 & cons\\_balance\\_consumer \\\\\n",
       "\t12 & cons\\_balance\\_conversion \\\\\n",
       "\t13 & cons\\_balance\\_hub \\\\\n",
       "\t14 & cons\\_balance\\_storage\\_over\\_clustered\\_year \\\\\n",
       "\t15 & cons\\_balance\\_storage\\_rep\\_period \\\\\n",
       "\t16 & cons\\_capacity\\_incoming\\_simple\\_method \\\\\n",
       "\t17 & cons\\_capacity\\_incoming\\_simple\\_method\\_investable\\_storage\\_with\\_binary \\\\\n",
       "\t18 & cons\\_capacity\\_incoming\\_simple\\_method\\_non\\_investable\\_storage\\_with\\_binary \\\\\n",
       "\t19 & cons\\_capacity\\_outgoing\\_compact\\_method \\\\\n",
       "\t20 & cons\\_capacity\\_outgoing\\_semi\\_compact\\_method \\\\\n",
       "\t21 & cons\\_capacity\\_outgoing\\_simple\\_method \\\\\n",
       "\t22 & cons\\_capacity\\_outgoing\\_simple\\_method\\_investable\\_storage\\_with\\_binary \\\\\n",
       "\t23 & cons\\_capacity\\_outgoing\\_simple\\_method\\_non\\_investable\\_storage\\_with\\_binary \\\\\n",
       "\t24 & cons\\_dc\\_power\\_flow \\\\\n",
       "\t$\\dots$ & $\\dots$ \\\\\n",
       "\\end{tabular}\n"
      ],
      "text/plain": [
       "\u001b[1m128×1 DataFrame\u001b[0m\n",
       "\u001b[1m Row \u001b[0m│\u001b[1m name                              \u001b[0m\n",
       "     │\u001b[90m String                            \u001b[0m\n",
       "─────┼───────────────────────────────────\n",
       "   1 │ asset\n",
       "   2 │ asset_both\n",
       "   3 │ asset_commission\n",
       "   4 │ asset_milestone\n",
       "   5 │ asset_time_resolution_over_clust…\n",
       "   6 │ asset_time_resolution_rep_period\n",
       "   7 │ assets_profiles\n",
       "   8 │ assets_rep_periods_partitions\n",
       "  ⋮  │                 ⋮\n",
       " 122 │ var_flows_investment\n",
       " 123 │ var_is_charging\n",
       " 124 │ var_storage_level_over_clustered…\n",
       " 125 │ var_storage_level_rep_period\n",
       " 126 │ var_units_on\n",
       " 127 │ var_vintage_flow\n",
       " 128 │ year_data\n",
       "\u001b[36m                         113 rows omitted\u001b[0m"
      ]
     },
     "metadata": {},
     "output_type": "display_data"
    }
   ],
   "source": [
    "# show all input/output tables\n",
    "println(TIO.show_tables(connection_no_vintage).name)\n",
    "TIO.show_tables(connection_no_vintage)"
   ]
  },
  {
   "attachments": {},
   "cell_type": "markdown",
   "metadata": {},
   "source": [
    "### 1.2 Key results"
   ]
  },
  {
   "attachments": {},
   "cell_type": "markdown",
   "metadata": {},
   "source": [
    "#### Capacity"
   ]
  },
  {
   "attachments": {},
   "cell_type": "markdown",
   "metadata": {},
   "source": [
    "Check the \"initial capacity\" \n",
    "\n",
    "- in this case, we will not be able to differentiate units built in other years (than milestone years), \n",
    "- they will simply be considered the same as the units built in the milestone year, \n",
    "- which means that we will not use the 2020 profile."
   ]
  },
  {
   "cell_type": "code",
   "execution_count": 4,
   "metadata": {},
   "outputs": [
    {
     "data": {
      "text/html": [
       "<div><div style = \"float: left;\"><span>2×6 DataFrame</span></div><div style = \"clear: both;\"></div></div><div class = \"data-frame\" style = \"overflow-x: scroll;\"><table class = \"data-frame\" style = \"margin-bottom: 6px;\"><thead><tr class = \"header\"><th class = \"rowNumber\" style = \"font-weight: bold; text-align: right;\">Row</th><th style = \"text-align: left;\">asset</th><th style = \"text-align: left;\">milestone_year</th><th style = \"text-align: left;\">commission_year</th><th style = \"text-align: left;\">decommissionable</th><th style = \"text-align: left;\">initial_units</th><th style = \"text-align: left;\">initial_storage_units</th></tr><tr class = \"subheader headerLastRow\"><th class = \"rowNumber\" style = \"font-weight: bold; text-align: right;\"></th><th title = \"String\" style = \"text-align: left;\">String</th><th title = \"Int32\" style = \"text-align: left;\">Int32</th><th title = \"Int32\" style = \"text-align: left;\">Int32</th><th title = \"Bool\" style = \"text-align: left;\">Bool</th><th title = \"Float64\" style = \"text-align: left;\">Float64</th><th title = \"Float64\" style = \"text-align: left;\">Float64</th></tr></thead><tbody><tr><td class = \"rowNumber\" style = \"font-weight: bold; text-align: right;\">1</td><td style = \"text-align: left;\">wind</td><td style = \"text-align: right;\">2030</td><td style = \"text-align: right;\">2030</td><td style = \"text-align: right;\">false</td><td style = \"text-align: right;\">20.0</td><td style = \"text-align: right;\">0.0</td></tr><tr><td class = \"rowNumber\" style = \"font-weight: bold; text-align: right;\">2</td><td style = \"text-align: left;\">wind</td><td style = \"text-align: right;\">2050</td><td style = \"text-align: right;\">2050</td><td style = \"text-align: right;\">false</td><td style = \"text-align: right;\">20.0</td><td style = \"text-align: right;\">0.0</td></tr></tbody></table></div>"
      ],
      "text/latex": [
       "\\begin{tabular}{r|cccccc}\n",
       "\t& asset & milestone\\_year & commission\\_year & decommissionable & initial\\_units & initial\\_storage\\_units\\\\\n",
       "\t\\hline\n",
       "\t& String & Int32 & Int32 & Bool & Float64 & Float64\\\\\n",
       "\t\\hline\n",
       "\t1 & wind & 2030 & 2030 & 0 & 20.0 & 0.0 \\\\\n",
       "\t2 & wind & 2050 & 2050 & 0 & 20.0 & 0.0 \\\\\n",
       "\\end{tabular}\n"
      ],
      "text/plain": [
       "\u001b[1m2×6 DataFrame\u001b[0m\n",
       "\u001b[1m Row \u001b[0m│\u001b[1m asset  \u001b[0m\u001b[1m milestone_year \u001b[0m\u001b[1m commission_year \u001b[0m\u001b[1m decommissionable \u001b[0m\u001b[1m initial_unit\u001b[0m ⋯\n",
       "     │\u001b[90m String \u001b[0m\u001b[90m Int32          \u001b[0m\u001b[90m Int32           \u001b[0m\u001b[90m Bool             \u001b[0m\u001b[90m Float64     \u001b[0m ⋯\n",
       "─────┼──────────────────────────────────────────────────────────────────────────\n",
       "   1 │ wind              2030             2030             false           20. ⋯\n",
       "   2 │ wind              2050             2050             false           20.\n",
       "\u001b[36m                                                               2 columns omitted\u001b[0m"
      ]
     },
     "metadata": {},
     "output_type": "display_data"
    }
   ],
   "source": [
    "# initial capacity\n",
    "filter(row -> row.asset==\"wind\", TIO.get_table(connection_no_vintage, \"asset_both\"))"
   ]
  },
  {
   "cell_type": "code",
   "execution_count": 4,
   "metadata": {},
   "outputs": [
    {
     "ename": "UndefVarError",
     "evalue": "UndefVarError: `connection_no_vintage` not defined",
     "output_type": "error",
     "traceback": [
      "UndefVarError: `connection_no_vintage` not defined\n",
      "\n",
      "Stacktrace:\n",
      " [1] top-level scope\n",
      "   @ ~/Projects/VintageDemo/VintageDemoTulipa.ipynb:2"
     ]
    }
   ],
   "source": [
    "# invested capacity\n",
    "filter(row -> row.asset==\"wind\", TIO.get_table(connection_no_vintage, \"var_assets_investment\"))"
   ]
  },
  {
   "attachments": {},
   "cell_type": "markdown",
   "metadata": {},
   "source": [
    "#### Supply production"
   ]
  },
  {
   "cell_type": "code",
   "execution_count": 6,
   "metadata": {},
   "outputs": [
    {
     "name": "stdout",
     "output_type": "stream",
     "text": [
      "wind prodution: 150110.28244437\n",
      "unserved energy: "
     ]
    },
    {
     "name": "stdout",
     "output_type": "stream",
     "text": [
      "41617.269057375\n"
     ]
    }
   ],
   "source": [
    "println(\n",
    "    \"wind prodution: \",\n",
    "    filter(\n",
    "        row -> occursin(\"wind\", row.from_asset) && row.to_asset == \"demand\", \n",
    "        TIO.get_table(connection_no_vintage, \"var_flow\")\n",
    "    ).solution |> sum\n",
    ")\n",
    "println(\n",
    "    \"unserved energy: \", \n",
    "    filter(row -> row.from_asset == \"ens\" && row.to_asset == \"demand\", \n",
    "        TIO.get_table(connection_no_vintage, \"var_flow\")\n",
    "    ).solution |> sum\n",
    ")"
   ]
  },
  {
   "attachments": {},
   "cell_type": "markdown",
   "metadata": {},
   "source": [
    "#### Objective: total system cost"
   ]
  },
  {
   "cell_type": "code",
   "execution_count": 7,
   "metadata": {},
   "outputs": [
    {
     "name": "stdout",
     "output_type": "stream",
     "text": [
      "Objective value: 4.755307957083756e6\n"
     ]
    }
   ],
   "source": [
    "println(\"Objective value: $(multiyear_no_vintage.objective_value)\")"
   ]
  },
  {
   "attachments": {},
   "cell_type": "markdown",
   "metadata": {},
   "source": [
    "## 2: Explicit unit vintage\n",
    "\n",
    "- Difference from case 1: `asset.csv`, `asset-milestone.csv`, `asset-commission.csv`, `asset-both`, `assets-profiles.csv`, `flow*.csv`\n",
    "- In any milestone year, only the tech. vintage of the same year is available for investment (explicitly regulated by setting the `investable` parameter in `asset-milestone.csv`)\n",
    "- Resulted investment in 2050 differ significantly from the no vintage case because the wind of 2020 vintage (`wind20`) uses the default availability of `1.0` for milestone year 2050 due to the lack of availability value is given for 2050 for this vintage (`availability-wind2020` records in `profiles-rep-periods.csv`, which is assigned to `wind20` in `assets-profiles.csv`)"
   ]
  },
  {
   "attachments": {},
   "cell_type": "markdown",
   "metadata": {},
   "source": [
    "### 2.1 Build and run the model instance"
   ]
  },
  {
   "cell_type": "code",
   "execution_count": 8,
   "metadata": {},
   "outputs": [
    {
     "data": {
      "text/plain": [
       "EnergyProblem:\n",
       "  - Model created!\n",
       "    - Number of variables: 578\n",
       "    - Number of constraints for variable bounds: 578\n",
       "    - Number of structural constraints: 720\n",
       "  - Model solved!\n",
       "    - Termination status: OPTIMAL\n",
       "    - Objective value: 4.689921442937199e6\n"
      ]
     },
     "metadata": {},
     "output_type": "display_data"
    }
   ],
   "source": [
    "# Define and build the input output directories\n",
    "input_dir = \"model-instance-Tulipa/inputs-vintage-standard\"\n",
    "output_dir = joinpath(@__DIR__, \"model-instance-Tulipa/outputs-vintage-standard\")\n",
    "\n",
    "# Always build a new result directory\n",
    "rm(output_dir, force=true, recursive=true) \n",
    "mkdir(output_dir);\n",
    "\n",
    "# Create the connection and prepare input data\n",
    "connection_vintage_standard = DBInterface.connect(DuckDB.DB)\n",
    "TIO.read_csv_folder(connection_vintage_standard, input_dir)\n",
    "TEM.populate_with_defaults!(connection_vintage_standard)\n",
    "\n",
    "# Run the model instance\n",
    "multiyear_vintage_standard = TEM.run_scenario(\n",
    "    connection_vintage_standard;\n",
    "    model_parameters_file = joinpath(@__DIR__, input_dir, \"model-parameters-example.toml\"),\n",
    "    output_folder = output_dir, \n",
    "    model_file_name = joinpath(output_dir, \"model.lp\"),\n",
    "    show_log=false,\n",
    ")"
   ]
  },
  {
   "attachments": {},
   "cell_type": "markdown",
   "metadata": {},
   "source": [
    "### 2.2 Key results"
   ]
  },
  {
   "attachments": {},
   "cell_type": "markdown",
   "metadata": {},
   "source": [
    "#### Capacity"
   ]
  },
  {
   "cell_type": "code",
   "execution_count": 9,
   "metadata": {},
   "outputs": [
    {
     "data": {
      "text/html": [
       "<div><div style = \"float: left;\"><span>2×6 DataFrame</span></div><div style = \"clear: both;\"></div></div><div class = \"data-frame\" style = \"overflow-x: scroll;\"><table class = \"data-frame\" style = \"margin-bottom: 6px;\"><thead><tr class = \"header\"><th class = \"rowNumber\" style = \"font-weight: bold; text-align: right;\">Row</th><th style = \"text-align: left;\">asset</th><th style = \"text-align: left;\">milestone_year</th><th style = \"text-align: left;\">commission_year</th><th style = \"text-align: left;\">decommissionable</th><th style = \"text-align: left;\">initial_units</th><th style = \"text-align: left;\">initial_storage_units</th></tr><tr class = \"subheader headerLastRow\"><th class = \"rowNumber\" style = \"font-weight: bold; text-align: right;\"></th><th title = \"String\" style = \"text-align: left;\">String</th><th title = \"Int32\" style = \"text-align: left;\">Int32</th><th title = \"Int32\" style = \"text-align: left;\">Int32</th><th title = \"Bool\" style = \"text-align: left;\">Bool</th><th title = \"Float64\" style = \"text-align: left;\">Float64</th><th title = \"Float64\" style = \"text-align: left;\">Float64</th></tr></thead><tbody><tr><td class = \"rowNumber\" style = \"font-weight: bold; text-align: right;\">1</td><td style = \"text-align: left;\">wind20</td><td style = \"text-align: right;\">2030</td><td style = \"text-align: right;\">2030</td><td style = \"text-align: right;\">false</td><td style = \"text-align: right;\">20.0</td><td style = \"text-align: right;\">0.0</td></tr><tr><td class = \"rowNumber\" style = \"font-weight: bold; text-align: right;\">2</td><td style = \"text-align: left;\">wind20</td><td style = \"text-align: right;\">2050</td><td style = \"text-align: right;\">2050</td><td style = \"text-align: right;\">false</td><td style = \"text-align: right;\">20.0</td><td style = \"text-align: right;\">0.0</td></tr></tbody></table></div>"
      ],
      "text/latex": [
       "\\begin{tabular}{r|cccccc}\n",
       "\t& asset & milestone\\_year & commission\\_year & decommissionable & initial\\_units & initial\\_storage\\_units\\\\\n",
       "\t\\hline\n",
       "\t& String & Int32 & Int32 & Bool & Float64 & Float64\\\\\n",
       "\t\\hline\n",
       "\t1 & wind20 & 2030 & 2030 & 0 & 20.0 & 0.0 \\\\\n",
       "\t2 & wind20 & 2050 & 2050 & 0 & 20.0 & 0.0 \\\\\n",
       "\\end{tabular}\n"
      ],
      "text/plain": [
       "\u001b[1m2×6 DataFrame\u001b[0m\n",
       "\u001b[1m Row \u001b[0m│\u001b[1m asset  \u001b[0m\u001b[1m milestone_year \u001b[0m\u001b[1m commission_year \u001b[0m\u001b[1m decommissionable \u001b[0m\u001b[1m initial_unit\u001b[0m ⋯\n",
       "     │\u001b[90m String \u001b[0m\u001b[90m Int32          \u001b[0m\u001b[90m Int32           \u001b[0m\u001b[90m Bool             \u001b[0m\u001b[90m Float64     \u001b[0m ⋯\n",
       "─────┼──────────────────────────────────────────────────────────────────────────\n",
       "   1 │ wind20            2030             2030             false           20. ⋯\n",
       "   2 │ wind20            2050             2050             false           20.\n",
       "\u001b[36m                                                               2 columns omitted\u001b[0m"
      ]
     },
     "metadata": {},
     "output_type": "display_data"
    }
   ],
   "source": [
    "# initial capacity of the wind20\n",
    "filter(row -> row.asset==\"wind20\", TIO.get_table(connection_vintage_standard, \"asset_both\"))"
   ]
  },
  {
   "cell_type": "code",
   "execution_count": 10,
   "metadata": {},
   "outputs": [
    {
     "data": {
      "text/html": [
       "<div><div style = \"float: left;\"><span>2×7 DataFrame</span></div><div style = \"clear: both;\"></div></div><div class = \"data-frame\" style = \"overflow-x: scroll;\"><table class = \"data-frame\" style = \"margin-bottom: 6px;\"><thead><tr class = \"header\"><th class = \"rowNumber\" style = \"font-weight: bold; text-align: right;\">Row</th><th style = \"text-align: left;\">id</th><th style = \"text-align: left;\">asset</th><th style = \"text-align: left;\">milestone_year</th><th style = \"text-align: left;\">investment_integer</th><th style = \"text-align: left;\">capacity</th><th style = \"text-align: left;\">investment_limit</th><th style = \"text-align: left;\">solution</th></tr><tr class = \"subheader headerLastRow\"><th class = \"rowNumber\" style = \"font-weight: bold; text-align: right;\"></th><th title = \"Int64\" style = \"text-align: left;\">Int64</th><th title = \"String\" style = \"text-align: left;\">String</th><th title = \"Int32\" style = \"text-align: left;\">Int32</th><th title = \"Bool\" style = \"text-align: left;\">Bool</th><th title = \"Float64\" style = \"text-align: left;\">Float64</th><th title = \"Union{Missing, Float64}\" style = \"text-align: left;\">Float64?</th><th title = \"Float64\" style = \"text-align: left;\">Float64</th></tr></thead><tbody><tr><td class = \"rowNumber\" style = \"font-weight: bold; text-align: right;\">1</td><td style = \"text-align: right;\">1</td><td style = \"text-align: left;\">wind30</td><td style = \"text-align: right;\">2030</td><td style = \"text-align: right;\">true</td><td style = \"text-align: right;\">50.0</td><td style = \"font-style: italic; text-align: right;\">missing</td><td style = \"text-align: right;\">38.0</td></tr><tr><td class = \"rowNumber\" style = \"font-weight: bold; text-align: right;\">2</td><td style = \"text-align: right;\">2</td><td style = \"text-align: left;\">wind50</td><td style = \"text-align: right;\">2050</td><td style = \"text-align: right;\">true</td><td style = \"text-align: right;\">50.0</td><td style = \"font-style: italic; text-align: right;\">missing</td><td style = \"text-align: right;\">11.0</td></tr></tbody></table></div>"
      ],
      "text/latex": [
       "\\begin{tabular}{r|ccccccc}\n",
       "\t& id & asset & milestone\\_year & investment\\_integer & capacity & investment\\_limit & solution\\\\\n",
       "\t\\hline\n",
       "\t& Int64 & String & Int32 & Bool & Float64 & Float64? & Float64\\\\\n",
       "\t\\hline\n",
       "\t1 & 1 & wind30 & 2030 & 1 & 50.0 & \\emph{missing} & 38.0 \\\\\n",
       "\t2 & 2 & wind50 & 2050 & 1 & 50.0 & \\emph{missing} & 11.0 \\\\\n",
       "\\end{tabular}\n"
      ],
      "text/plain": [
       "\u001b[1m2×7 DataFrame\u001b[0m\n",
       "\u001b[1m Row \u001b[0m│\u001b[1m id    \u001b[0m\u001b[1m asset  \u001b[0m\u001b[1m milestone_year \u001b[0m\u001b[1m investment_integer \u001b[0m\u001b[1m capacity \u001b[0m\u001b[1m investment\u001b[0m ⋯\n",
       "     │\u001b[90m Int64 \u001b[0m\u001b[90m String \u001b[0m\u001b[90m Int32          \u001b[0m\u001b[90m Bool               \u001b[0m\u001b[90m Float64  \u001b[0m\u001b[90m Float64?  \u001b[0m ⋯\n",
       "─────┼──────────────────────────────────────────────────────────────────────────\n",
       "   1 │     1  wind30            2030                true      50.0 \u001b[90m          m\u001b[0m ⋯\n",
       "   2 │     2  wind50            2050                true      50.0 \u001b[90m          m\u001b[0m\n",
       "\u001b[36m                                                               2 columns omitted\u001b[0m"
      ]
     },
     "metadata": {},
     "output_type": "display_data"
    }
   ],
   "source": [
    "# invested capacity of the wind30 and wind50\n",
    "filter(row -> (row.asset==\"wind30\" || row.asset==\"wind50\"), TIO.get_table(connection_vintage_standard, \"var_assets_investment\"))"
   ]
  },
  {
   "attachments": {},
   "cell_type": "markdown",
   "metadata": {},
   "source": [
    "#### Supply production"
   ]
  },
  {
   "cell_type": "code",
   "execution_count": 11,
   "metadata": {},
   "outputs": [
    {
     "name": "stdout",
     "output_type": "stream",
     "text": [
      "wind prodution: 166365.23056946314\n",
      "unserved energy: 25362.320932281822\n"
     ]
    }
   ],
   "source": [
    "println(\n",
    "    \"wind prodution: \",\n",
    "    filter(\n",
    "        row -> occursin(\"wind\", row.from_asset) && row.to_asset == \"demand\", \n",
    "        TIO.get_table(connection_vintage_standard, \"var_flow\")\n",
    "    ).solution |> sum\n",
    ")\n",
    "println(\n",
    "    \"unserved energy: \", \n",
    "    filter(row -> row.from_asset == \"ens\" && row.to_asset == \"demand\", \n",
    "        TIO.get_table(connection_vintage_standard, \"var_flow\")\n",
    "    ).solution |> sum\n",
    ")"
   ]
  },
  {
   "attachments": {},
   "cell_type": "markdown",
   "metadata": {},
   "source": [
    "#### Objective: total system cost"
   ]
  },
  {
   "cell_type": "code",
   "execution_count": 12,
   "metadata": {},
   "outputs": [
    {
     "name": "stdout",
     "output_type": "stream",
     "text": [
      "Objective value: 4.689921442937199e6\n"
     ]
    }
   ],
   "source": [
    "println(\"Objective value: $(multiyear_vintage_standard.objective_value)\")"
   ]
  },
  {
   "attachments": {},
   "cell_type": "markdown",
   "metadata": {},
   "source": [
    "## 3: Compact unit vintage\n",
    "\n",
    "- Difference from case 1: `asset.csv` (only `investment_method`), `asset-commission.csv`, `asset-both`\n",
    "- In any milestone year, only the tech. vintage of the same year is available for investment (assumed with setting `investment_method=compact`)\n",
    "- Resulted investment in 2050 differ significantly from the no vintage case because the wind of 2020 vintage (wind commissioned in 2020, defined in `asset-commission.csv`) uses the default availability of `1.0` over the milestone year 2050 due to the lack of availability value is given for 2050 for this vintage (`availability-wind2020` records in `profiles-rep-periods.csv`, which is assigned to the wind commissioned in 2020 in `assets-profiles.csv`)"
   ]
  },
  {
   "attachments": {},
   "cell_type": "markdown",
   "metadata": {},
   "source": [
    "### 3.1 Build and run the model instance"
   ]
  },
  {
   "cell_type": "code",
   "execution_count": 13,
   "metadata": {},
   "outputs": [
    {
     "data": {
      "text/plain": [
       "EnergyProblem:\n",
       "  - Model created!\n",
       "    - Number of variables: 290\n",
       "    - Number of constraints for variable bounds: 290\n",
       "    - Number of structural constraints: 432\n",
       "  - Model solved!\n",
       "    - Termination status: OPTIMAL\n",
       "    - Objective value: 4.6899239376978995e6\n"
      ]
     },
     "metadata": {},
     "output_type": "display_data"
    }
   ],
   "source": [
    "# Define and build the input output directories\n",
    "input_dir = \"model-instance-Tulipa/inputs-vintage-compact\"\n",
    "output_dir = joinpath(@__DIR__, \"model-instance-Tulipa/outputs-vintage-compact\")\n",
    "\n",
    "# Always build a new result directory\n",
    "rm(output_dir, force=true, recursive=true) \n",
    "mkdir(output_dir);\n",
    "\n",
    "# Create the connection and prepare input data\n",
    "connection_vintage_compact = DBInterface.connect(DuckDB.DB)\n",
    "TIO.read_csv_folder(connection_vintage_compact, input_dir)\n",
    "TEM.populate_with_defaults!(connection_vintage_compact)\n",
    "\n",
    "# Run the model instance\n",
    "multiyear_vintage_compact = TEM.run_scenario(\n",
    "    connection_vintage_compact;\n",
    "    model_parameters_file = joinpath(@__DIR__, input_dir, \"model-parameters-example.toml\"),\n",
    "    output_folder = output_dir, \n",
    "    model_file_name = joinpath(output_dir, \"model.lp\"),\n",
    "    show_log=false,\n",
    ")"
   ]
  },
  {
   "attachments": {},
   "cell_type": "markdown",
   "metadata": {},
   "source": [
    "### 3.2 Key results"
   ]
  },
  {
   "cell_type": "markdown",
   "metadata": {},
   "source": [
    "#### Capacity"
   ]
  },
  {
   "attachments": {},
   "cell_type": "markdown",
   "metadata": {},
   "source": [
    "- Units built in different years are explicitly listed, \n",
    "- meaning that their corresponding profiles are also considered."
   ]
  },
  {
   "cell_type": "code",
   "execution_count": 14,
   "metadata": {},
   "outputs": [
    {
     "data": {
      "text/html": [
       "<div><div style = \"float: left;\"><span>2×6 DataFrame</span></div><div style = \"clear: both;\"></div></div><div class = \"data-frame\" style = \"overflow-x: scroll;\"><table class = \"data-frame\" style = \"margin-bottom: 6px;\"><thead><tr class = \"header\"><th class = \"rowNumber\" style = \"font-weight: bold; text-align: right;\">Row</th><th style = \"text-align: left;\">asset</th><th style = \"text-align: left;\">milestone_year</th><th style = \"text-align: left;\">commission_year</th><th style = \"text-align: left;\">decommissionable</th><th style = \"text-align: left;\">initial_units</th><th style = \"text-align: left;\">initial_storage_units</th></tr><tr class = \"subheader headerLastRow\"><th class = \"rowNumber\" style = \"font-weight: bold; text-align: right;\"></th><th title = \"String\" style = \"text-align: left;\">String</th><th title = \"Int32\" style = \"text-align: left;\">Int32</th><th title = \"Int32\" style = \"text-align: left;\">Int32</th><th title = \"Bool\" style = \"text-align: left;\">Bool</th><th title = \"Float64\" style = \"text-align: left;\">Float64</th><th title = \"Float64\" style = \"text-align: left;\">Float64</th></tr></thead><tbody><tr><td class = \"rowNumber\" style = \"font-weight: bold; text-align: right;\">1</td><td style = \"text-align: left;\">wind</td><td style = \"text-align: right;\">2030</td><td style = \"text-align: right;\">2020</td><td style = \"text-align: right;\">false</td><td style = \"text-align: right;\">20.0</td><td style = \"text-align: right;\">0.0</td></tr><tr><td class = \"rowNumber\" style = \"font-weight: bold; text-align: right;\">2</td><td style = \"text-align: left;\">wind</td><td style = \"text-align: right;\">2050</td><td style = \"text-align: right;\">2020</td><td style = \"text-align: right;\">false</td><td style = \"text-align: right;\">20.0</td><td style = \"text-align: right;\">0.0</td></tr></tbody></table></div>"
      ],
      "text/latex": [
       "\\begin{tabular}{r|cccccc}\n",
       "\t& asset & milestone\\_year & commission\\_year & decommissionable & initial\\_units & initial\\_storage\\_units\\\\\n",
       "\t\\hline\n",
       "\t& String & Int32 & Int32 & Bool & Float64 & Float64\\\\\n",
       "\t\\hline\n",
       "\t1 & wind & 2030 & 2020 & 0 & 20.0 & 0.0 \\\\\n",
       "\t2 & wind & 2050 & 2020 & 0 & 20.0 & 0.0 \\\\\n",
       "\\end{tabular}\n"
      ],
      "text/plain": [
       "\u001b[1m2×6 DataFrame\u001b[0m\n",
       "\u001b[1m Row \u001b[0m│\u001b[1m asset  \u001b[0m\u001b[1m milestone_year \u001b[0m\u001b[1m commission_year \u001b[0m\u001b[1m decommissionable \u001b[0m\u001b[1m initial_unit\u001b[0m ⋯\n",
       "     │\u001b[90m String \u001b[0m\u001b[90m Int32          \u001b[0m\u001b[90m Int32           \u001b[0m\u001b[90m Bool             \u001b[0m\u001b[90m Float64     \u001b[0m ⋯\n",
       "─────┼──────────────────────────────────────────────────────────────────────────\n",
       "   1 │ wind              2030             2020             false           20. ⋯\n",
       "   2 │ wind              2050             2020             false           20.\n",
       "\u001b[36m                                                               2 columns omitted\u001b[0m"
      ]
     },
     "metadata": {},
     "output_type": "display_data"
    }
   ],
   "source": [
    "# initial capacity of the wind commissioned in year 2020\n",
    "filter(TIO.get_table(connection_vintage_compact, \"asset_both\")) do row\n",
    "    # row.asset==\"wind\" && (row.milestone_year == 2030 || row.milestone_year == 2050)\n",
    "    row.asset==\"wind\" && row.commission_year == 2020\n",
    "end"
   ]
  },
  {
   "cell_type": "code",
   "execution_count": 15,
   "metadata": {},
   "outputs": [
    {
     "data": {
      "text/html": [
       "<div><div style = \"float: left;\"><span>2×7 DataFrame</span></div><div style = \"clear: both;\"></div></div><div class = \"data-frame\" style = \"overflow-x: scroll;\"><table class = \"data-frame\" style = \"margin-bottom: 6px;\"><thead><tr class = \"header\"><th class = \"rowNumber\" style = \"font-weight: bold; text-align: right;\">Row</th><th style = \"text-align: left;\">id</th><th style = \"text-align: left;\">asset</th><th style = \"text-align: left;\">milestone_year</th><th style = \"text-align: left;\">investment_integer</th><th style = \"text-align: left;\">capacity</th><th style = \"text-align: left;\">investment_limit</th><th style = \"text-align: left;\">solution</th></tr><tr class = \"subheader headerLastRow\"><th class = \"rowNumber\" style = \"font-weight: bold; text-align: right;\"></th><th title = \"Int64\" style = \"text-align: left;\">Int64</th><th title = \"String\" style = \"text-align: left;\">String</th><th title = \"Int32\" style = \"text-align: left;\">Int32</th><th title = \"Bool\" style = \"text-align: left;\">Bool</th><th title = \"Float64\" style = \"text-align: left;\">Float64</th><th title = \"Union{Missing, Float64}\" style = \"text-align: left;\">Float64?</th><th title = \"Float64\" style = \"text-align: left;\">Float64</th></tr></thead><tbody><tr><td class = \"rowNumber\" style = \"font-weight: bold; text-align: right;\">1</td><td style = \"text-align: right;\">1</td><td style = \"text-align: left;\">wind</td><td style = \"text-align: right;\">2030</td><td style = \"text-align: right;\">true</td><td style = \"text-align: right;\">50.0</td><td style = \"font-style: italic; text-align: right;\">missing</td><td style = \"text-align: right;\">38.0</td></tr><tr><td class = \"rowNumber\" style = \"font-weight: bold; text-align: right;\">2</td><td style = \"text-align: right;\">2</td><td style = \"text-align: left;\">wind</td><td style = \"text-align: right;\">2050</td><td style = \"text-align: right;\">true</td><td style = \"text-align: right;\">50.0</td><td style = \"font-style: italic; text-align: right;\">missing</td><td style = \"text-align: right;\">11.0</td></tr></tbody></table></div>"
      ],
      "text/latex": [
       "\\begin{tabular}{r|ccccccc}\n",
       "\t& id & asset & milestone\\_year & investment\\_integer & capacity & investment\\_limit & solution\\\\\n",
       "\t\\hline\n",
       "\t& Int64 & String & Int32 & Bool & Float64 & Float64? & Float64\\\\\n",
       "\t\\hline\n",
       "\t1 & 1 & wind & 2030 & 1 & 50.0 & \\emph{missing} & 38.0 \\\\\n",
       "\t2 & 2 & wind & 2050 & 1 & 50.0 & \\emph{missing} & 11.0 \\\\\n",
       "\\end{tabular}\n"
      ],
      "text/plain": [
       "\u001b[1m2×7 DataFrame\u001b[0m\n",
       "\u001b[1m Row \u001b[0m│\u001b[1m id    \u001b[0m\u001b[1m asset  \u001b[0m\u001b[1m milestone_year \u001b[0m\u001b[1m investment_integer \u001b[0m\u001b[1m capacity \u001b[0m\u001b[1m investment\u001b[0m ⋯\n",
       "     │\u001b[90m Int64 \u001b[0m\u001b[90m String \u001b[0m\u001b[90m Int32          \u001b[0m\u001b[90m Bool               \u001b[0m\u001b[90m Float64  \u001b[0m\u001b[90m Float64?  \u001b[0m ⋯\n",
       "─────┼──────────────────────────────────────────────────────────────────────────\n",
       "   1 │     1  wind              2030                true      50.0 \u001b[90m          m\u001b[0m ⋯\n",
       "   2 │     2  wind              2050                true      50.0 \u001b[90m          m\u001b[0m\n",
       "\u001b[36m                                                               2 columns omitted\u001b[0m"
      ]
     },
     "metadata": {},
     "output_type": "display_data"
    }
   ],
   "source": [
    "# invested capacity of the wind commissioned in the milestone year\n",
    "filter(row -> row.asset==\"wind\", TIO.get_table(connection_vintage_compact, \"var_assets_investment\"))"
   ]
  },
  {
   "attachments": {},
   "cell_type": "markdown",
   "metadata": {},
   "source": [
    "#### Supply production"
   ]
  },
  {
   "cell_type": "code",
   "execution_count": 16,
   "metadata": {},
   "outputs": [
    {
     "name": "stdout",
     "output_type": "stream",
     "text": [
      "wind prodution: 166364.76715482902\n",
      "unserved energy: 25362.784346915978\n"
     ]
    }
   ],
   "source": [
    "println(\n",
    "    \"wind prodution: \",\n",
    "    filter(\n",
    "        row -> occursin(\"wind\", row.from_asset) && row.to_asset == \"demand\", \n",
    "        TIO.get_table(connection_vintage_compact, \"var_flow\")\n",
    "    ).solution |> sum\n",
    ")\n",
    "println(\n",
    "    \"unserved energy: \", \n",
    "    filter(row -> row.from_asset == \"ens\" && row.to_asset == \"demand\", \n",
    "        TIO.get_table(connection_vintage_compact, \"var_flow\")\n",
    "    ).solution |> sum\n",
    ")"
   ]
  },
  {
   "attachments": {},
   "cell_type": "markdown",
   "metadata": {},
   "source": [
    "#### Objective: total system cost"
   ]
  },
  {
   "cell_type": "code",
   "execution_count": 17,
   "metadata": {},
   "outputs": [
    {
     "name": "stdout",
     "output_type": "stream",
     "text": [
      "Objective value: 4.6899239376978995e6\n"
     ]
    }
   ],
   "source": [
    "println(\"Objective value: $(multiyear_vintage_compact.objective_value)\")"
   ]
  },
  {
   "attachments": {},
   "cell_type": "markdown",
   "metadata": {},
   "source": [
    "# Testing ..."
   ]
  },
  {
   "cell_type": "code",
   "execution_count": 22,
   "metadata": {},
   "outputs": [
    {
     "data": {
      "text/plain": [
       "\"/cluster/home/jiahuang/Projects/VintageDemo/model-instance-Tulipa/outputs-vintage-compact/model_info.csv\""
      ]
     },
     "metadata": {},
     "output_type": "display_data"
    }
   ],
   "source": [
    "using CSV\n",
    "# show all input/output tables\n",
    "# println(TIO.show_tables(connection_standard).name)\n",
    "CSV.write(joinpath(output_dir,\"model_info.csv\"), TIO.show_tables(connection_standard))"
   ]
  },
  {
   "cell_type": "code",
   "execution_count": 19,
   "metadata": {},
   "outputs": [
    {
     "data": {
      "text/html": [
       "<div><div style = \"float: left;\"><span>72×5 DataFrame</span></div><div style = \"float: right;\"><span style = \"font-style: italic;\">47 rows omitted</span></div><div style = \"clear: both;\"></div></div><div class = \"data-frame\" style = \"overflow-x: scroll;\"><table class = \"data-frame\" style = \"margin-bottom: 6px;\"><thead><tr class = \"header\"><th class = \"rowNumber\" style = \"font-weight: bold; text-align: right;\">Row</th><th style = \"text-align: left;\">profile_name</th><th style = \"text-align: left;\">year</th><th style = \"text-align: left;\">rep_period</th><th style = \"text-align: left;\">timestep</th><th style = \"text-align: left;\">value</th></tr><tr class = \"subheader headerLastRow\"><th class = \"rowNumber\" style = \"font-weight: bold; text-align: right;\"></th><th title = \"String\" style = \"text-align: left;\">String</th><th title = \"Int32\" style = \"text-align: left;\">Int32</th><th title = \"Int32\" style = \"text-align: left;\">Int32</th><th title = \"Int32\" style = \"text-align: left;\">Int32</th><th title = \"Float64\" style = \"text-align: left;\">Float64</th></tr></thead><tbody><tr><td class = \"rowNumber\" style = \"font-weight: bold; text-align: right;\">1</td><td style = \"text-align: left;\">demand-demand</td><td style = \"text-align: right;\">2050</td><td style = \"text-align: right;\">1</td><td style = \"text-align: right;\">1</td><td style = \"text-align: right;\">0.852018</td></tr><tr><td class = \"rowNumber\" style = \"font-weight: bold; text-align: right;\">2</td><td style = \"text-align: left;\">demand-demand</td><td style = \"text-align: right;\">2050</td><td style = \"text-align: right;\">1</td><td style = \"text-align: right;\">2</td><td style = \"text-align: right;\">0.780269</td></tr><tr><td class = \"rowNumber\" style = \"font-weight: bold; text-align: right;\">3</td><td style = \"text-align: left;\">demand-demand</td><td style = \"text-align: right;\">2050</td><td style = \"text-align: right;\">1</td><td style = \"text-align: right;\">3</td><td style = \"text-align: right;\">0.730045</td></tr><tr><td class = \"rowNumber\" style = \"font-weight: bold; text-align: right;\">4</td><td style = \"text-align: left;\">demand-demand</td><td style = \"text-align: right;\">2050</td><td style = \"text-align: right;\">1</td><td style = \"text-align: right;\">4</td><td style = \"text-align: right;\">0.698655</td></tr><tr><td class = \"rowNumber\" style = \"font-weight: bold; text-align: right;\">5</td><td style = \"text-align: left;\">demand-demand</td><td style = \"text-align: right;\">2050</td><td style = \"text-align: right;\">1</td><td style = \"text-align: right;\">5</td><td style = \"text-align: right;\">0.679821</td></tr><tr><td class = \"rowNumber\" style = \"font-weight: bold; text-align: right;\">6</td><td style = \"text-align: left;\">demand-demand</td><td style = \"text-align: right;\">2050</td><td style = \"text-align: right;\">1</td><td style = \"text-align: right;\">6</td><td style = \"text-align: right;\">0.673543</td></tr><tr><td class = \"rowNumber\" style = \"font-weight: bold; text-align: right;\">7</td><td style = \"text-align: left;\">demand-demand</td><td style = \"text-align: right;\">2050</td><td style = \"text-align: right;\">1</td><td style = \"text-align: right;\">7</td><td style = \"text-align: right;\">0.698655</td></tr><tr><td class = \"rowNumber\" style = \"font-weight: bold; text-align: right;\">8</td><td style = \"text-align: left;\">demand-demand</td><td style = \"text-align: right;\">2050</td><td style = \"text-align: right;\">1</td><td style = \"text-align: right;\">8</td><td style = \"text-align: right;\">0.747982</td></tr><tr><td class = \"rowNumber\" style = \"font-weight: bold; text-align: right;\">9</td><td style = \"text-align: left;\">demand-demand</td><td style = \"text-align: right;\">2050</td><td style = \"text-align: right;\">1</td><td style = \"text-align: right;\">9</td><td style = \"text-align: right;\">0.808969</td></tr><tr><td class = \"rowNumber\" style = \"font-weight: bold; text-align: right;\">10</td><td style = \"text-align: left;\">demand-demand</td><td style = \"text-align: right;\">2050</td><td style = \"text-align: right;\">1</td><td style = \"text-align: right;\">10</td><td style = \"text-align: right;\">0.857399</td></tr><tr><td class = \"rowNumber\" style = \"font-weight: bold; text-align: right;\">11</td><td style = \"text-align: left;\">demand-demand</td><td style = \"text-align: right;\">2050</td><td style = \"text-align: right;\">1</td><td style = \"text-align: right;\">11</td><td style = \"text-align: right;\">0.90583</td></tr><tr><td class = \"rowNumber\" style = \"font-weight: bold; text-align: right;\">12</td><td style = \"text-align: left;\">demand-demand</td><td style = \"text-align: right;\">2050</td><td style = \"text-align: right;\">1</td><td style = \"text-align: right;\">12</td><td style = \"text-align: right;\">0.917489</td></tr><tr><td class = \"rowNumber\" style = \"font-weight: bold; text-align: right;\">13</td><td style = \"text-align: left;\">demand-demand</td><td style = \"text-align: right;\">2050</td><td style = \"text-align: right;\">1</td><td style = \"text-align: right;\">13</td><td style = \"text-align: right;\">0.913004</td></tr><tr><td style = \"text-align: right;\">&vellip;</td><td style = \"text-align: right;\">&vellip;</td><td style = \"text-align: right;\">&vellip;</td><td style = \"text-align: right;\">&vellip;</td><td style = \"text-align: right;\">&vellip;</td><td style = \"text-align: right;\">&vellip;</td></tr><tr><td class = \"rowNumber\" style = \"font-weight: bold; text-align: right;\">61</td><td style = \"text-align: left;\">demand-demand</td><td style = \"text-align: right;\">2050</td><td style = \"text-align: right;\">3</td><td style = \"text-align: right;\">13</td><td style = \"text-align: right;\">0.913004</td></tr><tr><td class = \"rowNumber\" style = \"font-weight: bold; text-align: right;\">62</td><td style = \"text-align: left;\">demand-demand</td><td style = \"text-align: right;\">2050</td><td style = \"text-align: right;\">3</td><td style = \"text-align: right;\">14</td><td style = \"text-align: right;\">0.90583</td></tr><tr><td class = \"rowNumber\" style = \"font-weight: bold; text-align: right;\">63</td><td style = \"text-align: left;\">demand-demand</td><td style = \"text-align: right;\">2050</td><td style = \"text-align: right;\">3</td><td style = \"text-align: right;\">15</td><td style = \"text-align: right;\">0.878924</td></tr><tr><td class = \"rowNumber\" style = \"font-weight: bold; text-align: right;\">64</td><td style = \"text-align: left;\">demand-demand</td><td style = \"text-align: right;\">2050</td><td style = \"text-align: right;\">3</td><td style = \"text-align: right;\">16</td><td style = \"text-align: right;\">0.865471</td></tr><tr><td class = \"rowNumber\" style = \"font-weight: bold; text-align: right;\">65</td><td style = \"text-align: left;\">demand-demand</td><td style = \"text-align: right;\">2050</td><td style = \"text-align: right;\">3</td><td style = \"text-align: right;\">17</td><td style = \"text-align: right;\">0.863677</td></tr><tr><td class = \"rowNumber\" style = \"font-weight: bold; text-align: right;\">66</td><td style = \"text-align: left;\">demand-demand</td><td style = \"text-align: right;\">2050</td><td style = \"text-align: right;\">3</td><td style = \"text-align: right;\">18</td><td style = \"text-align: right;\">0.89417</td></tr><tr><td class = \"rowNumber\" style = \"font-weight: bold; text-align: right;\">67</td><td style = \"text-align: left;\">demand-demand</td><td style = \"text-align: right;\">2050</td><td style = \"text-align: right;\">3</td><td style = \"text-align: right;\">19</td><td style = \"text-align: right;\">0.980269</td></tr><tr><td class = \"rowNumber\" style = \"font-weight: bold; text-align: right;\">68</td><td style = \"text-align: left;\">demand-demand</td><td style = \"text-align: right;\">2050</td><td style = \"text-align: right;\">3</td><td style = \"text-align: right;\">20</td><td style = \"text-align: right;\">0.999103</td></tr><tr><td class = \"rowNumber\" style = \"font-weight: bold; text-align: right;\">69</td><td style = \"text-align: left;\">demand-demand</td><td style = \"text-align: right;\">2050</td><td style = \"text-align: right;\">3</td><td style = \"text-align: right;\">21</td><td style = \"text-align: right;\">1.0</td></tr><tr><td class = \"rowNumber\" style = \"font-weight: bold; text-align: right;\">70</td><td style = \"text-align: left;\">demand-demand</td><td style = \"text-align: right;\">2050</td><td style = \"text-align: right;\">3</td><td style = \"text-align: right;\">22</td><td style = \"text-align: right;\">0.992825</td></tr><tr><td class = \"rowNumber\" style = \"font-weight: bold; text-align: right;\">71</td><td style = \"text-align: left;\">demand-demand</td><td style = \"text-align: right;\">2050</td><td style = \"text-align: right;\">3</td><td style = \"text-align: right;\">23</td><td style = \"text-align: right;\">0.944395</td></tr><tr><td class = \"rowNumber\" style = \"font-weight: bold; text-align: right;\">72</td><td style = \"text-align: left;\">demand-demand</td><td style = \"text-align: right;\">2050</td><td style = \"text-align: right;\">3</td><td style = \"text-align: right;\">24</td><td style = \"text-align: right;\">0.928251</td></tr></tbody></table></div>"
      ],
      "text/latex": [
       "\\begin{tabular}{r|ccccc}\n",
       "\t& profile\\_name & year & rep\\_period & timestep & value\\\\\n",
       "\t\\hline\n",
       "\t& String & Int32 & Int32 & Int32 & Float64\\\\\n",
       "\t\\hline\n",
       "\t1 & demand-demand & 2050 & 1 & 1 & 0.852018 \\\\\n",
       "\t2 & demand-demand & 2050 & 1 & 2 & 0.780269 \\\\\n",
       "\t3 & demand-demand & 2050 & 1 & 3 & 0.730045 \\\\\n",
       "\t4 & demand-demand & 2050 & 1 & 4 & 0.698655 \\\\\n",
       "\t5 & demand-demand & 2050 & 1 & 5 & 0.679821 \\\\\n",
       "\t6 & demand-demand & 2050 & 1 & 6 & 0.673543 \\\\\n",
       "\t7 & demand-demand & 2050 & 1 & 7 & 0.698655 \\\\\n",
       "\t8 & demand-demand & 2050 & 1 & 8 & 0.747982 \\\\\n",
       "\t9 & demand-demand & 2050 & 1 & 9 & 0.808969 \\\\\n",
       "\t10 & demand-demand & 2050 & 1 & 10 & 0.857399 \\\\\n",
       "\t11 & demand-demand & 2050 & 1 & 11 & 0.90583 \\\\\n",
       "\t12 & demand-demand & 2050 & 1 & 12 & 0.917489 \\\\\n",
       "\t13 & demand-demand & 2050 & 1 & 13 & 0.913004 \\\\\n",
       "\t14 & demand-demand & 2050 & 1 & 14 & 0.90583 \\\\\n",
       "\t15 & demand-demand & 2050 & 1 & 15 & 0.878924 \\\\\n",
       "\t16 & demand-demand & 2050 & 1 & 16 & 0.865471 \\\\\n",
       "\t17 & demand-demand & 2050 & 1 & 17 & 0.863677 \\\\\n",
       "\t18 & demand-demand & 2050 & 1 & 18 & 0.89417 \\\\\n",
       "\t19 & demand-demand & 2050 & 1 & 19 & 0.980269 \\\\\n",
       "\t20 & demand-demand & 2050 & 1 & 20 & 0.999103 \\\\\n",
       "\t21 & demand-demand & 2050 & 1 & 21 & 1.0 \\\\\n",
       "\t22 & demand-demand & 2050 & 1 & 22 & 0.992825 \\\\\n",
       "\t23 & demand-demand & 2050 & 1 & 23 & 0.944395 \\\\\n",
       "\t24 & demand-demand & 2050 & 1 & 24 & 0.928251 \\\\\n",
       "\t$\\dots$ & $\\dots$ & $\\dots$ & $\\dots$ & $\\dots$ & $\\dots$ \\\\\n",
       "\\end{tabular}\n"
      ],
      "text/plain": [
       "\u001b[1m72×5 DataFrame\u001b[0m\n",
       "\u001b[1m Row \u001b[0m│\u001b[1m profile_name  \u001b[0m\u001b[1m year  \u001b[0m\u001b[1m rep_period \u001b[0m\u001b[1m timestep \u001b[0m\u001b[1m value    \u001b[0m\n",
       "     │\u001b[90m String        \u001b[0m\u001b[90m Int32 \u001b[0m\u001b[90m Int32      \u001b[0m\u001b[90m Int32    \u001b[0m\u001b[90m Float64  \u001b[0m\n",
       "─────┼──────────────────────────────────────────────────────\n",
       "   1 │ demand-demand   2050           1         1  0.852018\n",
       "   2 │ demand-demand   2050           1         2  0.780269\n",
       "   3 │ demand-demand   2050           1         3  0.730045\n",
       "   4 │ demand-demand   2050           1         4  0.698655\n",
       "   5 │ demand-demand   2050           1         5  0.679821\n",
       "   6 │ demand-demand   2050           1         6  0.673543\n",
       "   7 │ demand-demand   2050           1         7  0.698655\n",
       "   8 │ demand-demand   2050           1         8  0.747982\n",
       "  ⋮  │       ⋮          ⋮        ⋮          ⋮         ⋮\n",
       "  66 │ demand-demand   2050           3        18  0.89417\n",
       "  67 │ demand-demand   2050           3        19  0.980269\n",
       "  68 │ demand-demand   2050           3        20  0.999103\n",
       "  69 │ demand-demand   2050           3        21  1.0\n",
       "  70 │ demand-demand   2050           3        22  0.992825\n",
       "  71 │ demand-demand   2050           3        23  0.944395\n",
       "  72 │ demand-demand   2050           3        24  0.928251\n",
       "\u001b[36m                                             57 rows omitted\u001b[0m"
      ]
     },
     "metadata": {},
     "output_type": "display_data"
    }
   ],
   "source": [
    "filter(\n",
    "    row -> occursin(\"demand\", row.profile_name) && row.year == 2050,\n",
    "    TIO.get_table(connection_standard, \"profiles_rep_periods\")\n",
    ")"
   ]
  },
  {
   "cell_type": "code",
   "execution_count": 20,
   "metadata": {},
   "outputs": [
    {
     "data": {
      "image/png": "[encoded data removed]",
      "image/svg+xml": [
       "<?xml version=\"1.0\" encoding=\"utf-8\"?>\n",
       "<svg xmlns=\"http://www.w3.org/2000/svg\" xmlns:xlink=\"http://www.w3.org/1999/xlink\" width=\"600\" height=\"400\" viewBox=\"0 0 2400 1600\">\n",
       "<defs>\n",
       "  <clipPath id=\"clip870\">\n",
       "    <rect x=\"0\" y=\"0\" width=\"2400\" height=\"1600\"/>\n",
       "  </clipPath>\n",
       "</defs>\n",
       "<path clip-path=\"url(#clip870)\" d=\"M0 1600 L2400 1600 L2400 0 L0 0  Z\" fill=\"#ffffff\" fill-rule=\"evenodd\" fill-opacity=\"1\"/>\n",
       "<defs>\n",
       "  <clipPath id=\"clip871\">\n",
       "    <rect x=\"480\" y=\"0\" width=\"1681\" height=\"1600\"/>\n",
       "  </clipPath>\n",
       "</defs>\n",
       "<path clip-path=\"url(#clip870)\" d=\"M219.866 1423.18 L2352.76 1423.18 L2352.76 47.2441 L219.866 47.2441  Z\" fill=\"#ffffff\" fill-rule=\"evenodd\" fill-opacity=\"1\"/>\n",
       "<defs>\n",
       "  <clipPath id=\"clip872\">\n",
       "    <rect x=\"219\" y=\"47\" width=\"2134\" height=\"1377\"/>\n",
       "  </clipPath>\n",
       "</defs>\n",
       "<polyline clip-path=\"url(#clip872)\" style=\"stroke:#000000; stroke-linecap:round; stroke-linejoin:round; stroke-width:2; stroke-opacity:0.1; fill:none\" points=\"251.891,1423.18 251.891,47.2441 \"/>\n",
       "<polyline clip-path=\"url(#clip872)\" style=\"stroke:#000000; stroke-linecap:round; stroke-linejoin:round; stroke-width:2; stroke-opacity:0.1; fill:none\" points=\"818.696,1423.18 818.696,47.2441 \"/>\n",
       "<polyline clip-path=\"url(#clip872)\" style=\"stroke:#000000; stroke-linecap:round; stroke-linejoin:round; stroke-width:2; stroke-opacity:0.1; fill:none\" points=\"1385.5,1423.18 1385.5,47.2441 \"/>\n",
       "<polyline clip-path=\"url(#clip872)\" style=\"stroke:#000000; stroke-linecap:round; stroke-linejoin:round; stroke-width:2; stroke-opacity:0.1; fill:none\" points=\"1952.31,1423.18 1952.31,47.2441 \"/>\n",
       "<polyline clip-path=\"url(#clip872)\" style=\"stroke:#000000; stroke-linecap:round; stroke-linejoin:round; stroke-width:2; stroke-opacity:0.1; fill:none\" points=\"219.866,1164.36 2352.76,1164.36 \"/>\n",
       "<polyline clip-path=\"url(#clip872)\" style=\"stroke:#000000; stroke-linecap:round; stroke-linejoin:round; stroke-width:2; stroke-opacity:0.1; fill:none\" points=\"219.866,810.861 2352.76,810.861 \"/>\n",
       "<polyline clip-path=\"url(#clip872)\" style=\"stroke:#000000; stroke-linecap:round; stroke-linejoin:round; stroke-width:2; stroke-opacity:0.1; fill:none\" points=\"219.866,457.361 2352.76,457.361 \"/>\n",
       "<polyline clip-path=\"url(#clip872)\" style=\"stroke:#000000; stroke-linecap:round; stroke-linejoin:round; stroke-width:2; stroke-opacity:0.1; fill:none\" points=\"219.866,103.861 2352.76,103.861 \"/>\n",
       "<polyline clip-path=\"url(#clip870)\" style=\"stroke:#000000; stroke-linecap:round; stroke-linejoin:round; stroke-width:4; stroke-opacity:1; fill:none\" points=\"219.866,1423.18 2352.76,1423.18 \"/>\n",
       "<polyline clip-path=\"url(#clip870)\" style=\"stroke:#000000; stroke-linecap:round; stroke-linejoin:round; stroke-width:4; stroke-opacity:1; fill:none\" points=\"251.891,1423.18 251.891,1404.28 \"/>\n",
       "<polyline clip-path=\"url(#clip870)\" style=\"stroke:#000000; stroke-linecap:round; stroke-linejoin:round; stroke-width:4; stroke-opacity:1; fill:none\" points=\"818.696,1423.18 818.696,1404.28 \"/>\n",
       "<polyline clip-path=\"url(#clip870)\" style=\"stroke:#000000; stroke-linecap:round; stroke-linejoin:round; stroke-width:4; stroke-opacity:1; fill:none\" points=\"1385.5,1423.18 1385.5,1404.28 \"/>\n",
       "<polyline clip-path=\"url(#clip870)\" style=\"stroke:#000000; stroke-linecap:round; stroke-linejoin:round; stroke-width:4; stroke-opacity:1; fill:none\" points=\"1952.31,1423.18 1952.31,1404.28 \"/>\n",
       "<path clip-path=\"url(#clip870)\" d=\"M251.891 1454.1 Q248.28 1454.1 246.451 1457.66 Q244.645 1461.2 244.645 1468.33 Q244.645 1475.44 246.451 1479.01 Q248.28 1482.55 251.891 1482.55 Q255.525 1482.55 257.331 1479.01 Q259.159 1475.44 259.159 1468.33 Q259.159 1461.2 257.331 1457.66 Q255.525 1454.1 251.891 1454.1 M251.891 1450.39 Q257.701 1450.39 260.756 1455 Q263.835 1459.58 263.835 1468.33 Q263.835 1477.06 260.756 1481.67 Q257.701 1486.25 251.891 1486.25 Q246.081 1486.25 243.002 1481.67 Q239.946 1477.06 239.946 1468.33 Q239.946 1459.58 243.002 1455 Q246.081 1450.39 251.891 1450.39 Z\" fill=\"#000000\" fill-rule=\"nonzero\" fill-opacity=\"1\" /><path clip-path=\"url(#clip870)\" d=\"M797.47 1481.64 L813.789 1481.64 L813.789 1485.58 L791.845 1485.58 L791.845 1481.64 Q794.507 1478.89 799.09 1474.26 Q803.697 1469.61 804.877 1468.27 Q807.122 1465.74 808.002 1464.01 Q808.905 1462.25 808.905 1460.56 Q808.905 1457.8 806.96 1456.07 Q805.039 1454.33 801.937 1454.33 Q799.738 1454.33 797.285 1455.09 Q794.854 1455.86 792.076 1457.41 L792.076 1452.69 Q794.9 1451.55 797.354 1450.97 Q799.808 1450.39 801.845 1450.39 Q807.215 1450.39 810.409 1453.08 Q813.604 1455.77 813.604 1460.26 Q813.604 1462.39 812.794 1464.31 Q812.007 1466.2 809.9 1468.8 Q809.321 1469.47 806.22 1472.69 Q803.118 1475.88 797.47 1481.64 Z\" fill=\"#000000\" fill-rule=\"nonzero\" fill-opacity=\"1\" /><path clip-path=\"url(#clip870)\" d=\"M833.604 1454.1 Q829.993 1454.1 828.164 1457.66 Q826.358 1461.2 826.358 1468.33 Q826.358 1475.44 828.164 1479.01 Q829.993 1482.55 833.604 1482.55 Q837.238 1482.55 839.044 1479.01 Q840.872 1475.44 840.872 1468.33 Q840.872 1461.2 839.044 1457.66 Q837.238 1454.1 833.604 1454.1 M833.604 1450.39 Q839.414 1450.39 842.469 1455 Q845.548 1459.58 845.548 1468.33 Q845.548 1477.06 842.469 1481.67 Q839.414 1486.25 833.604 1486.25 Q827.794 1486.25 824.715 1481.67 Q821.659 1477.06 821.659 1468.33 Q821.659 1459.58 824.715 1455 Q827.794 1450.39 833.604 1450.39 Z\" fill=\"#000000\" fill-rule=\"nonzero\" fill-opacity=\"1\" /><path clip-path=\"url(#clip870)\" d=\"M1373.67 1455.09 L1361.87 1473.54 L1373.67 1473.54 L1373.67 1455.09 M1372.45 1451.02 L1378.33 1451.02 L1378.33 1473.54 L1383.26 1473.54 L1383.26 1477.43 L1378.33 1477.43 L1378.33 1485.58 L1373.67 1485.58 L1373.67 1477.43 L1358.07 1477.43 L1358.07 1472.92 L1372.45 1451.02 Z\" fill=\"#000000\" fill-rule=\"nonzero\" fill-opacity=\"1\" /><path clip-path=\"url(#clip870)\" d=\"M1400.99 1454.1 Q1397.38 1454.1 1395.55 1457.66 Q1393.74 1461.2 1393.74 1468.33 Q1393.74 1475.44 1395.55 1479.01 Q1397.38 1482.55 1400.99 1482.55 Q1404.62 1482.55 1406.43 1479.01 Q1408.26 1475.44 1408.26 1468.33 Q1408.26 1461.2 1406.43 1457.66 Q1404.62 1454.1 1400.99 1454.1 M1400.99 1450.39 Q1406.8 1450.39 1409.85 1455 Q1412.93 1459.58 1412.93 1468.33 Q1412.93 1477.06 1409.85 1481.67 Q1406.8 1486.25 1400.99 1486.25 Q1395.18 1486.25 1392.1 1481.67 Q1389.04 1477.06 1389.04 1468.33 Q1389.04 1459.58 1392.1 1455 Q1395.18 1450.39 1400.99 1450.39 Z\" fill=\"#000000\" fill-rule=\"nonzero\" fill-opacity=\"1\" /><path clip-path=\"url(#clip870)\" d=\"M1937.71 1466.44 Q1934.56 1466.44 1932.71 1468.59 Q1930.88 1470.74 1930.88 1474.49 Q1930.88 1478.22 1932.71 1480.39 Q1934.56 1482.55 1937.71 1482.55 Q1940.86 1482.55 1942.69 1480.39 Q1944.54 1478.22 1944.54 1474.49 Q1944.54 1470.74 1942.69 1468.59 Q1940.86 1466.44 1937.71 1466.44 M1947 1451.78 L1947 1456.04 Q1945.24 1455.21 1943.43 1454.77 Q1941.65 1454.33 1939.89 1454.33 Q1935.26 1454.33 1932.81 1457.45 Q1930.37 1460.58 1930.03 1466.9 Q1931.39 1464.89 1933.45 1463.82 Q1935.51 1462.73 1937.99 1462.73 Q1943.2 1462.73 1946.21 1465.9 Q1949.24 1469.05 1949.24 1474.49 Q1949.24 1479.82 1946.09 1483.03 Q1942.94 1486.25 1937.71 1486.25 Q1931.72 1486.25 1928.55 1481.67 Q1925.37 1477.06 1925.37 1468.33 Q1925.37 1460.14 1929.26 1455.28 Q1933.15 1450.39 1939.7 1450.39 Q1941.46 1450.39 1943.25 1450.74 Q1945.05 1451.09 1947 1451.78 Z\" fill=\"#000000\" fill-rule=\"nonzero\" fill-opacity=\"1\" /><path clip-path=\"url(#clip870)\" d=\"M1967.3 1454.1 Q1963.68 1454.1 1961.86 1457.66 Q1960.05 1461.2 1960.05 1468.33 Q1960.05 1475.44 1961.86 1479.01 Q1963.68 1482.55 1967.3 1482.55 Q1970.93 1482.55 1972.74 1479.01 Q1974.56 1475.44 1974.56 1468.33 Q1974.56 1461.2 1972.74 1457.66 Q1970.93 1454.1 1967.3 1454.1 M1967.3 1450.39 Q1973.11 1450.39 1976.16 1455 Q1979.24 1459.58 1979.24 1468.33 Q1979.24 1477.06 1976.16 1481.67 Q1973.11 1486.25 1967.3 1486.25 Q1961.49 1486.25 1958.41 1481.67 Q1955.35 1477.06 1955.35 1468.33 Q1955.35 1459.58 1958.41 1455 Q1961.49 1450.39 1967.3 1450.39 Z\" fill=\"#000000\" fill-rule=\"nonzero\" fill-opacity=\"1\" /><path clip-path=\"url(#clip870)\" d=\"M1208.19 1520.52 L1248.39 1520.52 L1248.39 1525.93 L1231.52 1525.93 L1231.52 1568.04 L1225.06 1568.04 L1225.06 1525.93 L1208.19 1525.93 L1208.19 1520.52 Z\" fill=\"#000000\" fill-rule=\"nonzero\" fill-opacity=\"1\" /><path clip-path=\"url(#clip870)\" d=\"M1252.33 1532.4 L1258.19 1532.4 L1258.19 1568.04 L1252.33 1568.04 L1252.33 1532.4 M1252.33 1518.52 L1258.19 1518.52 L1258.19 1525.93 L1252.33 1525.93 L1252.33 1518.52 Z\" fill=\"#000000\" fill-rule=\"nonzero\" fill-opacity=\"1\" /><path clip-path=\"url(#clip870)\" d=\"M1298.2 1539.24 Q1300.4 1535.29 1303.45 1533.41 Q1306.51 1531.54 1310.64 1531.54 Q1316.21 1531.54 1319.24 1535.45 Q1322.26 1539.33 1322.26 1546.53 L1322.26 1568.04 L1316.37 1568.04 L1316.37 1546.72 Q1316.37 1541.59 1314.56 1539.11 Q1312.74 1536.63 1309.02 1536.63 Q1304.47 1536.63 1301.83 1539.65 Q1299.19 1542.68 1299.19 1547.9 L1299.19 1568.04 L1293.3 1568.04 L1293.3 1546.72 Q1293.3 1541.56 1291.48 1539.11 Q1289.67 1536.63 1285.88 1536.63 Q1281.39 1536.63 1278.75 1539.68 Q1276.11 1542.71 1276.11 1547.9 L1276.11 1568.04 L1270.22 1568.04 L1270.22 1532.4 L1276.11 1532.4 L1276.11 1537.93 Q1278.12 1534.66 1280.92 1533.1 Q1283.72 1531.54 1287.57 1531.54 Q1291.45 1531.54 1294.16 1533.51 Q1296.89 1535.48 1298.2 1539.24 Z\" fill=\"#000000\" fill-rule=\"nonzero\" fill-opacity=\"1\" /><path clip-path=\"url(#clip870)\" d=\"M1364.43 1548.76 L1364.43 1551.62 L1337.51 1551.62 Q1337.89 1557.67 1341.14 1560.85 Q1344.41 1564 1350.24 1564 Q1353.61 1564 1356.76 1563.17 Q1359.95 1562.35 1363.07 1560.69 L1363.07 1566.23 Q1359.91 1567.57 1356.6 1568.27 Q1353.29 1568.97 1349.89 1568.97 Q1341.36 1568.97 1336.36 1564 Q1331.4 1559.04 1331.4 1550.57 Q1331.4 1541.82 1336.11 1536.69 Q1340.85 1531.54 1348.87 1531.54 Q1356.06 1531.54 1360.23 1536.18 Q1364.43 1540.8 1364.43 1548.76 M1358.58 1547.04 Q1358.51 1542.23 1355.87 1539.37 Q1353.26 1536.5 1348.93 1536.5 Q1344.03 1536.5 1341.07 1539.27 Q1338.14 1542.04 1337.7 1547.07 L1358.58 1547.04 Z\" fill=\"#000000\" fill-rule=\"nonzero\" fill-opacity=\"1\" /><polyline clip-path=\"url(#clip870)\" style=\"stroke:#000000; stroke-linecap:round; stroke-linejoin:round; stroke-width:4; stroke-opacity:1; fill:none\" points=\"219.866,1423.18 219.866,47.2441 \"/>\n",
       "<polyline clip-path=\"url(#clip870)\" style=\"stroke:#000000; stroke-linecap:round; stroke-linejoin:round; stroke-width:4; stroke-opacity:1; fill:none\" points=\"219.866,1164.36 238.764,1164.36 \"/>\n",
       "<polyline clip-path=\"url(#clip870)\" style=\"stroke:#000000; stroke-linecap:round; stroke-linejoin:round; stroke-width:4; stroke-opacity:1; fill:none\" points=\"219.866,810.861 238.764,810.861 \"/>\n",
       "<polyline clip-path=\"url(#clip870)\" style=\"stroke:#000000; stroke-linecap:round; stroke-linejoin:round; stroke-width:4; stroke-opacity:1; fill:none\" points=\"219.866,457.361 238.764,457.361 \"/>\n",
       "<polyline clip-path=\"url(#clip870)\" style=\"stroke:#000000; stroke-linecap:round; stroke-linejoin:round; stroke-width:4; stroke-opacity:1; fill:none\" points=\"219.866,103.861 238.764,103.861 \"/>\n",
       "<path clip-path=\"url(#clip870)\" d=\"M128.288 1150.16 Q124.677 1150.16 122.848 1153.72 Q121.043 1157.27 121.043 1164.4 Q121.043 1171.5 122.848 1175.07 Q124.677 1178.61 128.288 1178.61 Q131.922 1178.61 133.728 1175.07 Q135.556 1171.5 135.556 1164.4 Q135.556 1157.27 133.728 1153.72 Q131.922 1150.16 128.288 1150.16 M128.288 1146.46 Q134.098 1146.46 137.154 1151.06 Q140.232 1155.65 140.232 1164.4 Q140.232 1173.12 137.154 1177.73 Q134.098 1182.31 128.288 1182.31 Q122.478 1182.31 119.399 1177.73 Q116.343 1173.12 116.343 1164.4 Q116.343 1155.65 119.399 1151.06 Q122.478 1146.46 128.288 1146.46 Z\" fill=\"#000000\" fill-rule=\"nonzero\" fill-opacity=\"1\" /><path clip-path=\"url(#clip870)\" d=\"M148.45 1175.76 L153.334 1175.76 L153.334 1181.64 L148.45 1181.64 L148.45 1175.76 Z\" fill=\"#000000\" fill-rule=\"nonzero\" fill-opacity=\"1\" /><path clip-path=\"url(#clip870)\" d=\"M167.547 1177.71 L183.866 1177.71 L183.866 1181.64 L161.922 1181.64 L161.922 1177.71 Q164.584 1174.95 169.167 1170.32 Q173.774 1165.67 174.954 1164.33 Q177.2 1161.8 178.079 1160.07 Q178.982 1158.31 178.982 1156.62 Q178.982 1153.86 177.038 1152.13 Q175.116 1150.39 172.014 1150.39 Q169.815 1150.39 167.362 1151.16 Q164.931 1151.92 162.153 1153.47 L162.153 1148.75 Q164.977 1147.61 167.431 1147.03 Q169.885 1146.46 171.922 1146.46 Q177.292 1146.46 180.487 1149.14 Q183.681 1151.83 183.681 1156.32 Q183.681 1158.45 182.871 1160.37 Q182.084 1162.27 179.977 1164.86 Q179.399 1165.53 176.297 1168.75 Q173.195 1171.94 167.547 1177.71 Z\" fill=\"#000000\" fill-rule=\"nonzero\" fill-opacity=\"1\" /><path clip-path=\"url(#clip870)\" d=\"M126.205 796.66 Q122.593 796.66 120.765 800.224 Q118.959 803.766 118.959 810.896 Q118.959 818.002 120.765 821.567 Q122.593 825.109 126.205 825.109 Q129.839 825.109 131.644 821.567 Q133.473 818.002 133.473 810.896 Q133.473 803.766 131.644 800.224 Q129.839 796.66 126.205 796.66 M126.205 792.956 Q132.015 792.956 135.07 797.562 Q138.149 802.146 138.149 810.896 Q138.149 819.623 135.07 824.229 Q132.015 828.812 126.205 828.812 Q120.394 828.812 117.316 824.229 Q114.26 819.623 114.26 810.896 Q114.26 802.146 117.316 797.562 Q120.394 792.956 126.205 792.956 Z\" fill=\"#000000\" fill-rule=\"nonzero\" fill-opacity=\"1\" /><path clip-path=\"url(#clip870)\" d=\"M146.366 822.261 L151.251 822.261 L151.251 828.141 L146.366 828.141 L146.366 822.261 Z\" fill=\"#000000\" fill-rule=\"nonzero\" fill-opacity=\"1\" /><path clip-path=\"url(#clip870)\" d=\"M174.283 797.655 L162.477 816.104 L174.283 816.104 L174.283 797.655 M173.056 793.581 L178.936 793.581 L178.936 816.104 L183.866 816.104 L183.866 819.993 L178.936 819.993 L178.936 828.141 L174.283 828.141 L174.283 819.993 L158.681 819.993 L158.681 815.479 L173.056 793.581 Z\" fill=\"#000000\" fill-rule=\"nonzero\" fill-opacity=\"1\" /><path clip-path=\"url(#clip870)\" d=\"M126.529 443.16 Q122.918 443.16 121.089 446.724 Q119.283 450.266 119.283 457.396 Q119.283 464.502 121.089 468.067 Q122.918 471.608 126.529 471.608 Q130.163 471.608 131.968 468.067 Q133.797 464.502 133.797 457.396 Q133.797 450.266 131.968 446.724 Q130.163 443.16 126.529 443.16 M126.529 439.456 Q132.339 439.456 135.394 444.062 Q138.473 448.646 138.473 457.396 Q138.473 466.122 135.394 470.729 Q132.339 475.312 126.529 475.312 Q120.718 475.312 117.64 470.729 Q114.584 466.122 114.584 457.396 Q114.584 448.646 117.64 444.062 Q120.718 439.456 126.529 439.456 Z\" fill=\"#000000\" fill-rule=\"nonzero\" fill-opacity=\"1\" /><path clip-path=\"url(#clip870)\" d=\"M146.691 468.761 L151.575 468.761 L151.575 474.641 L146.691 474.641 L146.691 468.761 Z\" fill=\"#000000\" fill-rule=\"nonzero\" fill-opacity=\"1\" /><path clip-path=\"url(#clip870)\" d=\"M172.339 455.497 Q169.19 455.497 167.339 457.65 Q165.51 459.803 165.51 463.553 Q165.51 467.28 167.339 469.456 Q169.19 471.608 172.339 471.608 Q175.487 471.608 177.315 469.456 Q179.167 467.28 179.167 463.553 Q179.167 459.803 177.315 457.65 Q175.487 455.497 172.339 455.497 M181.621 440.845 L181.621 445.104 Q179.862 444.271 178.056 443.831 Q176.274 443.391 174.514 443.391 Q169.885 443.391 167.431 446.516 Q165.001 449.641 164.653 455.96 Q166.019 453.947 168.079 452.882 Q170.139 451.794 172.616 451.794 Q177.825 451.794 180.834 454.965 Q183.866 458.113 183.866 463.553 Q183.866 468.877 180.718 472.095 Q177.57 475.312 172.339 475.312 Q166.343 475.312 163.172 470.729 Q160.001 466.122 160.001 457.396 Q160.001 449.201 163.89 444.34 Q167.778 439.456 174.329 439.456 Q176.089 439.456 177.871 439.803 Q179.676 440.15 181.621 440.845 Z\" fill=\"#000000\" fill-rule=\"nonzero\" fill-opacity=\"1\" /><path clip-path=\"url(#clip870)\" d=\"M126.783 89.6594 Q123.172 89.6594 121.343 93.2242 Q119.538 96.7658 119.538 103.895 Q119.538 111.002 121.343 114.567 Q123.172 118.108 126.783 118.108 Q130.417 118.108 132.223 114.567 Q134.052 111.002 134.052 103.895 Q134.052 96.7658 132.223 93.2242 Q130.417 89.6594 126.783 89.6594 M126.783 85.9557 Q132.593 85.9557 135.649 90.5621 Q138.728 95.1454 138.728 103.895 Q138.728 112.622 135.649 117.229 Q132.593 121.812 126.783 121.812 Q120.973 121.812 117.894 117.229 Q114.839 112.622 114.839 103.895 Q114.839 95.1454 117.894 90.5621 Q120.973 85.9557 126.783 85.9557 Z\" fill=\"#000000\" fill-rule=\"nonzero\" fill-opacity=\"1\" /><path clip-path=\"url(#clip870)\" d=\"M146.945 115.261 L151.829 115.261 L151.829 121.141 L146.945 121.141 L146.945 115.261 Z\" fill=\"#000000\" fill-rule=\"nonzero\" fill-opacity=\"1\" /><path clip-path=\"url(#clip870)\" d=\"M172.014 104.729 Q168.681 104.729 166.76 106.511 Q164.862 108.294 164.862 111.419 Q164.862 114.543 166.76 116.326 Q168.681 118.108 172.014 118.108 Q175.348 118.108 177.269 116.326 Q179.19 114.52 179.19 111.419 Q179.19 108.294 177.269 106.511 Q175.371 104.729 172.014 104.729 M167.339 102.738 Q164.329 101.997 162.64 99.9371 Q160.973 97.8769 160.973 94.914 Q160.973 90.7705 163.913 88.3631 Q166.876 85.9557 172.014 85.9557 Q177.176 85.9557 180.116 88.3631 Q183.056 90.7705 183.056 94.914 Q183.056 97.8769 181.366 99.9371 Q179.7 101.997 176.714 102.738 Q180.093 103.525 181.968 105.817 Q183.866 108.108 183.866 111.419 Q183.866 116.442 180.788 119.127 Q177.732 121.812 172.014 121.812 Q166.297 121.812 163.218 119.127 Q160.163 116.442 160.163 111.419 Q160.163 108.108 162.061 105.817 Q163.959 103.525 167.339 102.738 M165.626 95.3538 Q165.626 98.039 167.292 99.5436 Q168.982 101.048 172.014 101.048 Q175.024 101.048 176.714 99.5436 Q178.426 98.039 178.426 95.3538 Q178.426 92.6686 176.714 91.164 Q175.024 89.6594 172.014 89.6594 Q168.982 89.6594 167.292 91.164 Q165.626 92.6686 165.626 95.3538 Z\" fill=\"#000000\" fill-rule=\"nonzero\" fill-opacity=\"1\" /><path clip-path=\"url(#clip870)\" d=\"M20.1444 943.339 L26.9239 943.339 Q23.9002 946.585 22.4043 950.277 Q20.9083 953.938 20.9083 958.075 Q20.9083 966.223 25.9054 970.552 Q30.8707 974.881 40.2919 974.881 Q49.6813 974.881 54.6784 970.552 Q59.6436 966.223 59.6436 958.075 Q59.6436 953.938 58.1477 950.277 Q56.6518 946.585 53.6281 943.339 L60.3439 943.339 Q62.6355 946.713 63.7814 950.5 Q64.9272 954.256 64.9272 958.457 Q64.9272 969.247 58.3387 975.454 Q51.7183 981.66 40.2919 981.66 Q28.8336 981.66 22.2451 975.454 Q15.6248 969.247 15.6248 958.457 Q15.6248 954.192 16.7706 950.437 Q17.8846 946.649 20.1444 943.339 Z\" fill=\"#000000\" fill-rule=\"nonzero\" fill-opacity=\"1\" /><path clip-path=\"url(#clip870)\" d=\"M46.0847 917.462 Q46.0847 924.56 47.7079 927.297 Q49.3312 930.034 53.2461 930.034 Q56.3653 930.034 58.2114 927.997 Q60.0256 925.929 60.0256 922.396 Q60.0256 917.526 56.5881 914.598 Q53.1188 911.638 47.3897 911.638 L46.0847 911.638 L46.0847 917.462 M43.6657 905.781 L64.0042 905.781 L64.0042 911.638 L58.5933 911.638 Q61.8398 913.643 63.3994 916.635 Q64.9272 919.626 64.9272 923.955 Q64.9272 929.43 61.8716 932.676 Q58.7843 935.891 53.6281 935.891 Q47.6125 935.891 44.5569 931.88 Q41.5014 927.838 41.5014 919.849 L41.5014 911.638 L40.9285 911.638 Q36.8862 911.638 34.6901 914.311 Q32.4621 916.953 32.4621 921.759 Q32.4621 924.815 33.1941 927.711 Q33.9262 930.607 35.3903 933.281 L29.9795 933.281 Q28.7381 930.066 28.1334 927.043 Q27.4968 924.019 27.4968 921.154 Q27.4968 913.42 31.5072 909.601 Q35.5176 905.781 43.6657 905.781 Z\" fill=\"#000000\" fill-rule=\"nonzero\" fill-opacity=\"1\" /><path clip-path=\"url(#clip870)\" d=\"M58.657 888.053 L77.5631 888.053 L77.5631 893.941 L28.3562 893.941 L28.3562 888.053 L33.7671 888.053 Q30.5842 886.207 29.0564 883.406 Q27.4968 880.573 27.4968 876.658 Q27.4968 870.165 32.6531 866.123 Q37.8093 862.049 46.212 862.049 Q54.6147 862.049 59.771 866.123 Q64.9272 870.165 64.9272 876.658 Q64.9272 880.573 63.3994 883.406 Q61.8398 886.207 58.657 888.053 M46.212 868.128 Q39.7508 868.128 36.0905 870.802 Q32.3984 873.443 32.3984 878.09 Q32.3984 882.737 36.0905 885.411 Q39.7508 888.053 46.212 888.053 Q52.6732 888.053 56.3653 885.411 Q60.0256 882.737 60.0256 878.09 Q60.0256 873.443 56.3653 870.802 Q52.6732 868.128 46.212 868.128 Z\" fill=\"#000000\" fill-rule=\"nonzero\" fill-opacity=\"1\" /><path clip-path=\"url(#clip870)\" d=\"M46.0847 836.14 Q46.0847 843.238 47.7079 845.975 Q49.3312 848.713 53.2461 848.713 Q56.3653 848.713 58.2114 846.675 Q60.0256 844.607 60.0256 841.074 Q60.0256 836.204 56.5881 833.276 Q53.1188 830.316 47.3897 830.316 L46.0847 830.316 L46.0847 836.14 M43.6657 824.459 L64.0042 824.459 L64.0042 830.316 L58.5933 830.316 Q61.8398 832.321 63.3994 835.313 Q64.9272 838.305 64.9272 842.633 Q64.9272 848.108 61.8716 851.354 Q58.7843 854.569 53.6281 854.569 Q47.6125 854.569 44.5569 850.559 Q41.5014 846.516 41.5014 838.527 L41.5014 830.316 L40.9285 830.316 Q36.8862 830.316 34.6901 832.989 Q32.4621 835.631 32.4621 840.437 Q32.4621 843.493 33.1941 846.389 Q33.9262 849.285 35.3903 851.959 L29.9795 851.959 Q28.7381 848.744 28.1334 845.721 Q27.4968 842.697 27.4968 839.832 Q27.4968 832.098 31.5072 828.279 Q35.5176 824.459 43.6657 824.459 Z\" fill=\"#000000\" fill-rule=\"nonzero\" fill-opacity=\"1\" /><path clip-path=\"url(#clip870)\" d=\"M29.7248 786.742 L35.1993 786.742 Q33.8307 789.225 33.1623 791.739 Q32.4621 794.222 32.4621 796.768 Q32.4621 802.466 36.0905 805.617 Q39.6872 808.768 46.212 808.768 Q52.7369 808.768 56.3653 805.617 Q59.9619 802.466 59.9619 796.768 Q59.9619 794.222 59.2935 791.739 Q58.5933 789.225 57.2247 786.742 L62.6355 786.742 Q63.7814 789.193 64.3543 791.835 Q64.9272 794.445 64.9272 797.405 Q64.9272 805.458 59.8664 810.2 Q54.8057 814.942 46.212 814.942 Q37.491 814.942 32.4939 810.168 Q27.4968 805.362 27.4968 797.023 Q27.4968 794.318 28.0697 791.739 Q28.6108 789.161 29.7248 786.742 Z\" fill=\"#000000\" fill-rule=\"nonzero\" fill-opacity=\"1\" /><path clip-path=\"url(#clip870)\" d=\"M28.3562 776.557 L28.3562 770.701 L64.0042 770.701 L64.0042 776.557 L28.3562 776.557 M14.479 776.557 L14.479 770.701 L21.895 770.701 L21.895 776.557 L14.479 776.557 Z\" fill=\"#000000\" fill-rule=\"nonzero\" fill-opacity=\"1\" /><path clip-path=\"url(#clip870)\" d=\"M18.2347 752.654 L28.3562 752.654 L28.3562 740.591 L32.9077 740.591 L32.9077 752.654 L52.2594 752.654 Q56.6199 752.654 57.8613 751.476 Q59.1026 750.267 59.1026 746.607 L59.1026 740.591 L64.0042 740.591 L64.0042 746.607 Q64.0042 753.386 61.4897 755.964 Q58.9434 758.542 52.2594 758.542 L32.9077 758.542 L32.9077 762.839 L28.3562 762.839 L28.3562 758.542 L18.2347 758.542 L18.2347 752.654 Z\" fill=\"#000000\" fill-rule=\"nonzero\" fill-opacity=\"1\" /><path clip-path=\"url(#clip870)\" d=\"M67.3143 718.056 Q73.68 720.539 75.6216 722.894 Q77.5631 725.25 77.5631 729.196 L77.5631 733.875 L72.6615 733.875 L72.6615 730.438 Q72.6615 728.019 71.5157 726.682 Q70.3699 725.345 66.1048 723.722 L63.4312 722.672 L28.3562 737.09 L28.3562 730.883 L56.238 719.743 L28.3562 708.603 L28.3562 702.397 L67.3143 718.056 Z\" fill=\"#000000\" fill-rule=\"nonzero\" fill-opacity=\"1\" /><path clip-path=\"url(#clip870)\" d=\"M14.479 655.545 L19.3487 655.545 L19.3487 661.147 Q19.3487 664.298 20.6219 665.539 Q21.895 666.749 25.2052 666.749 L28.3562 666.749 L28.3562 657.105 L32.9077 657.105 L32.9077 666.749 L64.0042 666.749 L64.0042 672.637 L32.9077 672.637 L32.9077 678.239 L28.3562 678.239 L28.3562 672.637 L25.8736 672.637 Q19.9216 672.637 17.2162 669.868 Q14.479 667.099 14.479 661.083 L14.479 655.545 Z\" fill=\"#000000\" fill-rule=\"nonzero\" fill-opacity=\"1\" /><path clip-path=\"url(#clip870)\" d=\"M46.0847 634.443 Q46.0847 641.541 47.7079 644.278 Q49.3312 647.015 53.2461 647.015 Q56.3653 647.015 58.2114 644.978 Q60.0256 642.909 60.0256 639.376 Q60.0256 634.506 56.5881 631.578 Q53.1188 628.618 47.3897 628.618 L46.0847 628.618 L46.0847 634.443 M43.6657 622.762 L64.0042 622.762 L64.0042 628.618 L58.5933 628.618 Q61.8398 630.623 63.3994 633.615 Q64.9272 636.607 64.9272 640.936 Q64.9272 646.41 61.8716 649.657 Q58.7843 652.872 53.6281 652.872 Q47.6125 652.872 44.5569 648.861 Q41.5014 644.819 41.5014 636.83 L41.5014 628.618 L40.9285 628.618 Q36.8862 628.618 34.6901 631.292 Q32.4621 633.934 32.4621 638.74 Q32.4621 641.795 33.1941 644.692 Q33.9262 647.588 35.3903 650.262 L29.9795 650.262 Q28.7381 647.047 28.1334 644.023 Q27.4968 641 27.4968 638.135 Q27.4968 630.401 31.5072 626.581 Q35.5176 622.762 43.6657 622.762 Z\" fill=\"#000000\" fill-rule=\"nonzero\" fill-opacity=\"1\" /><path clip-path=\"url(#clip870)\" d=\"M29.7248 585.045 L35.1993 585.045 Q33.8307 587.528 33.1623 590.042 Q32.4621 592.525 32.4621 595.071 Q32.4621 600.768 36.0905 603.919 Q39.6872 607.07 46.212 607.07 Q52.7369 607.07 56.3653 603.919 Q59.9619 600.768 59.9619 595.071 Q59.9619 592.525 59.2935 590.042 Q58.5933 587.528 57.2247 585.045 L62.6355 585.045 Q63.7814 587.496 64.3543 590.138 Q64.9272 592.747 64.9272 595.708 Q64.9272 603.76 59.8664 608.503 Q54.8057 613.245 46.212 613.245 Q37.491 613.245 32.4939 608.471 Q27.4968 603.665 27.4968 595.326 Q27.4968 592.62 28.0697 590.042 Q28.6108 587.464 29.7248 585.045 Z\" fill=\"#000000\" fill-rule=\"nonzero\" fill-opacity=\"1\" /><path clip-path=\"url(#clip870)\" d=\"M18.2347 569.067 L28.3562 569.067 L28.3562 557.004 L32.9077 557.004 L32.9077 569.067 L52.2594 569.067 Q56.6199 569.067 57.8613 567.889 Q59.1026 566.68 59.1026 563.02 L59.1026 557.004 L64.0042 557.004 L64.0042 563.02 Q64.0042 569.799 61.4897 572.377 Q58.9434 574.955 52.2594 574.955 L32.9077 574.955 L32.9077 579.252 L28.3562 579.252 L28.3562 574.955 L18.2347 574.955 L18.2347 569.067 Z\" fill=\"#000000\" fill-rule=\"nonzero\" fill-opacity=\"1\" /><path clip-path=\"url(#clip870)\" d=\"M32.4621 535.488 Q32.4621 540.199 36.1542 542.936 Q39.8145 545.673 46.212 545.673 Q52.6095 545.673 56.3017 542.968 Q59.9619 540.23 59.9619 535.488 Q59.9619 530.809 56.2698 528.072 Q52.5777 525.335 46.212 525.335 Q39.8781 525.335 36.186 528.072 Q32.4621 530.809 32.4621 535.488 M27.4968 535.488 Q27.4968 527.849 32.4621 523.489 Q37.4273 519.128 46.212 519.128 Q54.9649 519.128 59.9619 523.489 Q64.9272 527.849 64.9272 535.488 Q64.9272 543.159 59.9619 547.519 Q54.9649 551.848 46.212 551.848 Q37.4273 551.848 32.4621 547.519 Q27.4968 543.159 27.4968 535.488 Z\" fill=\"#000000\" fill-rule=\"nonzero\" fill-opacity=\"1\" /><path clip-path=\"url(#clip870)\" d=\"M33.8307 488.764 Q33.2578 489.75 33.0032 490.928 Q32.7167 492.074 32.7167 493.474 Q32.7167 498.44 35.9632 501.113 Q39.1779 503.755 45.2253 503.755 L64.0042 503.755 L64.0042 509.643 L28.3562 509.643 L28.3562 503.755 L33.8944 503.755 Q30.6479 501.909 29.0883 498.949 Q27.4968 495.989 27.4968 491.756 Q27.4968 491.151 27.5923 490.419 Q27.656 489.687 27.8151 488.795 L33.8307 488.764 Z\" fill=\"#000000\" fill-rule=\"nonzero\" fill-opacity=\"1\" /><polyline clip-path=\"url(#clip872)\" style=\"stroke:#009af9; stroke-linecap:round; stroke-linejoin:round; stroke-width:4; stroke-opacity:1; fill:none\" points=\"280.231,1323.44 308.571,1360.38 336.912,1354.54 365.252,1354.54 393.592,1358.79 421.932,1371.16 450.273,1341.11 478.613,1384.24 506.953,1381.06 535.294,1369.92 563.634,1360.38 591.974,1379.47 620.314,1369.39 648.655,1339.7 676.995,1307.53 705.335,1305.76 733.676,1243.55 762.016,1235.06 790.356,1243.55 818.696,1305.76 847.037,1272.89 875.377,1304.17 903.717,1326.97 932.058,1339.7 960.398,706.578 988.738,563.411 1017.08,712.234 1045.42,644.716 1073.76,679.536 1102.1,678.298 1130.44,669.461 1158.78,770.208 1187.12,777.985 1215.46,857.7 1243.8,794.07 1272.14,817.931 1300.48,902.241 1328.82,851.16 1357.16,980.541 1385.5,998.216 1413.84,928.93 1442.18,930.167 1470.52,1008.82 1498.86,893.227 1527.2,880.147 1555.54,826.238 1583.88,704.811 1612.22,830.657 1640.56,400.094 1668.9,298.286 1697.25,416.708 1725.59,501.372 1753.93,317.905 1782.27,419.183 1810.61,338.055 1838.95,429.788 1867.29,156.886 1895.63,235.716 1923.97,135.499 1952.31,174.561 1980.65,229.353 2008.99,100.502 2037.33,231.121 2065.67,400.801 2094.01,401.154 2122.35,211.325 2150.69,228.293 2179.03,205.492 2207.37,432.262 2235.71,419.183 2264.05,458.421 2292.39,366.865 \"/>\n",
       "<polyline clip-path=\"url(#clip872)\" style=\"stroke:#e26f46; stroke-linecap:round; stroke-linejoin:round; stroke-width:4; stroke-opacity:1; fill:none\" points=\"280.231,1323.44 308.571,1323.44 336.912,1323.44 365.252,1323.44 393.592,1341.11 421.932,1341.11 450.273,1341.11 478.613,1358.79 506.953,1358.79 535.294,1358.79 563.634,1358.79 591.974,1358.79 620.314,1341.11 648.655,1305.76 676.995,1270.41 705.335,1252.74 733.676,1235.06 762.016,1235.06 790.356,1235.06 818.696,1252.74 847.037,1270.41 875.377,1288.09 903.717,1305.76 932.058,1305.76 960.398,563.411 988.738,563.411 1017.08,581.086 1045.42,598.761 1073.76,616.436 1102.1,634.111 1130.44,669.461 1158.78,687.136 1187.12,704.811 1215.46,722.486 1243.8,722.486 1272.14,722.486 1300.48,757.836 1328.82,793.186 1357.16,846.211 1385.5,899.236 1413.84,916.911 1442.18,899.236 1470.52,881.561 1498.86,846.211 1527.2,793.186 1555.54,757.836 1583.88,704.811 1612.22,669.461 1640.56,315.961 1668.9,298.286 1697.25,280.611 1725.59,262.936 1753.93,227.586 1782.27,209.911 1810.61,192.236 1838.95,174.561 1867.29,156.886 1895.63,139.211 1923.97,121.536 1952.31,103.861 1980.65,86.1857 2008.99,86.1857 2037.33,103.861 2065.67,121.536 2094.01,139.211 2122.35,156.886 2150.69,174.561 2179.03,192.236 2207.37,209.911 2235.71,209.911 2264.05,209.911 2292.39,209.911 \"/>\n",
       "<path clip-path=\"url(#clip870)\" d=\"M290.963 248.629 L1276.68 248.629 L1276.68 93.1086 L290.963 93.1086  Z\" fill=\"#ffffff\" fill-rule=\"evenodd\" fill-opacity=\"1\"/>\n",
       "<polyline clip-path=\"url(#clip870)\" style=\"stroke:#000000; stroke-linecap:round; stroke-linejoin:round; stroke-width:4; stroke-opacity:1; fill:none\" points=\"290.963,248.629 1276.68,248.629 1276.68,93.1086 290.963,93.1086 290.963,248.629 \"/>\n",
       "<polyline clip-path=\"url(#clip870)\" style=\"stroke:#009af9; stroke-linecap:round; stroke-linejoin:round; stroke-width:4; stroke-opacity:1; fill:none\" points=\"314.661,144.949 456.854,144.949 \"/>\n",
       "<path clip-path=\"url(#clip870)\" d=\"M493.955 149.196 Q488.793 149.196 486.803 150.377 Q484.812 151.557 484.812 154.405 Q484.812 156.673 486.293 158.016 Q487.798 159.335 490.368 159.335 Q493.909 159.335 496.039 156.835 Q498.192 154.312 498.192 150.145 L498.192 149.196 L493.955 149.196 M502.451 147.437 L502.451 162.229 L498.192 162.229 L498.192 158.293 Q496.733 160.655 494.557 161.789 Q492.381 162.9 489.233 162.9 Q485.252 162.9 482.891 160.678 Q480.553 158.432 480.553 154.682 Q480.553 150.307 483.469 148.085 Q486.409 145.863 492.219 145.863 L498.192 145.863 L498.192 145.446 Q498.192 142.507 496.247 140.909 Q494.326 139.289 490.831 139.289 Q488.608 139.289 486.502 139.821 Q484.395 140.354 482.451 141.419 L482.451 137.483 Q484.789 136.581 486.988 136.141 Q489.187 135.678 491.27 135.678 Q496.895 135.678 499.673 138.594 Q502.451 141.511 502.451 147.437 Z\" fill=\"#000000\" fill-rule=\"nonzero\" fill-opacity=\"1\" /><path clip-path=\"url(#clip870)\" d=\"M508.168 136.303 L512.682 136.303 L520.784 158.062 L528.886 136.303 L533.4 136.303 L523.678 162.229 L517.891 162.229 L508.168 136.303 Z\" fill=\"#000000\" fill-rule=\"nonzero\" fill-opacity=\"1\" /><path clip-path=\"url(#clip870)\" d=\"M551.062 149.196 Q545.9 149.196 543.909 150.377 Q541.918 151.557 541.918 154.405 Q541.918 156.673 543.4 158.016 Q544.904 159.335 547.474 159.335 Q551.015 159.335 553.145 156.835 Q555.298 154.312 555.298 150.145 L555.298 149.196 L551.062 149.196 M559.557 147.437 L559.557 162.229 L555.298 162.229 L555.298 158.293 Q553.839 160.655 551.664 161.789 Q549.488 162.9 546.339 162.9 Q542.358 162.9 539.997 160.678 Q537.659 158.432 537.659 154.682 Q537.659 150.307 540.576 148.085 Q543.515 145.863 549.326 145.863 L555.298 145.863 L555.298 145.446 Q555.298 142.507 553.353 140.909 Q551.432 139.289 547.937 139.289 Q545.714 139.289 543.608 139.821 Q541.502 140.354 539.557 141.419 L539.557 137.483 Q541.895 136.581 544.094 136.141 Q546.293 135.678 548.376 135.678 Q554.001 135.678 556.779 138.594 Q559.557 141.511 559.557 147.437 Z\" fill=\"#000000\" fill-rule=\"nonzero\" fill-opacity=\"1\" /><path clip-path=\"url(#clip870)\" d=\"M568.33 136.303 L572.589 136.303 L572.589 162.229 L568.33 162.229 L568.33 136.303 M568.33 126.21 L572.589 126.21 L572.589 131.604 L568.33 131.604 L568.33 126.21 Z\" fill=\"#000000\" fill-rule=\"nonzero\" fill-opacity=\"1\" /><path clip-path=\"url(#clip870)\" d=\"M581.501 126.21 L585.761 126.21 L585.761 162.229 L581.501 162.229 L581.501 126.21 Z\" fill=\"#000000\" fill-rule=\"nonzero\" fill-opacity=\"1\" /><path clip-path=\"url(#clip870)\" d=\"M606.455 149.196 Q601.293 149.196 599.302 150.377 Q597.311 151.557 597.311 154.405 Q597.311 156.673 598.793 158.016 Q600.298 159.335 602.867 159.335 Q606.409 159.335 608.538 156.835 Q610.691 154.312 610.691 150.145 L610.691 149.196 L606.455 149.196 M614.95 147.437 L614.95 162.229 L610.691 162.229 L610.691 158.293 Q609.233 160.655 607.057 161.789 Q604.881 162.9 601.733 162.9 Q597.751 162.9 595.39 160.678 Q593.052 158.432 593.052 154.682 Q593.052 150.307 595.969 148.085 Q598.909 145.863 604.719 145.863 L610.691 145.863 L610.691 145.446 Q610.691 142.507 608.747 140.909 Q606.825 139.289 603.33 139.289 Q601.108 139.289 599.001 139.821 Q596.895 140.354 594.95 141.419 L594.95 137.483 Q597.288 136.581 599.487 136.141 Q601.686 135.678 603.77 135.678 Q609.395 135.678 612.172 138.594 Q614.95 141.511 614.95 147.437 Z\" fill=\"#000000\" fill-rule=\"nonzero\" fill-opacity=\"1\" /><path clip-path=\"url(#clip870)\" d=\"M642.334 149.289 Q642.334 144.59 640.39 141.928 Q638.469 139.243 635.089 139.243 Q631.709 139.243 629.765 141.928 Q627.844 144.59 627.844 149.289 Q627.844 153.988 629.765 156.673 Q631.709 159.335 635.089 159.335 Q638.469 159.335 640.39 156.673 Q642.334 153.988 642.334 149.289 M627.844 140.238 Q629.186 137.923 631.223 136.812 Q633.283 135.678 636.131 135.678 Q640.853 135.678 643.793 139.428 Q646.756 143.178 646.756 149.289 Q646.756 155.4 643.793 159.15 Q640.853 162.9 636.131 162.9 Q633.283 162.9 631.223 161.789 Q629.186 160.655 627.844 158.34 L627.844 162.229 L623.561 162.229 L623.561 126.21 L627.844 126.21 L627.844 140.238 Z\" fill=\"#000000\" fill-rule=\"nonzero\" fill-opacity=\"1\" /><path clip-path=\"url(#clip870)\" d=\"M653.816 136.303 L658.075 136.303 L658.075 162.229 L653.816 162.229 L653.816 136.303 M653.816 126.21 L658.075 126.21 L658.075 131.604 L653.816 131.604 L653.816 126.21 Z\" fill=\"#000000\" fill-rule=\"nonzero\" fill-opacity=\"1\" /><path clip-path=\"url(#clip870)\" d=\"M666.987 126.21 L671.246 126.21 L671.246 162.229 L666.987 162.229 L666.987 126.21 Z\" fill=\"#000000\" fill-rule=\"nonzero\" fill-opacity=\"1\" /><path clip-path=\"url(#clip870)\" d=\"M680.158 136.303 L684.417 136.303 L684.417 162.229 L680.158 162.229 L680.158 136.303 M680.158 126.21 L684.417 126.21 L684.417 131.604 L680.158 131.604 L680.158 126.21 Z\" fill=\"#000000\" fill-rule=\"nonzero\" fill-opacity=\"1\" /><path clip-path=\"url(#clip870)\" d=\"M697.542 128.942 L697.542 136.303 L706.315 136.303 L706.315 139.613 L697.542 139.613 L697.542 153.687 Q697.542 156.858 698.399 157.761 Q699.278 158.664 701.94 158.664 L706.315 158.664 L706.315 162.229 L701.94 162.229 Q697.01 162.229 695.135 160.4 Q693.26 158.548 693.26 153.687 L693.26 139.613 L690.135 139.613 L690.135 136.303 L693.26 136.303 L693.26 128.942 L697.542 128.942 Z\" fill=\"#000000\" fill-rule=\"nonzero\" fill-opacity=\"1\" /><path clip-path=\"url(#clip870)\" d=\"M722.704 164.636 Q720.899 169.266 719.186 170.678 Q717.473 172.09 714.602 172.09 L711.2 172.09 L711.2 168.525 L713.7 168.525 Q715.459 168.525 716.431 167.692 Q717.403 166.858 718.584 163.756 L719.348 161.812 L708.862 136.303 L713.376 136.303 L721.477 156.581 L729.579 136.303 L734.093 136.303 L722.704 164.636 Z\" fill=\"#000000\" fill-rule=\"nonzero\" fill-opacity=\"1\" /><path clip-path=\"url(#clip870)\" d=\"M736.987 147.344 L749.463 147.344 L749.463 151.141 L736.987 151.141 L736.987 147.344 Z\" fill=\"#000000\" fill-rule=\"nonzero\" fill-opacity=\"1\" /><path clip-path=\"url(#clip870)\" d=\"M753.769 136.303 L758.028 136.303 L763.352 156.534 L768.653 136.303 L773.676 136.303 L779 156.534 L784.301 136.303 L788.56 136.303 L781.778 162.229 L776.755 162.229 L771.176 140.979 L765.574 162.229 L760.551 162.229 L753.769 136.303 Z\" fill=\"#000000\" fill-rule=\"nonzero\" fill-opacity=\"1\" /><path clip-path=\"url(#clip870)\" d=\"M795.019 136.303 L799.278 136.303 L799.278 162.229 L795.019 162.229 L795.019 136.303 M795.019 126.21 L799.278 126.21 L799.278 131.604 L795.019 131.604 L795.019 126.21 Z\" fill=\"#000000\" fill-rule=\"nonzero\" fill-opacity=\"1\" /><path clip-path=\"url(#clip870)\" d=\"M829.741 146.581 L829.741 162.229 L825.481 162.229 L825.481 146.719 Q825.481 143.039 824.046 141.21 Q822.611 139.382 819.741 139.382 Q816.292 139.382 814.301 141.581 Q812.31 143.78 812.31 147.576 L812.31 162.229 L808.028 162.229 L808.028 136.303 L812.31 136.303 L812.31 140.331 Q813.838 137.993 815.898 136.835 Q817.982 135.678 820.69 135.678 Q825.157 135.678 827.449 138.456 Q829.741 141.21 829.741 146.581 Z\" fill=\"#000000\" fill-rule=\"nonzero\" fill-opacity=\"1\" /><path clip-path=\"url(#clip870)\" d=\"M855.296 140.238 L855.296 126.21 L859.555 126.21 L859.555 162.229 L855.296 162.229 L855.296 158.34 Q853.954 160.655 851.893 161.789 Q849.856 162.9 846.986 162.9 Q842.287 162.9 839.324 159.15 Q836.384 155.4 836.384 149.289 Q836.384 143.178 839.324 139.428 Q842.287 135.678 846.986 135.678 Q849.856 135.678 851.893 136.812 Q853.954 137.923 855.296 140.238 M840.782 149.289 Q840.782 153.988 842.704 156.673 Q844.648 159.335 848.028 159.335 Q851.407 159.335 853.352 156.673 Q855.296 153.988 855.296 149.289 Q855.296 144.59 853.352 141.928 Q851.407 139.243 848.028 139.243 Q844.648 139.243 842.704 141.928 Q840.782 144.59 840.782 149.289 Z\" fill=\"#000000\" fill-rule=\"nonzero\" fill-opacity=\"1\" /><path clip-path=\"url(#clip870)\" d=\"M872.958 158.293 L889.277 158.293 L889.277 162.229 L867.333 162.229 L867.333 158.293 Q869.995 155.539 874.578 150.909 Q879.185 146.256 880.365 144.914 Q882.611 142.391 883.49 140.655 Q884.393 138.895 884.393 137.206 Q884.393 134.451 882.449 132.715 Q880.527 130.979 877.426 130.979 Q875.227 130.979 872.773 131.743 Q870.342 132.507 867.565 134.057 L867.565 129.335 Q870.389 128.201 872.842 127.622 Q875.296 127.044 877.333 127.044 Q882.703 127.044 885.898 129.729 Q889.092 132.414 889.092 136.905 Q889.092 139.034 888.282 140.956 Q887.495 142.854 885.389 145.446 Q884.81 146.118 881.708 149.335 Q878.606 152.53 872.958 158.293 Z\" fill=\"#000000\" fill-rule=\"nonzero\" fill-opacity=\"1\" /><path clip-path=\"url(#clip870)\" d=\"M909.092 130.747 Q905.481 130.747 903.652 134.312 Q901.847 137.854 901.847 144.983 Q901.847 152.09 903.652 155.655 Q905.481 159.196 909.092 159.196 Q912.726 159.196 914.532 155.655 Q916.361 152.09 916.361 144.983 Q916.361 137.854 914.532 134.312 Q912.726 130.747 909.092 130.747 M909.092 127.044 Q914.902 127.044 917.958 131.65 Q921.037 136.233 921.037 144.983 Q921.037 153.71 917.958 158.317 Q914.902 162.9 909.092 162.9 Q903.282 162.9 900.203 158.317 Q897.148 153.71 897.148 144.983 Q897.148 136.233 900.203 131.65 Q903.282 127.044 909.092 127.044 Z\" fill=\"#000000\" fill-rule=\"nonzero\" fill-opacity=\"1\" /><path clip-path=\"url(#clip870)\" d=\"M933.282 158.293 L949.601 158.293 L949.601 162.229 L927.657 162.229 L927.657 158.293 Q930.319 155.539 934.902 150.909 Q939.509 146.256 940.689 144.914 Q942.935 142.391 943.814 140.655 Q944.717 138.895 944.717 137.206 Q944.717 134.451 942.773 132.715 Q940.851 130.979 937.749 130.979 Q935.55 130.979 933.097 131.743 Q930.666 132.507 927.888 134.057 L927.888 129.335 Q930.712 128.201 933.166 127.622 Q935.62 127.044 937.657 127.044 Q943.027 127.044 946.222 129.729 Q949.416 132.414 949.416 136.905 Q949.416 139.034 948.606 140.956 Q947.819 142.854 945.712 145.446 Q945.134 146.118 942.032 149.335 Q938.93 152.53 933.282 158.293 Z\" fill=\"#000000\" fill-rule=\"nonzero\" fill-opacity=\"1\" /><path clip-path=\"url(#clip870)\" d=\"M969.416 130.747 Q965.805 130.747 963.976 134.312 Q962.171 137.854 962.171 144.983 Q962.171 152.09 963.976 155.655 Q965.805 159.196 969.416 159.196 Q973.05 159.196 974.856 155.655 Q976.684 152.09 976.684 144.983 Q976.684 137.854 974.856 134.312 Q973.05 130.747 969.416 130.747 M969.416 127.044 Q975.226 127.044 978.282 131.65 Q981.36 136.233 981.36 144.983 Q981.36 153.71 978.282 158.317 Q975.226 162.9 969.416 162.9 Q963.606 162.9 960.527 158.317 Q957.472 153.71 957.472 144.983 Q957.472 136.233 960.527 131.65 Q963.606 127.044 969.416 127.044 Z\" fill=\"#000000\" fill-rule=\"nonzero\" fill-opacity=\"1\" /><path clip-path=\"url(#clip870)\" d=\"M990.064 156.349 L994.948 156.349 L994.948 160.33 L991.152 167.738 L988.166 167.738 L990.064 160.33 L990.064 156.349 Z\" fill=\"#000000\" fill-rule=\"nonzero\" fill-opacity=\"1\" /><path clip-path=\"url(#clip870)\" d=\"M1029.9 164.636 Q1028.1 169.266 1026.38 170.678 Q1024.67 172.09 1021.8 172.09 L1018.4 172.09 L1018.4 168.525 L1020.9 168.525 Q1022.66 168.525 1023.63 167.692 Q1024.6 166.858 1025.78 163.756 L1026.55 161.812 L1016.06 136.303 L1020.57 136.303 L1028.67 156.581 L1036.78 136.303 L1041.29 136.303 L1029.9 164.636 Z\" fill=\"#000000\" fill-rule=\"nonzero\" fill-opacity=\"1\" /><path clip-path=\"url(#clip870)\" d=\"M1069.35 148.201 L1069.35 150.284 L1049.76 150.284 Q1050.04 154.682 1052.4 156.997 Q1054.79 159.289 1059.02 159.289 Q1061.48 159.289 1063.77 158.687 Q1066.08 158.085 1068.35 156.881 L1068.35 160.909 Q1066.06 161.881 1063.65 162.391 Q1061.24 162.9 1058.77 162.9 Q1052.56 162.9 1048.93 159.289 Q1045.32 155.678 1045.32 149.52 Q1045.32 143.155 1048.74 139.428 Q1052.19 135.678 1058.03 135.678 Q1063.26 135.678 1066.29 139.057 Q1069.35 142.414 1069.35 148.201 M1065.09 146.951 Q1065.04 143.456 1063.12 141.372 Q1061.22 139.289 1058.07 139.289 Q1054.51 139.289 1052.36 141.303 Q1050.23 143.317 1049.9 146.974 L1065.09 146.951 Z\" fill=\"#000000\" fill-rule=\"nonzero\" fill-opacity=\"1\" /><path clip-path=\"url(#clip870)\" d=\"M1088.12 149.196 Q1082.96 149.196 1080.97 150.377 Q1078.98 151.557 1078.98 154.405 Q1078.98 156.673 1080.46 158.016 Q1081.96 159.335 1084.53 159.335 Q1088.07 159.335 1090.2 156.835 Q1092.36 154.312 1092.36 150.145 L1092.36 149.196 L1088.12 149.196 M1096.61 147.437 L1096.61 162.229 L1092.36 162.229 L1092.36 158.293 Q1090.9 160.655 1088.72 161.789 Q1086.54 162.9 1083.4 162.9 Q1079.42 162.9 1077.05 160.678 Q1074.72 158.432 1074.72 154.682 Q1074.72 150.307 1077.63 148.085 Q1080.57 145.863 1086.38 145.863 L1092.36 145.863 L1092.36 145.446 Q1092.36 142.507 1090.41 140.909 Q1088.49 139.289 1084.99 139.289 Q1082.77 139.289 1080.67 139.821 Q1078.56 140.354 1076.61 141.419 L1076.61 137.483 Q1078.95 136.581 1081.15 136.141 Q1083.35 135.678 1085.43 135.678 Q1091.06 135.678 1093.84 138.594 Q1096.61 141.511 1096.61 147.437 Z\" fill=\"#000000\" fill-rule=\"nonzero\" fill-opacity=\"1\" /><path clip-path=\"url(#clip870)\" d=\"M1120.41 140.284 Q1119.69 139.868 1118.84 139.682 Q1118 139.474 1116.98 139.474 Q1113.37 139.474 1111.43 141.835 Q1109.51 144.173 1109.51 148.571 L1109.51 162.229 L1105.23 162.229 L1105.23 136.303 L1109.51 136.303 L1109.51 140.331 Q1110.85 137.969 1113 136.835 Q1115.16 135.678 1118.23 135.678 Q1118.67 135.678 1119.21 135.747 Q1119.74 135.794 1120.39 135.909 L1120.41 140.284 Z\" fill=\"#000000\" fill-rule=\"nonzero\" fill-opacity=\"1\" /><path clip-path=\"url(#clip870)\" d=\"M1144.58 158.293 L1160.9 158.293 L1160.9 162.229 L1138.95 162.229 L1138.95 158.293 Q1141.61 155.539 1146.2 150.909 Q1150.8 146.256 1151.98 144.914 Q1154.23 142.391 1155.11 140.655 Q1156.01 138.895 1156.01 137.206 Q1156.01 134.451 1154.07 132.715 Q1152.15 130.979 1149.04 130.979 Q1146.85 130.979 1144.39 131.743 Q1141.96 132.507 1139.18 134.057 L1139.18 129.335 Q1142.01 128.201 1144.46 127.622 Q1146.91 127.044 1148.95 127.044 Q1154.32 127.044 1157.52 129.729 Q1160.71 132.414 1160.71 136.905 Q1160.71 139.034 1159.9 140.956 Q1159.11 142.854 1157.01 145.446 Q1156.43 146.118 1153.33 149.335 Q1150.23 152.53 1144.58 158.293 Z\" fill=\"#000000\" fill-rule=\"nonzero\" fill-opacity=\"1\" /><path clip-path=\"url(#clip870)\" d=\"M1180.71 130.747 Q1177.1 130.747 1175.27 134.312 Q1173.47 137.854 1173.47 144.983 Q1173.47 152.09 1175.27 155.655 Q1177.1 159.196 1180.71 159.196 Q1184.35 159.196 1186.15 155.655 Q1187.98 152.09 1187.98 144.983 Q1187.98 137.854 1186.15 134.312 Q1184.35 130.747 1180.71 130.747 M1180.71 127.044 Q1186.52 127.044 1189.58 131.65 Q1192.66 136.233 1192.66 144.983 Q1192.66 153.71 1189.58 158.317 Q1186.52 162.9 1180.71 162.9 Q1174.9 162.9 1171.82 158.317 Q1168.77 153.71 1168.77 144.983 Q1168.77 136.233 1171.82 131.65 Q1174.9 127.044 1180.71 127.044 Z\" fill=\"#000000\" fill-rule=\"nonzero\" fill-opacity=\"1\" /><path clip-path=\"url(#clip870)\" d=\"M1215.04 143.594 Q1218.4 144.312 1220.27 146.581 Q1222.17 148.849 1222.17 152.182 Q1222.17 157.298 1218.65 160.099 Q1215.13 162.9 1208.65 162.9 Q1206.47 162.9 1204.16 162.46 Q1201.87 162.043 1199.41 161.187 L1199.41 156.673 Q1201.36 157.807 1203.67 158.386 Q1205.99 158.965 1208.51 158.965 Q1212.91 158.965 1215.2 157.229 Q1217.52 155.493 1217.52 152.182 Q1217.52 149.127 1215.36 147.414 Q1213.23 145.678 1209.41 145.678 L1205.39 145.678 L1205.39 141.835 L1209.6 141.835 Q1213.05 141.835 1214.88 140.469 Q1216.71 139.081 1216.71 136.488 Q1216.71 133.826 1214.81 132.414 Q1212.93 130.979 1209.41 130.979 Q1207.49 130.979 1205.29 131.395 Q1203.1 131.812 1200.46 132.692 L1200.46 128.525 Q1203.12 127.784 1205.43 127.414 Q1207.77 127.044 1209.83 127.044 Q1215.16 127.044 1218.26 129.474 Q1221.36 131.882 1221.36 136.002 Q1221.36 138.872 1219.72 140.863 Q1218.07 142.831 1215.04 143.594 Z\" fill=\"#000000\" fill-rule=\"nonzero\" fill-opacity=\"1\" /><path clip-path=\"url(#clip870)\" d=\"M1241.03 130.747 Q1237.42 130.747 1235.6 134.312 Q1233.79 137.854 1233.79 144.983 Q1233.79 152.09 1235.6 155.655 Q1237.42 159.196 1241.03 159.196 Q1244.67 159.196 1246.47 155.655 Q1248.3 152.09 1248.3 144.983 Q1248.3 137.854 1246.47 134.312 Q1244.67 130.747 1241.03 130.747 M1241.03 127.044 Q1246.84 127.044 1249.9 131.65 Q1252.98 136.233 1252.98 144.983 Q1252.98 153.71 1249.9 158.317 Q1246.84 162.9 1241.03 162.9 Q1235.22 162.9 1232.15 158.317 Q1229.09 153.71 1229.09 144.983 Q1229.09 136.233 1232.15 131.65 Q1235.22 127.044 1241.03 127.044 Z\" fill=\"#000000\" fill-rule=\"nonzero\" fill-opacity=\"1\" /><polyline clip-path=\"url(#clip870)\" style=\"stroke:#e26f46; stroke-linecap:round; stroke-linejoin:round; stroke-width:4; stroke-opacity:1; fill:none\" points=\"314.661,196.789 456.854,196.789 \"/>\n",
       "<path clip-path=\"url(#clip870)\" d=\"M493.955 201.036 Q488.793 201.036 486.803 202.217 Q484.812 203.397 484.812 206.245 Q484.812 208.513 486.293 209.856 Q487.798 211.175 490.368 211.175 Q493.909 211.175 496.039 208.675 Q498.192 206.152 498.192 201.985 L498.192 201.036 L493.955 201.036 M502.451 199.277 L502.451 214.069 L498.192 214.069 L498.192 210.133 Q496.733 212.495 494.557 213.629 Q492.381 214.74 489.233 214.74 Q485.252 214.74 482.891 212.518 Q480.553 210.272 480.553 206.522 Q480.553 202.147 483.469 199.925 Q486.409 197.703 492.219 197.703 L498.192 197.703 L498.192 197.286 Q498.192 194.347 496.247 192.749 Q494.326 191.129 490.831 191.129 Q488.608 191.129 486.502 191.661 Q484.395 192.194 482.451 193.259 L482.451 189.323 Q484.789 188.421 486.988 187.981 Q489.187 187.518 491.27 187.518 Q496.895 187.518 499.673 190.434 Q502.451 193.351 502.451 199.277 Z\" fill=\"#000000\" fill-rule=\"nonzero\" fill-opacity=\"1\" /><path clip-path=\"url(#clip870)\" d=\"M508.168 188.143 L512.682 188.143 L520.784 209.902 L528.886 188.143 L533.4 188.143 L523.678 214.069 L517.891 214.069 L508.168 188.143 Z\" fill=\"#000000\" fill-rule=\"nonzero\" fill-opacity=\"1\" /><path clip-path=\"url(#clip870)\" d=\"M551.062 201.036 Q545.9 201.036 543.909 202.217 Q541.918 203.397 541.918 206.245 Q541.918 208.513 543.4 209.856 Q544.904 211.175 547.474 211.175 Q551.015 211.175 553.145 208.675 Q555.298 206.152 555.298 201.985 L555.298 201.036 L551.062 201.036 M559.557 199.277 L559.557 214.069 L555.298 214.069 L555.298 210.133 Q553.839 212.495 551.664 213.629 Q549.488 214.74 546.339 214.74 Q542.358 214.74 539.997 212.518 Q537.659 210.272 537.659 206.522 Q537.659 202.147 540.576 199.925 Q543.515 197.703 549.326 197.703 L555.298 197.703 L555.298 197.286 Q555.298 194.347 553.353 192.749 Q551.432 191.129 547.937 191.129 Q545.714 191.129 543.608 191.661 Q541.502 192.194 539.557 193.259 L539.557 189.323 Q541.895 188.421 544.094 187.981 Q546.293 187.518 548.376 187.518 Q554.001 187.518 556.779 190.434 Q559.557 193.351 559.557 199.277 Z\" fill=\"#000000\" fill-rule=\"nonzero\" fill-opacity=\"1\" /><path clip-path=\"url(#clip870)\" d=\"M568.33 188.143 L572.589 188.143 L572.589 214.069 L568.33 214.069 L568.33 188.143 M568.33 178.05 L572.589 178.05 L572.589 183.444 L568.33 183.444 L568.33 178.05 Z\" fill=\"#000000\" fill-rule=\"nonzero\" fill-opacity=\"1\" /><path clip-path=\"url(#clip870)\" d=\"M581.501 178.05 L585.761 178.05 L585.761 214.069 L581.501 214.069 L581.501 178.05 Z\" fill=\"#000000\" fill-rule=\"nonzero\" fill-opacity=\"1\" /><path clip-path=\"url(#clip870)\" d=\"M606.455 201.036 Q601.293 201.036 599.302 202.217 Q597.311 203.397 597.311 206.245 Q597.311 208.513 598.793 209.856 Q600.298 211.175 602.867 211.175 Q606.409 211.175 608.538 208.675 Q610.691 206.152 610.691 201.985 L610.691 201.036 L606.455 201.036 M614.95 199.277 L614.95 214.069 L610.691 214.069 L610.691 210.133 Q609.233 212.495 607.057 213.629 Q604.881 214.74 601.733 214.74 Q597.751 214.74 595.39 212.518 Q593.052 210.272 593.052 206.522 Q593.052 202.147 595.969 199.925 Q598.909 197.703 604.719 197.703 L610.691 197.703 L610.691 197.286 Q610.691 194.347 608.747 192.749 Q606.825 191.129 603.33 191.129 Q601.108 191.129 599.001 191.661 Q596.895 192.194 594.95 193.259 L594.95 189.323 Q597.288 188.421 599.487 187.981 Q601.686 187.518 603.77 187.518 Q609.395 187.518 612.172 190.434 Q614.95 193.351 614.95 199.277 Z\" fill=\"#000000\" fill-rule=\"nonzero\" fill-opacity=\"1\" /><path clip-path=\"url(#clip870)\" d=\"M642.334 201.129 Q642.334 196.43 640.39 193.768 Q638.469 191.083 635.089 191.083 Q631.709 191.083 629.765 193.768 Q627.844 196.43 627.844 201.129 Q627.844 205.828 629.765 208.513 Q631.709 211.175 635.089 211.175 Q638.469 211.175 640.39 208.513 Q642.334 205.828 642.334 201.129 M627.844 192.078 Q629.186 189.763 631.223 188.652 Q633.283 187.518 636.131 187.518 Q640.853 187.518 643.793 191.268 Q646.756 195.018 646.756 201.129 Q646.756 207.24 643.793 210.99 Q640.853 214.74 636.131 214.74 Q633.283 214.74 631.223 213.629 Q629.186 212.495 627.844 210.18 L627.844 214.069 L623.561 214.069 L623.561 178.05 L627.844 178.05 L627.844 192.078 Z\" fill=\"#000000\" fill-rule=\"nonzero\" fill-opacity=\"1\" /><path clip-path=\"url(#clip870)\" d=\"M653.816 188.143 L658.075 188.143 L658.075 214.069 L653.816 214.069 L653.816 188.143 M653.816 178.05 L658.075 178.05 L658.075 183.444 L653.816 183.444 L653.816 178.05 Z\" fill=\"#000000\" fill-rule=\"nonzero\" fill-opacity=\"1\" /><path clip-path=\"url(#clip870)\" d=\"M666.987 178.05 L671.246 178.05 L671.246 214.069 L666.987 214.069 L666.987 178.05 Z\" fill=\"#000000\" fill-rule=\"nonzero\" fill-opacity=\"1\" /><path clip-path=\"url(#clip870)\" d=\"M680.158 188.143 L684.417 188.143 L684.417 214.069 L680.158 214.069 L680.158 188.143 M680.158 178.05 L684.417 178.05 L684.417 183.444 L680.158 183.444 L680.158 178.05 Z\" fill=\"#000000\" fill-rule=\"nonzero\" fill-opacity=\"1\" /><path clip-path=\"url(#clip870)\" d=\"M697.542 180.782 L697.542 188.143 L706.315 188.143 L706.315 191.453 L697.542 191.453 L697.542 205.527 Q697.542 208.698 698.399 209.601 Q699.278 210.504 701.94 210.504 L706.315 210.504 L706.315 214.069 L701.94 214.069 Q697.01 214.069 695.135 212.24 Q693.26 210.388 693.26 205.527 L693.26 191.453 L690.135 191.453 L690.135 188.143 L693.26 188.143 L693.26 180.782 L697.542 180.782 Z\" fill=\"#000000\" fill-rule=\"nonzero\" fill-opacity=\"1\" /><path clip-path=\"url(#clip870)\" d=\"M722.704 216.476 Q720.899 221.106 719.186 222.518 Q717.473 223.93 714.602 223.93 L711.2 223.93 L711.2 220.365 L713.7 220.365 Q715.459 220.365 716.431 219.532 Q717.403 218.698 718.584 215.596 L719.348 213.652 L708.862 188.143 L713.376 188.143 L721.477 208.421 L729.579 188.143 L734.093 188.143 L722.704 216.476 Z\" fill=\"#000000\" fill-rule=\"nonzero\" fill-opacity=\"1\" /><path clip-path=\"url(#clip870)\" d=\"M736.987 199.184 L749.463 199.184 L749.463 202.981 L736.987 202.981 L736.987 199.184 Z\" fill=\"#000000\" fill-rule=\"nonzero\" fill-opacity=\"1\" /><path clip-path=\"url(#clip870)\" d=\"M753.769 188.143 L758.028 188.143 L763.352 208.374 L768.653 188.143 L773.676 188.143 L779 208.374 L784.301 188.143 L788.56 188.143 L781.778 214.069 L776.755 214.069 L771.176 192.819 L765.574 214.069 L760.551 214.069 L753.769 188.143 Z\" fill=\"#000000\" fill-rule=\"nonzero\" fill-opacity=\"1\" /><path clip-path=\"url(#clip870)\" d=\"M795.019 188.143 L799.278 188.143 L799.278 214.069 L795.019 214.069 L795.019 188.143 M795.019 178.05 L799.278 178.05 L799.278 183.444 L795.019 183.444 L795.019 178.05 Z\" fill=\"#000000\" fill-rule=\"nonzero\" fill-opacity=\"1\" /><path clip-path=\"url(#clip870)\" d=\"M829.741 198.421 L829.741 214.069 L825.481 214.069 L825.481 198.559 Q825.481 194.879 824.046 193.05 Q822.611 191.222 819.741 191.222 Q816.292 191.222 814.301 193.421 Q812.31 195.62 812.31 199.416 L812.31 214.069 L808.028 214.069 L808.028 188.143 L812.31 188.143 L812.31 192.171 Q813.838 189.833 815.898 188.675 Q817.982 187.518 820.69 187.518 Q825.157 187.518 827.449 190.296 Q829.741 193.05 829.741 198.421 Z\" fill=\"#000000\" fill-rule=\"nonzero\" fill-opacity=\"1\" /><path clip-path=\"url(#clip870)\" d=\"M855.296 192.078 L855.296 178.05 L859.555 178.05 L859.555 214.069 L855.296 214.069 L855.296 210.18 Q853.954 212.495 851.893 213.629 Q849.856 214.74 846.986 214.74 Q842.287 214.74 839.324 210.99 Q836.384 207.24 836.384 201.129 Q836.384 195.018 839.324 191.268 Q842.287 187.518 846.986 187.518 Q849.856 187.518 851.893 188.652 Q853.954 189.763 855.296 192.078 M840.782 201.129 Q840.782 205.828 842.704 208.513 Q844.648 211.175 848.028 211.175 Q851.407 211.175 853.352 208.513 Q855.296 205.828 855.296 201.129 Q855.296 196.43 853.352 193.768 Q851.407 191.083 848.028 191.083 Q844.648 191.083 842.704 193.768 Q840.782 196.43 840.782 201.129 Z\" fill=\"#000000\" fill-rule=\"nonzero\" fill-opacity=\"1\" /><path clip-path=\"url(#clip870)\" d=\"M872.958 210.133 L889.277 210.133 L889.277 214.069 L867.333 214.069 L867.333 210.133 Q869.995 207.379 874.578 202.749 Q879.185 198.096 880.365 196.754 Q882.611 194.231 883.49 192.495 Q884.393 190.735 884.393 189.046 Q884.393 186.291 882.449 184.555 Q880.527 182.819 877.426 182.819 Q875.227 182.819 872.773 183.583 Q870.342 184.347 867.565 185.897 L867.565 181.175 Q870.389 180.041 872.842 179.462 Q875.296 178.884 877.333 178.884 Q882.703 178.884 885.898 181.569 Q889.092 184.254 889.092 188.745 Q889.092 190.874 888.282 192.796 Q887.495 194.694 885.389 197.286 Q884.81 197.958 881.708 201.175 Q878.606 204.37 872.958 210.133 Z\" fill=\"#000000\" fill-rule=\"nonzero\" fill-opacity=\"1\" /><path clip-path=\"url(#clip870)\" d=\"M909.092 182.587 Q905.481 182.587 903.652 186.152 Q901.847 189.694 901.847 196.823 Q901.847 203.93 903.652 207.495 Q905.481 211.036 909.092 211.036 Q912.726 211.036 914.532 207.495 Q916.361 203.93 916.361 196.823 Q916.361 189.694 914.532 186.152 Q912.726 182.587 909.092 182.587 M909.092 178.884 Q914.902 178.884 917.958 183.49 Q921.037 188.073 921.037 196.823 Q921.037 205.55 917.958 210.157 Q914.902 214.74 909.092 214.74 Q903.282 214.74 900.203 210.157 Q897.148 205.55 897.148 196.823 Q897.148 188.073 900.203 183.49 Q903.282 178.884 909.092 178.884 Z\" fill=\"#000000\" fill-rule=\"nonzero\" fill-opacity=\"1\" /><path clip-path=\"url(#clip870)\" d=\"M943.421 195.434 Q946.777 196.152 948.652 198.421 Q950.55 200.689 950.55 204.022 Q950.55 209.138 947.032 211.939 Q943.513 214.74 937.032 214.74 Q934.856 214.74 932.541 214.3 Q930.249 213.883 927.796 213.027 L927.796 208.513 Q929.74 209.647 932.055 210.226 Q934.37 210.805 936.893 210.805 Q941.291 210.805 943.583 209.069 Q945.898 207.333 945.898 204.022 Q945.898 200.967 943.745 199.254 Q941.615 197.518 937.796 197.518 L933.768 197.518 L933.768 193.675 L937.981 193.675 Q941.43 193.675 943.259 192.309 Q945.087 190.921 945.087 188.328 Q945.087 185.666 943.189 184.254 Q941.314 182.819 937.796 182.819 Q935.874 182.819 933.675 183.235 Q931.476 183.652 928.837 184.532 L928.837 180.365 Q931.499 179.624 933.814 179.254 Q936.152 178.884 938.212 178.884 Q943.536 178.884 946.638 181.314 Q949.74 183.722 949.74 187.842 Q949.74 190.712 948.097 192.703 Q946.453 194.671 943.421 195.434 Z\" fill=\"#000000\" fill-rule=\"nonzero\" fill-opacity=\"1\" /><path clip-path=\"url(#clip870)\" d=\"M969.416 182.587 Q965.805 182.587 963.976 186.152 Q962.171 189.694 962.171 196.823 Q962.171 203.93 963.976 207.495 Q965.805 211.036 969.416 211.036 Q973.05 211.036 974.856 207.495 Q976.684 203.93 976.684 196.823 Q976.684 189.694 974.856 186.152 Q973.05 182.587 969.416 182.587 M969.416 178.884 Q975.226 178.884 978.282 183.49 Q981.36 188.073 981.36 196.823 Q981.36 205.55 978.282 210.157 Q975.226 214.74 969.416 214.74 Q963.606 214.74 960.527 210.157 Q957.472 205.55 957.472 196.823 Q957.472 188.073 960.527 183.49 Q963.606 178.884 969.416 178.884 Z\" fill=\"#000000\" fill-rule=\"nonzero\" fill-opacity=\"1\" /><path clip-path=\"url(#clip870)\" d=\"M990.064 208.189 L994.948 208.189 L994.948 212.17 L991.152 219.578 L988.166 219.578 L990.064 212.17 L990.064 208.189 Z\" fill=\"#000000\" fill-rule=\"nonzero\" fill-opacity=\"1\" /><path clip-path=\"url(#clip870)\" d=\"M1029.9 216.476 Q1028.1 221.106 1026.38 222.518 Q1024.67 223.93 1021.8 223.93 L1018.4 223.93 L1018.4 220.365 L1020.9 220.365 Q1022.66 220.365 1023.63 219.532 Q1024.6 218.698 1025.78 215.596 L1026.55 213.652 L1016.06 188.143 L1020.57 188.143 L1028.67 208.421 L1036.78 188.143 L1041.29 188.143 L1029.9 216.476 Z\" fill=\"#000000\" fill-rule=\"nonzero\" fill-opacity=\"1\" /><path clip-path=\"url(#clip870)\" d=\"M1069.35 200.041 L1069.35 202.124 L1049.76 202.124 Q1050.04 206.522 1052.4 208.837 Q1054.79 211.129 1059.02 211.129 Q1061.48 211.129 1063.77 210.527 Q1066.08 209.925 1068.35 208.721 L1068.35 212.749 Q1066.06 213.721 1063.65 214.231 Q1061.24 214.74 1058.77 214.74 Q1052.56 214.74 1048.93 211.129 Q1045.32 207.518 1045.32 201.36 Q1045.32 194.995 1048.74 191.268 Q1052.19 187.518 1058.03 187.518 Q1063.26 187.518 1066.29 190.897 Q1069.35 194.254 1069.35 200.041 M1065.09 198.791 Q1065.04 195.296 1063.12 193.212 Q1061.22 191.129 1058.07 191.129 Q1054.51 191.129 1052.36 193.143 Q1050.23 195.157 1049.9 198.814 L1065.09 198.791 Z\" fill=\"#000000\" fill-rule=\"nonzero\" fill-opacity=\"1\" /><path clip-path=\"url(#clip870)\" d=\"M1088.12 201.036 Q1082.96 201.036 1080.97 202.217 Q1078.98 203.397 1078.98 206.245 Q1078.98 208.513 1080.46 209.856 Q1081.96 211.175 1084.53 211.175 Q1088.07 211.175 1090.2 208.675 Q1092.36 206.152 1092.36 201.985 L1092.36 201.036 L1088.12 201.036 M1096.61 199.277 L1096.61 214.069 L1092.36 214.069 L1092.36 210.133 Q1090.9 212.495 1088.72 213.629 Q1086.54 214.74 1083.4 214.74 Q1079.42 214.74 1077.05 212.518 Q1074.72 210.272 1074.72 206.522 Q1074.72 202.147 1077.63 199.925 Q1080.57 197.703 1086.38 197.703 L1092.36 197.703 L1092.36 197.286 Q1092.36 194.347 1090.41 192.749 Q1088.49 191.129 1084.99 191.129 Q1082.77 191.129 1080.67 191.661 Q1078.56 192.194 1076.61 193.259 L1076.61 189.323 Q1078.95 188.421 1081.15 187.981 Q1083.35 187.518 1085.43 187.518 Q1091.06 187.518 1093.84 190.434 Q1096.61 193.351 1096.61 199.277 Z\" fill=\"#000000\" fill-rule=\"nonzero\" fill-opacity=\"1\" /><path clip-path=\"url(#clip870)\" d=\"M1120.41 192.124 Q1119.69 191.708 1118.84 191.522 Q1118 191.314 1116.98 191.314 Q1113.37 191.314 1111.43 193.675 Q1109.51 196.013 1109.51 200.411 L1109.51 214.069 L1105.23 214.069 L1105.23 188.143 L1109.51 188.143 L1109.51 192.171 Q1110.85 189.809 1113 188.675 Q1115.16 187.518 1118.23 187.518 Q1118.67 187.518 1119.21 187.587 Q1119.74 187.634 1120.39 187.749 L1120.41 192.124 Z\" fill=\"#000000\" fill-rule=\"nonzero\" fill-opacity=\"1\" /><path clip-path=\"url(#clip870)\" d=\"M1144.58 210.133 L1160.9 210.133 L1160.9 214.069 L1138.95 214.069 L1138.95 210.133 Q1141.61 207.379 1146.2 202.749 Q1150.8 198.096 1151.98 196.754 Q1154.23 194.231 1155.11 192.495 Q1156.01 190.735 1156.01 189.046 Q1156.01 186.291 1154.07 184.555 Q1152.15 182.819 1149.04 182.819 Q1146.85 182.819 1144.39 183.583 Q1141.96 184.347 1139.18 185.897 L1139.18 181.175 Q1142.01 180.041 1144.46 179.462 Q1146.91 178.884 1148.95 178.884 Q1154.32 178.884 1157.52 181.569 Q1160.71 184.254 1160.71 188.745 Q1160.71 190.874 1159.9 192.796 Q1159.11 194.694 1157.01 197.286 Q1156.43 197.958 1153.33 201.175 Q1150.23 204.37 1144.58 210.133 Z\" fill=\"#000000\" fill-rule=\"nonzero\" fill-opacity=\"1\" /><path clip-path=\"url(#clip870)\" d=\"M1180.71 182.587 Q1177.1 182.587 1175.27 186.152 Q1173.47 189.694 1173.47 196.823 Q1173.47 203.93 1175.27 207.495 Q1177.1 211.036 1180.71 211.036 Q1184.35 211.036 1186.15 207.495 Q1187.98 203.93 1187.98 196.823 Q1187.98 189.694 1186.15 186.152 Q1184.35 182.587 1180.71 182.587 M1180.71 178.884 Q1186.52 178.884 1189.58 183.49 Q1192.66 188.073 1192.66 196.823 Q1192.66 205.55 1189.58 210.157 Q1186.52 214.74 1180.71 214.74 Q1174.9 214.74 1171.82 210.157 Q1168.77 205.55 1168.77 196.823 Q1168.77 188.073 1171.82 183.49 Q1174.9 178.884 1180.71 178.884 Z\" fill=\"#000000\" fill-rule=\"nonzero\" fill-opacity=\"1\" /><path clip-path=\"url(#clip870)\" d=\"M1215.04 195.434 Q1218.4 196.152 1220.27 198.421 Q1222.17 200.689 1222.17 204.022 Q1222.17 209.138 1218.65 211.939 Q1215.13 214.74 1208.65 214.74 Q1206.47 214.74 1204.16 214.3 Q1201.87 213.883 1199.41 213.027 L1199.41 208.513 Q1201.36 209.647 1203.67 210.226 Q1205.99 210.805 1208.51 210.805 Q1212.91 210.805 1215.2 209.069 Q1217.52 207.333 1217.52 204.022 Q1217.52 200.967 1215.36 199.254 Q1213.23 197.518 1209.41 197.518 L1205.39 197.518 L1205.39 193.675 L1209.6 193.675 Q1213.05 193.675 1214.88 192.309 Q1216.71 190.921 1216.71 188.328 Q1216.71 185.666 1214.81 184.254 Q1212.93 182.819 1209.41 182.819 Q1207.49 182.819 1205.29 183.235 Q1203.1 183.652 1200.46 184.532 L1200.46 180.365 Q1203.12 179.624 1205.43 179.254 Q1207.77 178.884 1209.83 178.884 Q1215.16 178.884 1218.26 181.314 Q1221.36 183.722 1221.36 187.842 Q1221.36 190.712 1219.72 192.703 Q1218.07 194.671 1215.04 195.434 Z\" fill=\"#000000\" fill-rule=\"nonzero\" fill-opacity=\"1\" /><path clip-path=\"url(#clip870)\" d=\"M1241.03 182.587 Q1237.42 182.587 1235.6 186.152 Q1233.79 189.694 1233.79 196.823 Q1233.79 203.93 1235.6 207.495 Q1237.42 211.036 1241.03 211.036 Q1244.67 211.036 1246.47 207.495 Q1248.3 203.93 1248.3 196.823 Q1248.3 189.694 1246.47 186.152 Q1244.67 182.587 1241.03 182.587 M1241.03 178.884 Q1246.84 178.884 1249.9 183.49 Q1252.98 188.073 1252.98 196.823 Q1252.98 205.55 1249.9 210.157 Q1246.84 214.74 1241.03 214.74 Q1235.22 214.74 1232.15 210.157 Q1229.09 205.55 1229.09 196.823 Q1229.09 188.073 1232.15 183.49 Q1235.22 178.884 1241.03 178.884 Z\" fill=\"#000000\" fill-rule=\"nonzero\" fill-opacity=\"1\" /></svg>\n"
      ],
      "text/html": [
       "<img src=\"data:image/png;base64,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\" />"
      ]
     },
     "metadata": {},
     "output_type": "display_data"
    }
   ],
   "source": [
    "function plot_input_profiles(conn::DuckDB.DB, ::Val{:wind}, year::Int)\n",
    "    plot()\n",
    "    profiles = filter(\n",
    "        row -> occursin(String(:wind), row.profile_name) && row.year == year,\n",
    "        TIO.get_table(conn, \"profiles_rep_periods\")\n",
    "    )\n",
    "\n",
    "    for pname in unique(profiles.profile_name)\n",
    "        subdf = profiles[profiles.profile_name .== pname, :]\n",
    "        plot!(subdf.value, label=\"$(pname), year $year\")\n",
    "    end\n",
    "    xlabel!(\"Time\")\n",
    "    ylabel!(\"Capacity factor\")\n",
    "end\n",
    "\n",
    "plot_input_profiles(connection_standard, Val(:wind), 2030)"
   ]
  },
  {
   "cell_type": "code",
   "execution_count": 21,
   "metadata": {},
   "outputs": [
    {
     "name": "stdout",
     "output_type": "stream",
     "text": [
      "fieldnames(TEM.EnergyProblem) = (:db_connection, :variables, :expressions, :constraints, :profiles, :model_parameters, :model, :solved, :objective_value, :termination_status)\n"
     ]
    },
    {
     "data": {
      "text/html": [
       "<div><div style = \"float: left;\"><span>134×1 DataFrame</span></div><div style = \"float: right;\"><span style = \"font-style: italic;\">109 rows omitted</span></div><div style = \"clear: both;\"></div></div><div class = \"data-frame\" style = \"overflow-x: scroll;\"><table class = \"data-frame\" style = \"margin-bottom: 6px;\"><thead><tr class = \"header\"><th class = \"rowNumber\" style = \"font-weight: bold; text-align: right;\">Row</th><th style = \"text-align: left;\">name</th></tr><tr class = \"subheader headerLastRow\"><th class = \"rowNumber\" style = \"font-weight: bold; text-align: right;\"></th><th title = \"String\" style = \"text-align: left;\">String</th></tr></thead><tbody><tr><td class = \"rowNumber\" style = \"font-weight: bold; text-align: right;\">1</td><td style = \"text-align: left;\">asset</td></tr><tr><td class = \"rowNumber\" style = \"font-weight: bold; text-align: right;\">2</td><td style = \"text-align: left;\">asset_both</td></tr><tr><td class = \"rowNumber\" style = \"font-weight: bold; text-align: right;\">3</td><td style = \"text-align: left;\">asset_commission</td></tr><tr><td class = \"rowNumber\" style = \"font-weight: bold; text-align: right;\">4</td><td style = \"text-align: left;\">asset_milestone</td></tr><tr><td class = \"rowNumber\" style = \"font-weight: bold; text-align: right;\">5</td><td style = \"text-align: left;\">asset_time_resolution_over_clustered_year</td></tr><tr><td class = \"rowNumber\" style = \"font-weight: bold; text-align: right;\">6</td><td style = \"text-align: left;\">asset_time_resolution_rep_period</td></tr><tr><td class = \"rowNumber\" style = \"font-weight: bold; text-align: right;\">7</td><td style = \"text-align: left;\">assets_profiles</td></tr><tr><td class = \"rowNumber\" style = \"font-weight: bold; text-align: right;\">8</td><td style = \"text-align: left;\">assets_rep_periods_partitions</td></tr><tr><td class = \"rowNumber\" style = \"font-weight: bold; text-align: right;\">9</td><td style = \"text-align: left;\">assets_timeframe_partitions</td></tr><tr><td class = \"rowNumber\" style = \"font-weight: bold; text-align: right;\">10</td><td style = \"text-align: left;\">assets_timeframe_profiles</td></tr><tr><td class = \"rowNumber\" style = \"font-weight: bold; text-align: right;\">11</td><td style = \"text-align: left;\">cons_balance_consumer</td></tr><tr><td class = \"rowNumber\" style = \"font-weight: bold; text-align: right;\">12</td><td style = \"text-align: left;\">cons_balance_conversion</td></tr><tr><td class = \"rowNumber\" style = \"font-weight: bold; text-align: right;\">13</td><td style = \"text-align: left;\">cons_balance_hub</td></tr><tr><td style = \"text-align: right;\">&vellip;</td><td style = \"text-align: right;\">&vellip;</td></tr><tr><td class = \"rowNumber\" style = \"font-weight: bold; text-align: right;\">123</td><td style = \"text-align: left;\">var_assets_investment</td></tr><tr><td class = \"rowNumber\" style = \"font-weight: bold; text-align: right;\">124</td><td style = \"text-align: left;\">var_assets_investment_energy</td></tr><tr><td class = \"rowNumber\" style = \"font-weight: bold; text-align: right;\">125</td><td style = \"text-align: left;\">var_electricity_angle</td></tr><tr><td class = \"rowNumber\" style = \"font-weight: bold; text-align: right;\">126</td><td style = \"text-align: left;\">var_flow</td></tr><tr><td class = \"rowNumber\" style = \"font-weight: bold; text-align: right;\">127</td><td style = \"text-align: left;\">var_flows_decommission</td></tr><tr><td class = \"rowNumber\" style = \"font-weight: bold; text-align: right;\">128</td><td style = \"text-align: left;\">var_flows_investment</td></tr><tr><td class = \"rowNumber\" style = \"font-weight: bold; text-align: right;\">129</td><td style = \"text-align: left;\">var_is_charging</td></tr><tr><td class = \"rowNumber\" style = \"font-weight: bold; text-align: right;\">130</td><td style = \"text-align: left;\">var_storage_level_over_clustered_year</td></tr><tr><td class = \"rowNumber\" style = \"font-weight: bold; text-align: right;\">131</td><td style = \"text-align: left;\">var_storage_level_rep_period</td></tr><tr><td class = \"rowNumber\" style = \"font-weight: bold; text-align: right;\">132</td><td style = \"text-align: left;\">var_units_on</td></tr><tr><td class = \"rowNumber\" style = \"font-weight: bold; text-align: right;\">133</td><td style = \"text-align: left;\">var_vintage_flow</td></tr><tr><td class = \"rowNumber\" style = \"font-weight: bold; text-align: right;\">134</td><td style = \"text-align: left;\">year_data</td></tr></tbody></table></div>"
      ],
      "text/latex": [
       "\\begin{tabular}{r|c}\n",
       "\t& name\\\\\n",
       "\t\\hline\n",
       "\t& String\\\\\n",
       "\t\\hline\n",
       "\t1 & asset \\\\\n",
       "\t2 & asset\\_both \\\\\n",
       "\t3 & asset\\_commission \\\\\n",
       "\t4 & asset\\_milestone \\\\\n",
       "\t5 & asset\\_time\\_resolution\\_over\\_clustered\\_year \\\\\n",
       "\t6 & asset\\_time\\_resolution\\_rep\\_period \\\\\n",
       "\t7 & assets\\_profiles \\\\\n",
       "\t8 & assets\\_rep\\_periods\\_partitions \\\\\n",
       "\t9 & assets\\_timeframe\\_partitions \\\\\n",
       "\t10 & assets\\_timeframe\\_profiles \\\\\n",
       "\t11 & cons\\_balance\\_consumer \\\\\n",
       "\t12 & cons\\_balance\\_conversion \\\\\n",
       "\t13 & cons\\_balance\\_hub \\\\\n",
       "\t14 & cons\\_balance\\_storage\\_over\\_clustered\\_year \\\\\n",
       "\t15 & cons\\_balance\\_storage\\_rep\\_period \\\\\n",
       "\t16 & cons\\_capacity\\_incoming\\_simple\\_method \\\\\n",
       "\t17 & cons\\_capacity\\_incoming\\_simple\\_method\\_investable\\_storage\\_with\\_binary \\\\\n",
       "\t18 & cons\\_capacity\\_incoming\\_simple\\_method\\_non\\_investable\\_storage\\_with\\_binary \\\\\n",
       "\t19 & cons\\_capacity\\_outgoing\\_compact\\_method \\\\\n",
       "\t20 & cons\\_capacity\\_outgoing\\_semi\\_compact\\_method \\\\\n",
       "\t21 & cons\\_capacity\\_outgoing\\_simple\\_method \\\\\n",
       "\t22 & cons\\_capacity\\_outgoing\\_simple\\_method\\_investable\\_storage\\_with\\_binary \\\\\n",
       "\t23 & cons\\_capacity\\_outgoing\\_simple\\_method\\_non\\_investable\\_storage\\_with\\_binary \\\\\n",
       "\t24 & cons\\_dc\\_power\\_flow \\\\\n",
       "\t$\\dots$ & $\\dots$ \\\\\n",
       "\\end{tabular}\n"
      ],
      "text/plain": [
       "\u001b[1m134×1 DataFrame\u001b[0m\n",
       "\u001b[1m Row \u001b[0m│\u001b[1m name                              \u001b[0m\n",
       "     │\u001b[90m String                            \u001b[0m\n",
       "─────┼───────────────────────────────────\n",
       "   1 │ asset\n",
       "   2 │ asset_both\n",
       "   3 │ asset_commission\n",
       "   4 │ asset_milestone\n",
       "   5 │ asset_time_resolution_over_clust…\n",
       "   6 │ asset_time_resolution_rep_period\n",
       "   7 │ assets_profiles\n",
       "   8 │ assets_rep_periods_partitions\n",
       "  ⋮  │                 ⋮\n",
       " 128 │ var_flows_investment\n",
       " 129 │ var_is_charging\n",
       " 130 │ var_storage_level_over_clustered…\n",
       " 131 │ var_storage_level_rep_period\n",
       " 132 │ var_units_on\n",
       " 133 │ var_vintage_flow\n",
       " 134 │ year_data\n",
       "\u001b[36m                         119 rows omitted\u001b[0m"
      ]
     },
     "metadata": {},
     "output_type": "display_data"
    }
   ],
   "source": [
    "@show fieldnames(TEM.EnergyProblem)\n",
    "# @show dump(TEM.EnergyProblem)\n",
    "# var_flow = multiyear_vintage_compact.variables[:flow]\n",
    "# fieldnames(typeof(var_flow))\n",
    "# typeof(var_flow.indices)\n",
    "# var_flow.indices.tbl[:id]\n",
    "multiyear_no_vintage.expressions[:available_asset_units_simple_method]\n",
    "TIO.show_tables(connection_vintage_compact)\n"
   ]
  }
 ],
 "metadata": {
  "kernelspec": {
   "display_name": "Julia 1.10.10",
   "language": "julia",
   "name": "julia-1.10"
  },
  "language_info": {
   "file_extension": ".jl",
   "mimetype": "application/julia",
   "name": "julia",
   "version": "1.10.10"
  },
  "orig_nbformat": 4
 },
 "nbformat": 4,
 "nbformat_minor": 2
}
